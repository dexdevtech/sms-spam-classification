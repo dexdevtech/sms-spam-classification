{
 "cells": [
  {
   "cell_type": "markdown",
   "id": "2b716526",
   "metadata": {},
   "source": [
    "<center><h1 style=\"font-family: 'Georgia'; color: #f2f2f2; background-color:#800040; padding: 20px;\">Optimization: Text Message Spam Detection\n",
    "    </h1></center>"
   ]
  },
  {
   "cell_type": "markdown",
   "id": "c4e0c579",
   "metadata": {},
   "source": [
    "<p style=\"font-family: 'Georgia'; font-size: 16px; font-weight: 800; color: #800040;\">\n",
    "This is the optimization for the 70-30 dataset. The model with highest performance in training was Bernoulli Naive Bayes\n",
    "</p>"
   ]
  },
  {
   "cell_type": "markdown",
   "id": "d71bd21a",
   "metadata": {},
   "source": [
    "<h1 style=\"font-family: 'Georgia'; font-size: 24px; color: #008000;\">Import Libraries and Load Dataset</h1>"
   ]
  },
  {
   "cell_type": "code",
   "execution_count": 39,
   "id": "cf4183fa",
   "metadata": {},
   "outputs": [],
   "source": [
    "#IMPORT LIBRARIES\n",
    "import numpy as np\n",
    "import pandas as pd\n",
    "import matplotlib.pyplot as plt\n",
    "import seaborn as sns\n",
    "\n",
    "from sklearn.model_selection import StratifiedKFold\n",
    "from sklearn.model_selection import cross_validate\n",
    "from sklearn.metrics import accuracy_score, precision_score, f1_score, recall_score"
   ]
  },
  {
   "cell_type": "code",
   "execution_count": 6,
   "id": "87dbaac7",
   "metadata": {},
   "outputs": [
    {
     "data": {
      "text/html": [
       "<div>\n",
       "<style scoped>\n",
       "    .dataframe tbody tr th:only-of-type {\n",
       "        vertical-align: middle;\n",
       "    }\n",
       "\n",
       "    .dataframe tbody tr th {\n",
       "        vertical-align: top;\n",
       "    }\n",
       "\n",
       "    .dataframe thead th {\n",
       "        text-align: right;\n",
       "    }\n",
       "</style>\n",
       "<table border=\"1\" class=\"dataframe\">\n",
       "  <thead>\n",
       "    <tr style=\"text-align: right;\">\n",
       "      <th></th>\n",
       "      <th>tag</th>\n",
       "      <th>message_transformed</th>\n",
       "    </tr>\n",
       "  </thead>\n",
       "  <tbody>\n",
       "    <tr>\n",
       "      <th>0</th>\n",
       "      <td>0</td>\n",
       "      <td>shop lor rain mah hard 2 leav orchard</td>\n",
       "    </tr>\n",
       "    <tr>\n",
       "      <th>1</th>\n",
       "      <td>0</td>\n",
       "      <td>u still paint ur wall</td>\n",
       "    </tr>\n",
       "    <tr>\n",
       "      <th>2</th>\n",
       "      <td>0</td>\n",
       "      <td>lol oh got friend dog</td>\n",
       "    </tr>\n",
       "    <tr>\n",
       "      <th>3</th>\n",
       "      <td>0</td>\n",
       "      <td>sure get acknowledg astoundingli tactless gene...</td>\n",
       "    </tr>\n",
       "    <tr>\n",
       "      <th>4</th>\n",
       "      <td>0</td>\n",
       "      <td>stuck da middl da row da right hand side da lt</td>\n",
       "    </tr>\n",
       "    <tr>\n",
       "      <th>5</th>\n",
       "      <td>0</td>\n",
       "      <td>u get messag</td>\n",
       "    </tr>\n",
       "    <tr>\n",
       "      <th>6</th>\n",
       "      <td>0</td>\n",
       "      <td>gal n boy walk park hold ur hand u think would...</td>\n",
       "    </tr>\n",
       "    <tr>\n",
       "      <th>7</th>\n",
       "      <td>0</td>\n",
       "      <td>hi juan im come home fri hey cours expect welc...</td>\n",
       "    </tr>\n",
       "    <tr>\n",
       "      <th>8</th>\n",
       "      <td>0</td>\n",
       "      <td>ok need tell anyth go sleep good night</td>\n",
       "    </tr>\n",
       "    <tr>\n",
       "      <th>9</th>\n",
       "      <td>0</td>\n",
       "      <td>yep pretti sculptur</td>\n",
       "    </tr>\n",
       "  </tbody>\n",
       "</table>\n",
       "</div>"
      ],
      "text/plain": [
       "   tag                                message_transformed\n",
       "0    0              shop lor rain mah hard 2 leav orchard\n",
       "1    0                              u still paint ur wall\n",
       "2    0                              lol oh got friend dog\n",
       "3    0  sure get acknowledg astoundingli tactless gene...\n",
       "4    0     stuck da middl da row da right hand side da lt\n",
       "5    0                                       u get messag\n",
       "6    0  gal n boy walk park hold ur hand u think would...\n",
       "7    0  hi juan im come home fri hey cours expect welc...\n",
       "8    0             ok need tell anyth go sleep good night\n",
       "9    0                                yep pretti sculptur"
      ]
     },
     "execution_count": 6,
     "metadata": {},
     "output_type": "execute_result"
    }
   ],
   "source": [
    "#LOAD THE DATASET\n",
    "df = pd.read_csv('../datasets/training_datasets/training_data7030.csv') \n",
    "df.head(10)"
   ]
  },
  {
   "cell_type": "code",
   "execution_count": 7,
   "id": "b0b6e24d",
   "metadata": {},
   "outputs": [
    {
     "data": {
      "text/plain": [
       "Index(['tag', 'message'], dtype='object')"
      ]
     },
     "execution_count": 7,
     "metadata": {},
     "output_type": "execute_result"
    }
   ],
   "source": [
    "# RENAME TO PROPER COLUMN NAMES\n",
    "df.rename(columns = {'tag' : 'tag',\n",
    "                      'message_transformed' : 'message'}, \n",
    "          inplace=True)\n",
    "df.columns"
   ]
  },
  {
   "cell_type": "code",
   "execution_count": 8,
   "id": "3e7bf48b",
   "metadata": {},
   "outputs": [
    {
     "data": {
      "text/plain": [
       "tag        0\n",
       "message    0\n",
       "dtype: int64"
      ]
     },
     "execution_count": 8,
     "metadata": {},
     "output_type": "execute_result"
    }
   ],
   "source": [
    "# IT SEEMS LIKE WE HAVE NULL VALUES FROM SAVING THE DATASET, WE NEED TO DELETE THESE NULL VALUES FIRST\n",
    "df.dropna(inplace=True)\n",
    "df.isnull().sum()"
   ]
  },
  {
   "cell_type": "markdown",
   "id": "75309547",
   "metadata": {},
   "source": [
    "<h1 style=\"font-family: 'Georgia'; font-size: 24px; color: #008000;\">Vectorize Data</h1>"
   ]
  },
  {
   "cell_type": "code",
   "execution_count": 9,
   "id": "bb4775d2",
   "metadata": {},
   "outputs": [],
   "source": [
    "#Vectorizers will transform textual data to an array of numerical data\n",
    "from sklearn.feature_extraction.text import CountVectorizer\n",
    "cv = CountVectorizer()\n",
    "\n",
    "X = cv.fit_transform(df['message']).toarray() # array of numeric values\n",
    "y = df['tag'].values                       # numeric values"
   ]
  },
  {
   "cell_type": "markdown",
   "id": "97b74218",
   "metadata": {},
   "source": [
    "<h1 style=\"font-family: 'Georgia'; font-size: 24px; color: #008000;\">Split the Dataset</h1>"
   ]
  },
  {
   "cell_type": "code",
   "execution_count": 10,
   "id": "191c033d",
   "metadata": {},
   "outputs": [],
   "source": [
    "# SPLIT THE DATASET\n",
    "from sklearn.model_selection import train_test_split as tts\n",
    "X_train, X_test, y_train, y_test = tts(X, y, train_size=0.8, random_state=0)"
   ]
  },
  {
   "cell_type": "markdown",
   "id": "dffc9f84",
   "metadata": {},
   "source": [
    "<h1 style=\"font-family: 'Georgia'; font-size: 24px; color: #008000;\">Loading the Model</h1>"
   ]
  },
  {
   "cell_type": "code",
   "execution_count": 12,
   "id": "12aa4574",
   "metadata": {},
   "outputs": [],
   "source": [
    "from sklearn.naive_bayes import BernoulliNB\n",
    "bnb = BernoulliNB()"
   ]
  },
  {
   "cell_type": "markdown",
   "id": "1e0a330e",
   "metadata": {},
   "source": [
    "<h1 style=\"font-family: 'Georgia'; font-size: 24px; color: #008000;\">Randomized Search CV</h1>"
   ]
  },
  {
   "cell_type": "code",
   "execution_count": 14,
   "id": "f2d9c648",
   "metadata": {},
   "outputs": [],
   "source": [
    "from sklearn.model_selection import StratifiedKFold\n",
    "k_Fold = StratifiedKFold (n_splits=5, shuffle=True, random_state=0)\n",
    "\n",
    "# To Import the RandomizedSearch Class\n",
    "from sklearn.model_selection import RandomizedSearchCV"
   ]
  },
  {
   "cell_type": "code",
   "execution_count": 20,
   "id": "38d91a5b",
   "metadata": {},
   "outputs": [],
   "source": [
    "# To Set Parameters to be Optimized Under the Bernoulli Naive Bayes Model\n",
    "\n",
    "parameters = {\n",
    "    'alpha': [0.0, 0.1, 0.05, 0.1, 0.05, 1.0, 2.0],\n",
    "    'binarize': [None, 0.0, 0.1, 0.5, 1.0],\n",
    "    'class_prior': [None, [0.2, 0.8], [0.5, 0.5]],\n",
    "    'fit_prior': [True, False],\n",
    "    'force_alpha': [False, True],  # Assuming 'force_alpha' is a custom parameter\n",
    "}\n",
    "\n",
    "\n",
    "randomized_search = RandomizedSearchCV(estimator = bnb,\n",
    "                                       param_distributions = parameters,\n",
    "                                       n_iter = 70,\n",
    "                                       scoring = 'accuracy',\n",
    "                                       cv = k_Fold,\n",
    "                                       n_jobs = -1,\n",
    "                                       random_state = 0)\n",
    "\n",
    "randomized_search = randomized_search.fit(X, y)"
   ]
  },
  {
   "cell_type": "code",
   "execution_count": 22,
   "id": "7fe8e638",
   "metadata": {},
   "outputs": [
    {
     "name": "stdout",
     "output_type": "stream",
     "text": [
      "Best Accuracy: 0.9732558139534884\n",
      "\n",
      "Best Parameters: {'force_alpha': False, 'fit_prior': True, 'class_prior': None, 'binarize': None, 'alpha': 0.1}\n"
     ]
    }
   ],
   "source": [
    "# To Identify the Best Accuracy and Best Features\n",
    "best_accuracy = randomized_search.best_score_\n",
    "best_parameters= randomized_search.best_params_\n",
    "\n",
    "print('Best Accuracy:', best_accuracy)\n",
    "print()\n",
    "print('Best Parameters:', best_parameters)"
   ]
  },
  {
   "cell_type": "markdown",
   "id": "4f7c1b79",
   "metadata": {},
   "source": [
    "<h1 style=\"font-family: 'Georgia'; font-size: 24px; color: #008000;\">Train a Model Using Optimized Parameters(Cross Validation)</h1>"
   ]
  },
  {
   "cell_type": "code",
   "execution_count": 33,
   "id": "ac1dc46c",
   "metadata": {},
   "outputs": [],
   "source": [
    "bnb_optimized = BernoulliNB(force_alpha=False,\n",
    "                            fit_prior=True,\n",
    "                            class_prior=None, \n",
    "                            binarize=None,\n",
    "                            alpha=0.1)"
   ]
  },
  {
   "cell_type": "code",
   "execution_count": 34,
   "id": "985c6ffd",
   "metadata": {},
   "outputs": [],
   "source": [
    "models = {\n",
    "    'BNB' : bnb_optimized\n",
    "}\n",
    "\n",
    "# STORE METRICS FOR VISUALIZATION\n",
    "accuracy_list_cv = []\n",
    "precision_list_cv = []\n",
    "recall_list_cv = []\n",
    "f1_list_cv = []\n",
    "\n",
    "\n",
    "# DEFINE EVALUATION METRICS\n",
    "scoring = ['accuracy', 'precision', 'recall', 'f1']\n",
    "\n",
    "# KFOLDS CONFIGURATION\n",
    "num_folds = 5\n",
    "\n",
    "cv = StratifiedKFold(n_splits=num_folds, shuffle=True, random_state=0)"
   ]
  },
  {
   "cell_type": "code",
   "execution_count": 35,
   "id": "ecf6f56d",
   "metadata": {},
   "outputs": [
    {
     "name": "stdout",
     "output_type": "stream",
     "text": [
      "For BNB:\n",
      "\t Mean Accuracy: 0.9732558139534884\n",
      "\t Mean Precision: 0.9819691303815283\n",
      "\t Mean Recall: 0.9280057466103978\n",
      "\t Mean F1 Score: 0.9542035469308582\n"
     ]
    }
   ],
   "source": [
    "# Loop through each model and perform cross-validation\n",
    "for name, model in models.items():\n",
    "    scores = cross_validate(estimator=model, X=X, y=y, cv=cv, scoring=scoring)\n",
    "    \n",
    "    mean_accuracy = np.mean(scores['test_accuracy'])\n",
    "    mean_precision = np.mean(scores['test_precision'])\n",
    "    mean_recall = np.mean(scores['test_recall'])\n",
    "    mean_f1 = np.mean(scores['test_f1'])\n",
    "    \n",
    "    accuracy_list_cv.append(mean_accuracy)\n",
    "    precision_list_cv.append(mean_precision)\n",
    "    recall_list_cv.append(mean_recall)\n",
    "    f1_list_cv.append(mean_f1)\n",
    "\n",
    "    print(f'For {name}:')\n",
    "    print(f'\\t Mean Accuracy: {mean_accuracy}')\n",
    "    print(f'\\t Mean Precision: {mean_precision}')\n",
    "    print(f'\\t Mean Recall: {mean_recall}')\n",
    "    print(f'\\t Mean F1 Score: {mean_f1}')\n"
   ]
  },
  {
   "cell_type": "code",
   "execution_count": 36,
   "id": "b35d824c",
   "metadata": {},
   "outputs": [
    {
     "data": {
      "text/html": [
       "<div>\n",
       "<style scoped>\n",
       "    .dataframe tbody tr th:only-of-type {\n",
       "        vertical-align: middle;\n",
       "    }\n",
       "\n",
       "    .dataframe tbody tr th {\n",
       "        vertical-align: top;\n",
       "    }\n",
       "\n",
       "    .dataframe thead th {\n",
       "        text-align: right;\n",
       "    }\n",
       "</style>\n",
       "<table border=\"1\" class=\"dataframe\">\n",
       "  <thead>\n",
       "    <tr style=\"text-align: right;\">\n",
       "      <th></th>\n",
       "      <th>Algorithm</th>\n",
       "      <th>Accuracy</th>\n",
       "      <th>Precision</th>\n",
       "      <th>Recall</th>\n",
       "      <th>F1 Score</th>\n",
       "    </tr>\n",
       "  </thead>\n",
       "  <tbody>\n",
       "    <tr>\n",
       "      <th>0</th>\n",
       "      <td>BNB</td>\n",
       "      <td>0.973256</td>\n",
       "      <td>0.981969</td>\n",
       "      <td>0.928006</td>\n",
       "      <td>0.954204</td>\n",
       "    </tr>\n",
       "  </tbody>\n",
       "</table>\n",
       "</div>"
      ],
      "text/plain": [
       "  Algorithm  Accuracy  Precision    Recall  F1 Score\n",
       "0       BNB  0.973256   0.981969  0.928006  0.954204"
      ]
     },
     "execution_count": 36,
     "metadata": {},
     "output_type": "execute_result"
    }
   ],
   "source": [
    "#CREATE A DATAFRAME TO FOR GRAPHICAL VISUALIZATION\n",
    "model_performance_cv = pd.DataFrame({'Algorithm' : models.keys(), \n",
    "                                  'Accuracy' : accuracy_list_cv, \n",
    "                                  'Precision' : precision_list_cv,\n",
    "                                  'Recall' : recall_list_cv,\n",
    "                                  'F1 Score' : f1_list_cv})\n",
    "model_performance_cv.sort_values('Accuracy', ascending=False)"
   ]
  },
  {
   "cell_type": "code",
   "execution_count": 41,
   "id": "1af681a4",
   "metadata": {},
   "outputs": [
    {
     "data": {
      "image/png": "[encoded data removed]",
      "text/plain": [
       "<Figure size 1363.5x500 with 1 Axes>"
      ]
     },
     "metadata": {},
     "output_type": "display_data"
    }
   ],
   "source": [
    "#TO VISUALIZE performance_df1\n",
    "performance_df_cv = pd.melt(model_performance_cv, id_vars=\"Algorithm\")\n",
    "\n",
    "sns.catplot(x='Algorithm', \n",
    "            y='value', \n",
    "            hue='variable', \n",
    "            data=performance_df_cv, \n",
    "            kind='bar', \n",
    "            height=5, \n",
    "            aspect=2.5)  # Adjust the aspect value for width\n",
    "plt.ylim(0.5, 1.0)\n",
    "plt.xticks(rotation=30)\n",
    "plt.show()"
   ]
  },
  {
   "cell_type": "markdown",
   "id": "0827c859",
   "metadata": {},
   "source": [
    "<p style=\"font-family: 'Georgia'; font-size: 16px; font-weight: 800; color: #800040;\">\n",
    "    Accuracy: 97.32%\n",
    "</p>\n",
    "<p style=\"font-family: 'Georgia'; font-size: 16px; font-weight: 800; color: #800040;\">\n",
    "    Precision: 98.20%\n",
    "</p>\n",
    "<p style=\"font-family: 'Georgia'; font-size: 16px; font-weight: 800; color: #800040;\">\n",
    "    Recall: 92.80%\n",
    "</p>\n",
    "<p style=\"font-family: 'Georgia'; font-size: 16px; font-weight: 800; color: #800040;\">\n",
    "    F1 Score: 95.42%\n",
    "</p>"
   ]
  },
  {
   "cell_type": "code",
   "execution_count": null,
   "id": "c23029d8",
   "metadata": {},
   "outputs": [],
   "source": []
  },
  {
   "cell_type": "code",
   "execution_count": null,
   "id": "7eb591b3",
   "metadata": {},
   "outputs": [],
   "source": []
  },
  {
   "cell_type": "code",
   "execution_count": null,
   "id": "5dac6c66",
   "metadata": {},
   "outputs": [],
   "source": []
  },
  {
   "cell_type": "code",
   "execution_count": null,
   "id": "7877955a",
   "metadata": {},
   "outputs": [],
   "source": []
  },
  {
   "cell_type": "code",
   "execution_count": null,
   "id": "597bb2ec",
   "metadata": {},
   "outputs": [],
   "source": []
  },
  {
   "cell_type": "code",
   "execution_count": null,
   "id": "d1e8b833",
   "metadata": {},
   "outputs": [],
   "source": []
  }
 ],
 "metadata": {
  "kernelspec": {
   "display_name": "Python 3 (ipykernel)",
   "language": "python",
   "name": "python3"
  },
  "language_info": {
   "codemirror_mode": {
    "name": "ipython",
    "version": 3
   },
   "file_extension": ".py",
   "mimetype": "text/x-python",
   "name": "python",
   "nbconvert_exporter": "python",
   "pygments_lexer": "ipython3",
   "version": "3.9.16"
  }
 },
 "nbformat": 4,
 "nbformat_minor": 5
}
