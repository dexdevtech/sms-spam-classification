{
 "cells": [
  {
   "cell_type": "markdown",
   "id": "73e49503",
   "metadata": {
    "id": "73e49503"
   },
   "source": [
    "# <center> Optimization <center>"
   ]
  },
  {
   "cell_type": "code",
   "execution_count": null,
   "id": "8dca82ee",
   "metadata": {
    "id": "8dca82ee"
   },
   "outputs": [],
   "source": [
    "#IMPORT LIBRARIES\n",
    "import numpy as np\n",
    "import pandas as pd\n",
    "\n",
    "from sklearn.model_selection import StratifiedKFold\n",
    "from sklearn.model_selection import cross_val_score\n",
    "from sklearn.metrics import accuracy_score, precision_score, f1_score, recall_score"
   ]
  },
  {
   "cell_type": "code",
   "execution_count": null,
   "id": "dCouR49JMPmT",
   "metadata": {
    "colab": {
     "base_uri": "https://localhost:8080/",
     "height": 206
    },
    "id": "dCouR49JMPmT",
    "outputId": "46e0b047-93dd-4cc4-8ba7-f50175251ae2"
   },
   "outputs": [
    {
     "data": {
      "text/html": [
       "<div>\n",
       "<style scoped>\n",
       "    .dataframe tbody tr th:only-of-type {\n",
       "        vertical-align: middle;\n",
       "    }\n",
       "\n",
       "    .dataframe tbody tr th {\n",
       "        vertical-align: top;\n",
       "    }\n",
       "\n",
       "    .dataframe thead th {\n",
       "        text-align: right;\n",
       "    }\n",
       "</style>\n",
       "<table border=\"1\" class=\"dataframe\">\n",
       "  <thead>\n",
       "    <tr style=\"text-align: right;\">\n",
       "      <th></th>\n",
       "      <th>target</th>\n",
       "      <th>transformed_text</th>\n",
       "    </tr>\n",
       "  </thead>\n",
       "  <tbody>\n",
       "    <tr>\n",
       "      <th>0</th>\n",
       "      <td>0</td>\n",
       "      <td>thk got ta go home urself co b go shop 4 fren ...</td>\n",
       "    </tr>\n",
       "    <tr>\n",
       "      <th>1</th>\n",
       "      <td>0</td>\n",
       "      <td>keep payasam rinu bring</td>\n",
       "    </tr>\n",
       "    <tr>\n",
       "      <th>2</th>\n",
       "      <td>0</td>\n",
       "      <td>money money aint thing sha</td>\n",
       "    </tr>\n",
       "    <tr>\n",
       "      <th>3</th>\n",
       "      <td>0</td>\n",
       "      <td>ever one foot</td>\n",
       "    </tr>\n",
       "    <tr>\n",
       "      <th>4</th>\n",
       "      <td>1</td>\n",
       "      <td>notic kopiko blanca congratul sim card number ...</td>\n",
       "    </tr>\n",
       "  </tbody>\n",
       "</table>\n",
       "</div>"
      ],
      "text/plain": [
       "   target                                   transformed_text\n",
       "0       0  thk got ta go home urself co b go shop 4 fren ...\n",
       "1       0                            keep payasam rinu bring\n",
       "2       0                         money money aint thing sha\n",
       "3       0                                      ever one foot\n",
       "4       1  notic kopiko blanca congratul sim card number ..."
      ]
     },
     "execution_count": 2,
     "metadata": {},
     "output_type": "execute_result"
    }
   ],
   "source": [
    "#LOAD THE DATASET\n",
    "df = pd.read_csv('Group_9_Capstone_EDA_Dataset.csv') \n",
    "df.head(5)"
   ]
  },
  {
   "cell_type": "code",
   "execution_count": null,
   "id": "sgKHUzh0PWa6",
   "metadata": {
    "colab": {
     "base_uri": "https://localhost:8080/"
    },
    "id": "sgKHUzh0PWa6",
    "outputId": "2a300148-7bc5-4e7e-86d6-8379799d9eec"
   },
   "outputs": [
    {
     "data": {
      "text/plain": [
       "(3232, 2)"
      ]
     },
     "execution_count": 3,
     "metadata": {},
     "output_type": "execute_result"
    }
   ],
   "source": [
    "df.shape"
   ]
  },
  {
   "cell_type": "code",
   "execution_count": null,
   "id": "j8lNySfyPK4D",
   "metadata": {
    "colab": {
     "base_uri": "https://localhost:8080/"
    },
    "id": "j8lNySfyPK4D",
    "outputId": "b98fbfac-610b-4dc6-8e57-0f29b8688f6a"
   },
   "outputs": [
    {
     "name": "stdout",
     "output_type": "stream",
     "text": [
      "missing values:\n",
      "target              0\n",
      "transformed_text    5\n",
      "dtype: int64\n",
      "duplicated:         83\n"
     ]
    }
   ],
   "source": [
    "#CHECK FOR ANY MISSING VALUES AND DUPLICATES\n",
    "print('missing values:')\n",
    "print(df.isnull().sum())\n",
    "print('duplicated:        ',df.duplicated().sum())"
   ]
  },
  {
   "cell_type": "code",
   "execution_count": null,
   "id": "5kUReGujPRVv",
   "metadata": {
    "colab": {
     "base_uri": "https://localhost:8080/"
    },
    "id": "5kUReGujPRVv",
    "outputId": "2e7e1e73-c7aa-4e3a-cdf6-7e98abbe4cbe"
   },
   "outputs": [
    {
     "name": "stdout",
     "output_type": "stream",
     "text": [
      "missing values:\n",
      "target              0\n",
      "transformed_text    0\n",
      "dtype: int64\n",
      "duplicated:         0\n"
     ]
    }
   ],
   "source": [
    "#REMOVE MISSING VALUES AND DUPLICATED\n",
    "df = df.dropna()\n",
    "df = df.drop_duplicates()\n",
    "print('missing values:')\n",
    "print(df.isnull().sum())\n",
    "print('duplicated:        ',df.duplicated().sum())"
   ]
  },
  {
   "cell_type": "code",
   "execution_count": null,
   "id": "V5bFAIDQPY0L",
   "metadata": {
    "colab": {
     "base_uri": "https://localhost:8080/"
    },
    "id": "V5bFAIDQPY0L",
    "outputId": "24dbd272-60b6-4eb0-8683-ff621a5c04c8"
   },
   "outputs": [
    {
     "data": {
      "text/plain": [
       "(3148, 2)"
      ]
     },
     "execution_count": 6,
     "metadata": {},
     "output_type": "execute_result"
    }
   ],
   "source": [
    "df.shape"
   ]
  },
  {
   "cell_type": "markdown",
   "id": "BFKAzOjVMQDC",
   "metadata": {
    "id": "BFKAzOjVMQDC"
   },
   "source": [
    "## The 4 Models To Be Optimized Are: **Random Forest Classifier, Bernoulli Naive Bayes, Extra Trees Classifier and Support Vector Classifier**."
   ]
  },
  {
   "cell_type": "code",
   "execution_count": null,
   "id": "FuwDhTKIMgSo",
   "metadata": {
    "id": "FuwDhTKIMgSo"
   },
   "outputs": [],
   "source": [
    "#Import COUNT VECTORIZER\n",
    "from sklearn.feature_extraction.text import CountVectorizer\n",
    "cv = CountVectorizer()"
   ]
  },
  {
   "cell_type": "code",
   "execution_count": null,
   "id": "e1S3SiUbNqbZ",
   "metadata": {
    "colab": {
     "base_uri": "https://localhost:8080/"
    },
    "id": "e1S3SiUbNqbZ",
    "outputId": "5dcaa82d-b8b0-49c7-e7a4-5dc7f1021f4d"
   },
   "outputs": [
    {
     "data": {
      "text/plain": [
       "(3148, 5844)"
      ]
     },
     "execution_count": 8,
     "metadata": {},
     "output_type": "execute_result"
    }
   ],
   "source": [
    "X_cv = cv.fit_transform(df['transformed_text']).toarray()\n",
    "X_cv.shape"
   ]
  },
  {
   "cell_type": "code",
   "execution_count": null,
   "id": "cRj4Pu7pOEVf",
   "metadata": {
    "colab": {
     "base_uri": "https://localhost:8080/"
    },
    "id": "cRj4Pu7pOEVf",
    "outputId": "2549d63a-f1eb-4b31-b2fa-5db014044849"
   },
   "outputs": [
    {
     "data": {
      "text/plain": [
       "(3148,)"
      ]
     },
     "execution_count": 9,
     "metadata": {},
     "output_type": "execute_result"
    }
   ],
   "source": [
    "y_cv = df['target'].values\n",
    "y_cv.shape"
   ]
  },
  {
   "cell_type": "code",
   "execution_count": null,
   "id": "6SSGUlyCPhln",
   "metadata": {
    "id": "6SSGUlyCPhln"
   },
   "outputs": [],
   "source": [
    "#SPLIT THE DATASET FOR TfidfVectorizer\n",
    "from sklearn.model_selection import train_test_split as tts\n",
    "X_train_cv, X_test_cv, y_train_cv, y_test_cv = tts(X_cv, y_cv, train_size=0.8, random_state=0)"
   ]
  },
  {
   "cell_type": "markdown",
   "id": "a2AAlvBKQeqb",
   "metadata": {
    "id": "a2AAlvBKQeqb"
   },
   "source": [
    "## Import **Random Forest Classifier, Bernoulli Naive Bayes, Extra Trees Classifier and Logistic Regression**."
   ]
  },
  {
   "cell_type": "code",
   "execution_count": null,
   "id": "ADBXg8R-QkJC",
   "metadata": {
    "id": "ADBXg8R-QkJC"
   },
   "outputs": [],
   "source": [
    "#IMPORT THE CLASSIFICATION ALGORITHMS TO BE OPTIMIZED\n",
    "from sklearn.ensemble import RandomForestClassifier\n",
    "from sklearn.naive_bayes import BernoulliNB\n",
    "from sklearn.ensemble import ExtraTreesClassifier\n",
    "from sklearn.linear_model import LogisticRegression"
   ]
  },
  {
   "cell_type": "code",
   "execution_count": null,
   "id": "iybIRS76RKlU",
   "metadata": {
    "id": "iybIRS76RKlU"
   },
   "outputs": [],
   "source": [
    "rfc = RandomForestClassifier()\n",
    "bnb = BernoulliNB()\n",
    "etc = ExtraTreesClassifier()\n",
    "lr = LogisticRegression()"
   ]
  },
  {
   "cell_type": "markdown",
   "id": "gDIVQ1q4Rmim",
   "metadata": {
    "id": "gDIVQ1q4Rmim"
   },
   "source": [
    "# Optimized the 4 Models"
   ]
  },
  {
   "cell_type": "markdown",
   "id": "3PylkmLgRtSH",
   "metadata": {
    "id": "3PylkmLgRtSH"
   },
   "source": [
    "Random Forest Classifier"
   ]
  },
  {
   "cell_type": "code",
   "execution_count": null,
   "id": "vujx-I-_RNcl",
   "metadata": {
    "id": "vujx-I-_RNcl"
   },
   "outputs": [],
   "source": [
    "# To Import the StartifiedKFold Class\n",
    "from sklearn.model_selection import StratifiedKFold\n",
    "k_Fold = StratifiedKFold (n_splits=10, shuffle=True, random_state=0)\n",
    "\n",
    "# To Import the RandomizedSearch Class\n",
    "from sklearn.model_selection import RandomizedSearchCV\n",
    "\n",
    "# To Set Parameters to be Optimized Under the Random Forest Classifier Model\n",
    "parameters = {\n",
    "    'n_estimators': [50, 100, 200],\n",
    "    'max_features': ['sqrt', 'log2'],\n",
    "    'max_depth': [None, 10, 20],\n",
    "    'min_samples_split': [2, 5, 10],\n",
    "    'min_samples_leaf': [1, 2, 4]\n",
    "}\n",
    "\n",
    "randomized_search = RandomizedSearchCV(estimator = rfc,\n",
    "                                       param_distributions = parameters,\n",
    "                                       n_iter = 100,\n",
    "                                       scoring = 'accuracy',\n",
    "                                       cv = k_Fold,\n",
    "                                       n_jobs = -1,\n",
    "                                       random_state = 0)\n",
    "randomized_search = randomized_search.fit(X_cv, y_cv)"
   ]
  },
  {
   "cell_type": "code",
   "execution_count": null,
   "id": "FVmUsWw4S_IL",
   "metadata": {
    "colab": {
     "base_uri": "https://localhost:8080/"
    },
    "id": "FVmUsWw4S_IL",
    "outputId": "77bdc740-1a72-4b51-bece-e3e308d1a24c"
   },
   "outputs": [
    {
     "name": "stdout",
     "output_type": "stream",
     "text": [
      "BEST ACCURACY SCORE FOR RFC:\n",
      "0.9571206147002325\n",
      "\n",
      "BEST PARAMETERS RFC:\n",
      "{'n_estimators': 50, 'min_samples_split': 10, 'min_samples_leaf': 1, 'max_features': 'log2', 'max_depth': None}\n"
     ]
    }
   ],
   "source": [
    "# To Identify the Best Accuracy and Best Features\n",
    "\n",
    "best_accuracy_rfc = randomized_search.best_score_\n",
    "best_parameters_rfc = randomized_search.best_params_\n",
    "\n",
    "print(\"BEST ACCURACY SCORE FOR RFC:\")\n",
    "print(best_accuracy_rfc)\n",
    "print('')\n",
    "\n",
    "print(\"BEST PARAMETERS RFC:\")\n",
    "print(best_parameters_rfc)"
   ]
  },
  {
   "cell_type": "markdown",
   "id": "oL5iJ246lAd6",
   "metadata": {
    "id": "oL5iJ246lAd6"
   },
   "source": [
    "Bernoulli Naive Bayes"
   ]
  },
  {
   "cell_type": "code",
   "execution_count": null,
   "id": "04jyeufPk8my",
   "metadata": {
    "colab": {
     "base_uri": "https://localhost:8080/"
    },
    "id": "04jyeufPk8my",
    "outputId": "2c8f49f6-675f-4aff-c9bb-f17156fc36d3"
   },
   "outputs": [
    {
     "name": "stderr",
     "output_type": "stream",
     "text": [
      "D:\\Anaconda\\lib\\site-packages\\sklearn\\model_selection\\_search.py:292: UserWarning: The total space of parameters 70 is smaller than n_iter=100. Running 70 iterations. For exhaustive searches, use GridSearchCV.\n",
      "  warnings.warn(\n"
     ]
    }
   ],
   "source": [
    "# To Set Parameters to be Optimized Under the Bernoulli Naive Bayes Model\n",
    "parameters = {\n",
    "    'alpha' : [0.0, 0.1, 0.05, 0.1, 0.05, 1.0, 2.0],\n",
    "    'binarize' :[None, 0.0, 0.1, 0.5, 1.0],\n",
    "    'fit_prior' :[True, False],\n",
    "}\n",
    "\n",
    "randomized_search = RandomizedSearchCV(estimator = bnb,\n",
    "                                       param_distributions = parameters,\n",
    "                                       n_iter = 100,\n",
    "                                       scoring = 'accuracy',\n",
    "                                       cv = k_Fold,\n",
    "                                       n_jobs = -1,\n",
    "                                       random_state = 0)\n",
    "randomized_search = randomized_search.fit(X_cv, y_cv)"
   ]
  },
  {
   "cell_type": "code",
   "execution_count": null,
   "id": "OUomnt32mWP4",
   "metadata": {
    "colab": {
     "base_uri": "https://localhost:8080/"
    },
    "id": "OUomnt32mWP4",
    "outputId": "5a77b70a-ac92-4ee9-a547-dada3003a881"
   },
   "outputs": [
    {
     "name": "stdout",
     "output_type": "stream",
     "text": [
      "BEST ACCURACY SCORE FOR BNB:\n",
      "0.9663330300272976\n",
      "\n",
      "BEST PARAMETERS BNB:\n",
      "{'fit_prior': False, 'binarize': None, 'alpha': 0.1}\n"
     ]
    }
   ],
   "source": [
    "# To Identify the Best Accuracy and Best Features\n",
    "\n",
    "best_accuracy_bnb = randomized_search.best_score_\n",
    "best_parameters_bnb = randomized_search.best_params_\n",
    "\n",
    "print(\"BEST ACCURACY SCORE FOR BNB:\")\n",
    "print(best_accuracy_bnb)\n",
    "print('')\n",
    "\n",
    "print(\"BEST PARAMETERS BNB:\")\n",
    "print(best_parameters_bnb)"
   ]
  },
  {
   "cell_type": "markdown",
   "id": "mt6psRwWnPWZ",
   "metadata": {
    "id": "mt6psRwWnPWZ"
   },
   "source": [
    "Extra Trees Classifier"
   ]
  },
  {
   "cell_type": "code",
   "execution_count": null,
   "id": "ichefEdcnIRh",
   "metadata": {
    "id": "ichefEdcnIRh"
   },
   "outputs": [],
   "source": [
    "# To Set Parameters to be Optimized Under the Extra Trees Classifier Model\n",
    "parameters = {\n",
    "    'n_estimators': [50, 100, 200],\n",
    "    'max_features': ['sqrt', 'log2'],\n",
    "    'max_depth': [None, 10, 20],\n",
    "    'min_samples_split': [2, 5, 10],\n",
    "    'min_samples_leaf': [1, 2, 4]\n",
    "}\n",
    "\n",
    "randomized_search = RandomizedSearchCV(estimator = etc,\n",
    "                                       param_distributions = parameters,\n",
    "                                       n_iter = 100,\n",
    "                                       scoring = 'accuracy',\n",
    "                                       cv = k_Fold,\n",
    "                                       n_jobs = -1,\n",
    "                                       random_state = 0)\n",
    "randomized_search = randomized_search.fit(X_cv, y_cv)"
   ]
  },
  {
   "cell_type": "code",
   "execution_count": null,
   "id": "f7XLZBKOneEG",
   "metadata": {
    "colab": {
     "base_uri": "https://localhost:8080/"
    },
    "id": "f7XLZBKOneEG",
    "outputId": "4acb5bf6-a50a-46c2-aee3-0c90d6845192"
   },
   "outputs": [
    {
     "name": "stdout",
     "output_type": "stream",
     "text": [
      "BEST ACCURACY SCORE FOR ETC:\n",
      "0.9621999797795976\n",
      "\n",
      "BEST PARAMETERS ETC:\n",
      "{'n_estimators': 50, 'min_samples_split': 10, 'min_samples_leaf': 1, 'max_features': 'log2', 'max_depth': None}\n"
     ]
    }
   ],
   "source": [
    "# To Identify the Best Accuracy and Best Features\n",
    "\n",
    "best_accuracy_etc = randomized_search.best_score_\n",
    "best_parameters_etc = randomized_search.best_params_\n",
    "\n",
    "print(\"BEST ACCURACY SCORE FOR ETC:\")\n",
    "print(best_accuracy_etc)\n",
    "print('')\n",
    "\n",
    "print(\"BEST PARAMETERS ETC:\")\n",
    "print(best_parameters_etc)"
   ]
  },
  {
   "cell_type": "markdown",
   "id": "wQMR5j1Ne_vl",
   "metadata": {
    "id": "wQMR5j1Ne_vl"
   },
   "source": [
    "Logistic Regression Classifier"
   ]
  },
  {
   "cell_type": "code",
   "execution_count": null,
   "id": "xlF7-2PAe9U1",
   "metadata": {
    "id": "xlF7-2PAe9U1",
    "outputId": "d4dc54a1-214d-4c52-89cf-4f0c0a21b9e2"
   },
   "outputs": [
    {
     "name": "stderr",
     "output_type": "stream",
     "text": [
      "D:\\Anaconda\\lib\\site-packages\\sklearn\\model_selection\\_validation.py:372: FitFailedWarning: \n",
      "350 fits failed out of a total of 500.\n",
      "The score on these train-test partitions for these parameters will be set to nan.\n",
      "If these failures are not expected, you can try to debug them by setting error_score='raise'.\n",
      "\n",
      "Below are more details about the failures:\n",
      "--------------------------------------------------------------------------------\n",
      "90 fits failed with the following error:\n",
      "Traceback (most recent call last):\n",
      "  File \"D:\\Anaconda\\lib\\site-packages\\sklearn\\model_selection\\_validation.py\", line 680, in _fit_and_score\n",
      "    estimator.fit(X_train, y_train, **fit_params)\n",
      "  File \"D:\\Anaconda\\lib\\site-packages\\sklearn\\linear_model\\_logistic.py\", line 1461, in fit\n",
      "    solver = _check_solver(self.solver, self.penalty, self.dual)\n",
      "  File \"D:\\Anaconda\\lib\\site-packages\\sklearn\\linear_model\\_logistic.py\", line 434, in _check_solver\n",
      "    raise ValueError(\n",
      "ValueError: Logistic Regression supports only solvers in ['liblinear', 'newton-cg', 'lbfgs', 'sag', 'saga'], got newton-cholesky.\n",
      "\n",
      "--------------------------------------------------------------------------------\n",
      "20 fits failed with the following error:\n",
      "Traceback (most recent call last):\n",
      "  File \"D:\\Anaconda\\lib\\site-packages\\sklearn\\model_selection\\_validation.py\", line 680, in _fit_and_score\n",
      "    estimator.fit(X_train, y_train, **fit_params)\n",
      "  File \"D:\\Anaconda\\lib\\site-packages\\sklearn\\linear_model\\_logistic.py\", line 1461, in fit\n",
      "    solver = _check_solver(self.solver, self.penalty, self.dual)\n",
      "  File \"D:\\Anaconda\\lib\\site-packages\\sklearn\\linear_model\\_logistic.py\", line 447, in _check_solver\n",
      "    raise ValueError(\n",
      "ValueError: Solver lbfgs supports only 'l2' or 'none' penalties, got elasticnet penalty.\n",
      "\n",
      "--------------------------------------------------------------------------------\n",
      "20 fits failed with the following error:\n",
      "Traceback (most recent call last):\n",
      "  File \"D:\\Anaconda\\lib\\site-packages\\sklearn\\model_selection\\_validation.py\", line 680, in _fit_and_score\n",
      "    estimator.fit(X_train, y_train, **fit_params)\n",
      "  File \"D:\\Anaconda\\lib\\site-packages\\sklearn\\linear_model\\_logistic.py\", line 1461, in fit\n",
      "    solver = _check_solver(self.solver, self.penalty, self.dual)\n",
      "  File \"D:\\Anaconda\\lib\\site-packages\\sklearn\\linear_model\\_logistic.py\", line 447, in _check_solver\n",
      "    raise ValueError(\n",
      "ValueError: Solver sag supports only 'l2' or 'none' penalties, got l1 penalty.\n",
      "\n",
      "--------------------------------------------------------------------------------\n",
      "10 fits failed with the following error:\n",
      "Traceback (most recent call last):\n",
      "  File \"D:\\Anaconda\\lib\\site-packages\\sklearn\\model_selection\\_validation.py\", line 680, in _fit_and_score\n",
      "    estimator.fit(X_train, y_train, **fit_params)\n",
      "  File \"D:\\Anaconda\\lib\\site-packages\\sklearn\\linear_model\\_logistic.py\", line 1461, in fit\n",
      "    solver = _check_solver(self.solver, self.penalty, self.dual)\n",
      "  File \"D:\\Anaconda\\lib\\site-packages\\sklearn\\linear_model\\_logistic.py\", line 447, in _check_solver\n",
      "    raise ValueError(\n",
      "ValueError: Solver newton-cg supports only 'l2' or 'none' penalties, got elasticnet penalty.\n",
      "\n",
      "--------------------------------------------------------------------------------\n",
      "20 fits failed with the following error:\n",
      "Traceback (most recent call last):\n",
      "  File \"D:\\Anaconda\\lib\\site-packages\\sklearn\\model_selection\\_validation.py\", line 680, in _fit_and_score\n",
      "    estimator.fit(X_train, y_train, **fit_params)\n",
      "  File \"D:\\Anaconda\\lib\\site-packages\\sklearn\\linear_model\\_logistic.py\", line 1461, in fit\n",
      "    solver = _check_solver(self.solver, self.penalty, self.dual)\n",
      "  File \"D:\\Anaconda\\lib\\site-packages\\sklearn\\linear_model\\_logistic.py\", line 447, in _check_solver\n",
      "    raise ValueError(\n",
      "ValueError: Solver lbfgs supports only 'l2' or 'none' penalties, got l1 penalty.\n",
      "\n",
      "--------------------------------------------------------------------------------\n",
      "80 fits failed with the following error:\n",
      "Traceback (most recent call last):\n",
      "  File \"D:\\Anaconda\\lib\\site-packages\\sklearn\\model_selection\\_validation.py\", line 680, in _fit_and_score\n",
      "    estimator.fit(X_train, y_train, **fit_params)\n",
      "  File \"D:\\Anaconda\\lib\\site-packages\\sklearn\\linear_model\\_logistic.py\", line 1461, in fit\n",
      "    solver = _check_solver(self.solver, self.penalty, self.dual)\n",
      "  File \"D:\\Anaconda\\lib\\site-packages\\sklearn\\linear_model\\_logistic.py\", line 441, in _check_solver\n",
      "    raise ValueError(\n",
      "ValueError: Logistic Regression supports only penalties in ['l1', 'l2', 'elasticnet', 'none'], got None.\n",
      "\n",
      "--------------------------------------------------------------------------------\n",
      "10 fits failed with the following error:\n",
      "Traceback (most recent call last):\n",
      "  File \"D:\\Anaconda\\lib\\site-packages\\sklearn\\model_selection\\_validation.py\", line 680, in _fit_and_score\n",
      "    estimator.fit(X_train, y_train, **fit_params)\n",
      "  File \"D:\\Anaconda\\lib\\site-packages\\sklearn\\linear_model\\_logistic.py\", line 1461, in fit\n",
      "    solver = _check_solver(self.solver, self.penalty, self.dual)\n",
      "  File \"D:\\Anaconda\\lib\\site-packages\\sklearn\\linear_model\\_logistic.py\", line 457, in _check_solver\n",
      "    raise ValueError(\n",
      "ValueError: Only 'saga' solver supports elasticnet penalty, got solver=liblinear.\n",
      "\n",
      "--------------------------------------------------------------------------------\n",
      "30 fits failed with the following error:\n",
      "Traceback (most recent call last):\n",
      "  File \"D:\\Anaconda\\lib\\site-packages\\sklearn\\model_selection\\_validation.py\", line 680, in _fit_and_score\n",
      "    estimator.fit(X_train, y_train, **fit_params)\n",
      "  File \"D:\\Anaconda\\lib\\site-packages\\sklearn\\linear_model\\_logistic.py\", line 1461, in fit\n",
      "    solver = _check_solver(self.solver, self.penalty, self.dual)\n",
      "  File \"D:\\Anaconda\\lib\\site-packages\\sklearn\\linear_model\\_logistic.py\", line 447, in _check_solver\n",
      "    raise ValueError(\n",
      "ValueError: Solver sag supports only 'l2' or 'none' penalties, got elasticnet penalty.\n",
      "\n",
      "--------------------------------------------------------------------------------\n",
      "30 fits failed with the following error:\n",
      "Traceback (most recent call last):\n",
      "  File \"D:\\Anaconda\\lib\\site-packages\\sklearn\\model_selection\\_validation.py\", line 680, in _fit_and_score\n",
      "    estimator.fit(X_train, y_train, **fit_params)\n",
      "  File \"D:\\Anaconda\\lib\\site-packages\\sklearn\\linear_model\\_logistic.py\", line 1471, in fit\n",
      "    raise ValueError(\n",
      "ValueError: l1_ratio must be between 0 and 1; got (l1_ratio=None)\n",
      "\n",
      "--------------------------------------------------------------------------------\n",
      "30 fits failed with the following error:\n",
      "Traceback (most recent call last):\n",
      "  File \"D:\\Anaconda\\lib\\site-packages\\sklearn\\model_selection\\_validation.py\", line 680, in _fit_and_score\n",
      "    estimator.fit(X_train, y_train, **fit_params)\n",
      "  File \"D:\\Anaconda\\lib\\site-packages\\sklearn\\linear_model\\_logistic.py\", line 1461, in fit\n",
      "    solver = _check_solver(self.solver, self.penalty, self.dual)\n",
      "  File \"D:\\Anaconda\\lib\\site-packages\\sklearn\\linear_model\\_logistic.py\", line 447, in _check_solver\n",
      "    raise ValueError(\n",
      "ValueError: Solver newton-cg supports only 'l2' or 'none' penalties, got l1 penalty.\n",
      "\n",
      "--------------------------------------------------------------------------------\n",
      "10 fits failed with the following error:\n",
      "Traceback (most recent call last):\n",
      "  File \"D:\\Anaconda\\lib\\site-packages\\sklearn\\model_selection\\_validation.py\", line 680, in _fit_and_score\n",
      "    estimator.fit(X_train, y_train, **fit_params)\n",
      "  File \"D:\\Anaconda\\lib\\site-packages\\sklearn\\linear_model\\_logistic.py\", line 1519, in fit\n",
      "    multi_class = _check_multi_class(self.multi_class, solver, len(self.classes_))\n",
      "  File \"D:\\Anaconda\\lib\\site-packages\\sklearn\\linear_model\\_logistic.py\", line 483, in _check_multi_class\n",
      "    raise ValueError(\"Solver %s does not support a multinomial backend.\" % solver)\n",
      "ValueError: Solver liblinear does not support a multinomial backend.\n",
      "\n",
      "  warnings.warn(some_fits_failed_message, FitFailedWarning)\n",
      "D:\\Anaconda\\lib\\site-packages\\sklearn\\model_selection\\_search.py:969: UserWarning: One or more of the test scores are non-finite: [0.94726822        nan        nan        nan        nan        nan\n",
      "        nan        nan        nan        nan        nan        nan\n",
      "        nan 0.9561652         nan        nan        nan 0.94631685\n",
      " 0.6127702  0.94187241 0.95806996        nan        nan        nan\n",
      "        nan        nan 0.95552927        nan 0.93679203        nan\n",
      " 0.94250632 0.95743706 0.63469012        nan        nan        nan\n",
      " 0.91868871        nan        nan        nan 0.93742796        nan\n",
      " 0.71157719        nan        nan        nan        nan        nan\n",
      " 0.92821858        nan]\n",
      "  warnings.warn(\n"
     ]
    }
   ],
   "source": [
    "# To Set Parameters to be Optimized Under the Logistic Regression Classifier Model\n",
    "parameters = {\n",
    "    'penalty' :['l1', 'l2', 'elasticnet', None],\n",
    "    'C' :[0.001, 0.01, 0.1, 1, 10, 100, 1000],\n",
    "    'fit_intercept' :[True, False],\n",
    "    'solver' :['newton-cg', 'lbfgs', 'saga', 'sag', 'liblinear', 'newton-cholesky'],\n",
    "    'multi_class' :['auto', 'ovr', 'multinomial']\n",
    "}\n",
    "\n",
    "randomized_search = RandomizedSearchCV(estimator = lr,\n",
    "                                       param_distributions = parameters,\n",
    "                                       n_iter = 50,\n",
    "                                       scoring = 'accuracy',\n",
    "                                       cv = k_Fold,\n",
    "                                       n_jobs = -1,\n",
    "                                       random_state = 0)\n",
    "randomized_search = randomized_search.fit(X_cv, y_cv)"
   ]
  },
  {
   "cell_type": "code",
   "execution_count": null,
   "id": "2ADbu3wXfIAm",
   "metadata": {
    "id": "2ADbu3wXfIAm",
    "outputId": "1c9bda88-a0e1-4750-e5d6-a483a49cc260"
   },
   "outputs": [
    {
     "name": "stdout",
     "output_type": "stream",
     "text": [
      "BEST ACCURACY SCORE FOR SVC:\n",
      "0.9580699625922555\n",
      "\n",
      "BEST PARAMETERS SVC:\n",
      "{'solver': 'lbfgs', 'penalty': 'l2', 'multi_class': 'multinomial', 'fit_intercept': True, 'C': 1}\n"
     ]
    }
   ],
   "source": [
    "# To Identify the Best Accuracy and Best Features\n",
    "\n",
    "best_accuracy_svc = randomized_search.best_score_\n",
    "best_parameters_svc = randomized_search.best_params_\n",
    "\n",
    "print(\"BEST ACCURACY SCORE FOR SVC:\")\n",
    "print(best_accuracy_svc)\n",
    "print('')\n",
    "\n",
    "print(\"BEST PARAMETERS SVC:\")\n",
    "print(best_parameters_svc)"
   ]
  },
  {
   "cell_type": "markdown",
   "id": "7uHhJXdDXHKG",
   "metadata": {
    "id": "7uHhJXdDXHKG"
   },
   "source": [
    "# Create New Models Using the Optimal Parameters"
   ]
  },
  {
   "cell_type": "code",
   "execution_count": null,
   "id": "cC6jhfinHY4r",
   "metadata": {
    "id": "cC6jhfinHY4r"
   },
   "outputs": [],
   "source": [
    "rfc_optimized = RandomForestClassifier(n_estimators = 50, min_samples_split = 10, min_samples_leaf = 1, max_features = 'log2', max_depth = None)"
   ]
  },
  {
   "cell_type": "code",
   "execution_count": null,
   "id": "7FBcVespH5E_",
   "metadata": {
    "id": "7FBcVespH5E_"
   },
   "outputs": [],
   "source": [
    "bnb_optimized = BernoulliNB(fit_prior = False, binarize = None, alpha = 0.1)"
   ]
  },
  {
   "cell_type": "code",
   "execution_count": null,
   "id": "ukvU4A0EIHbl",
   "metadata": {
    "id": "ukvU4A0EIHbl"
   },
   "outputs": [],
   "source": [
    "etc_optimized = ExtraTreesClassifier(n_estimators = 50, min_samples_split = 10, min_samples_leaf = 1, max_features = 'log2', max_depth = None)"
   ]
  },
  {
   "cell_type": "code",
   "execution_count": null,
   "id": "Tv6fEEjHIHlZ",
   "metadata": {
    "id": "Tv6fEEjHIHlZ"
   },
   "outputs": [],
   "source": [
    "lr_optimized = LogisticRegression(solver = 'lbfgs', penalty = 'l2', multi_class = 'multinomial', fit_intercept = True, C = 1)"
   ]
  },
  {
   "cell_type": "markdown",
   "id": "fuAG7KLwIN6w",
   "metadata": {
    "id": "fuAG7KLwIN6w"
   },
   "source": [
    "# Fit the Training Dataset"
   ]
  },
  {
   "cell_type": "code",
   "execution_count": null,
   "id": "3Ry3X7p6ITlp",
   "metadata": {
    "id": "3Ry3X7p6ITlp",
    "outputId": "c713722d-123e-46f7-d755-83a50290e5f6"
   },
   "outputs": [
    {
     "data": {
      "text/plain": [
       "RandomForestClassifier(max_features='log2', min_samples_split=10,\n",
       "                       n_estimators=50)"
      ]
     },
     "execution_count": 32,
     "metadata": {},
     "output_type": "execute_result"
    }
   ],
   "source": [
    "rfc_optimized.fit(X_train_cv, y_train_cv)"
   ]
  },
  {
   "cell_type": "code",
   "execution_count": null,
   "id": "vz3CcMIXITxn",
   "metadata": {
    "id": "vz3CcMIXITxn",
    "outputId": "f6fcd2c2-b94f-45ae-c52f-b9ad1ee6f090"
   },
   "outputs": [
    {
     "data": {
      "text/plain": [
       "BernoulliNB(alpha=0.1, binarize=None, fit_prior=False)"
      ]
     },
     "execution_count": 33,
     "metadata": {},
     "output_type": "execute_result"
    }
   ],
   "source": [
    "bnb_optimized.fit(X_train_cv, y_train_cv)"
   ]
  },
  {
   "cell_type": "code",
   "execution_count": null,
   "id": "g90Q5rCuIUBw",
   "metadata": {
    "id": "g90Q5rCuIUBw",
    "outputId": "2f570038-107d-462f-ca02-6619c82f40b1"
   },
   "outputs": [
    {
     "data": {
      "text/plain": [
       "ExtraTreesClassifier(max_features='log2', min_samples_split=10, n_estimators=50)"
      ]
     },
     "execution_count": 34,
     "metadata": {},
     "output_type": "execute_result"
    }
   ],
   "source": [
    "etc_optimized.fit(X_train_cv, y_train_cv)"
   ]
  },
  {
   "cell_type": "code",
   "execution_count": null,
   "id": "2sbcZTCAIxzw",
   "metadata": {
    "id": "2sbcZTCAIxzw",
    "outputId": "64d2d4d6-2426-4ccb-b728-0183bdffdf24"
   },
   "outputs": [
    {
     "data": {
      "text/plain": [
       "LogisticRegression(C=1, multi_class='multinomial')"
      ]
     },
     "execution_count": 35,
     "metadata": {},
     "output_type": "execute_result"
    }
   ],
   "source": [
    "lr_optimized.fit(X_train_cv, y_train_cv)"
   ]
  },
  {
   "cell_type": "markdown",
   "id": "cCFClvQwI5sp",
   "metadata": {
    "id": "cCFClvQwI5sp"
   },
   "source": [
    "# Predict the Output Of the Training Dataset"
   ]
  },
  {
   "cell_type": "code",
   "execution_count": null,
   "id": "BSktbz_FI90N",
   "metadata": {
    "id": "BSktbz_FI90N",
    "outputId": "6cced020-a81a-47aa-b78c-aa7c98df3ac9"
   },
   "outputs": [
    {
     "name": "stdout",
     "output_type": "stream",
     "text": [
      "[0 0 0 0 0 0 0 0 0 1 0 1 1 0 0 1 0 0 0 0 0 0 0 0 0 1 0 0 0 1 0 1 0 1 0 0 0\n",
      " 0 1 1 0 0 1 0 0 1 0 0 0 0 1 0 0 0 0 0 0 1 0 0 1 0 0 0 0 1 0 0 0 0 0 1 0 1\n",
      " 0 0 1 0 0 1 0 1 1 1 0 1 0 0 1 1 0 1 0 0 0 0 1 1 0 0 0 0 0 0 0 1 0 0 0 1 0\n",
      " 0 0 1 0 1 1 0 0 0 0 0 0 0 1 1 1 1 1 1 0 0 1 1 1 0 0 0 1 0 1 1 1 0 1 0 1 1\n",
      " 1 0 0 0 0 1 0 0 1 0 0 1 1 1 0 0 0 1 0 0 0 0 1 0 0 1 1 0 1 0 1 1 0 0 1 0 0\n",
      " 0 0 0 0 0 0 0 1 0 1 0 1 0 1 0 0 1 1 0 0 0 0 1 0 0 0 0 0 1 0 0 0 0 0 1 0 0\n",
      " 1 1 1 0 0 1 1 1 1 0 0 0 0 0 0 0 0 1 0 0 0 0 0 1 0 0 1 0 0 1 0 0 0 0 0 1 0\n",
      " 0 0 1 1 0 0 0 0 1 1 1 0 0 0 0 0 0 0 0 0 0 1 0 1 1 1 0 0 0 1 0 1 0 1 0 1 0\n",
      " 1 1 1 1 0 1 0 1 1 0 1 0 0 0 1 0 0 0 0 1 0 0 0 0 1 0 1 0 0 0 1 0 0 0 1 1 0\n",
      " 0 0 1 1 0 1 0 0 1 0 1 0 0 0 0 0 1 0 0 1 0 1 0 0 0 0 0 1 0 1 1 0 0 0 0 0 1\n",
      " 1 0 1 0 0 0 1 1 0 0 0 0 0 1 0 1 0 0 0 1 0 1 0 0 0 0 1 1 0 0 0 0 1 1 1 0 0\n",
      " 1 0 1 0 1 0 1 1 1 1 1 0 0 0 0 0 1 0 0 0 0 1 0 0 0 0 0 1 0 1 0 1 0 1 1 0 0\n",
      " 1 1 1 1 0 1 0 0 0 0 0 1 0 0 0 0 0 1 1 1 0 0 0 0 0 0 0 0 0 0 0 1 1 1 1 0 0\n",
      " 1 0 0 1 0 0 1 0 0 1 1 0 0 0 1 1 0 1 0 1 0 1 0 0 0 0 0 0 1 1 1 0 0 0 0 1 0\n",
      " 0 1 0 0 0 0 0 1 1 0 1 0 0 1 0 0 0 0 1 1 0 0 0 0 0 0 0 0 1 0 1 0 0 0 0 0 0\n",
      " 0 0 1 0 0 0 0 0 0 1 0 1 0 0 0 1 0 1 1 0 1 1 0 0 0 0 0 1 0 0 0 0 0 1 0 0 1\n",
      " 0 1 1 1 0 1 1 1 0 0 0 0 1 0 1 0 0 0 1 1 0 0 0 1 1 0 1 1 0 0 0 0 0 1 0 0 0\n",
      " 0]\n"
     ]
    }
   ],
   "source": [
    "y_predict_rfc = rfc_optimized.predict(X_test_cv)\n",
    "print(y_predict_rfc)"
   ]
  },
  {
   "cell_type": "code",
   "execution_count": null,
   "id": "BJueh1sRI965",
   "metadata": {
    "id": "BJueh1sRI965",
    "outputId": "ea50f611-e1a7-4309-9d23-b630218a7b69"
   },
   "outputs": [
    {
     "name": "stdout",
     "output_type": "stream",
     "text": [
      "[0 0 0 0 0 0 0 0 0 1 0 1 1 0 0 1 0 0 0 0 0 0 0 0 0 1 0 0 0 1 0 1 0 1 0 0 0\n",
      " 0 1 1 0 0 1 0 1 1 0 0 0 0 1 0 0 0 0 0 1 1 0 0 1 0 0 0 0 1 0 0 0 0 0 1 0 1\n",
      " 0 0 1 0 0 1 0 1 1 1 0 1 0 0 1 1 0 1 0 0 0 0 1 1 0 0 0 0 0 0 0 1 0 0 0 1 0\n",
      " 0 0 1 0 1 1 0 0 0 0 0 0 0 1 1 1 1 1 1 0 0 1 1 1 0 0 0 1 0 1 1 1 0 1 0 1 1\n",
      " 1 0 0 0 0 1 0 0 1 0 0 1 1 1 0 0 0 1 0 0 0 0 1 0 0 1 1 0 1 0 1 1 0 0 1 0 0\n",
      " 0 0 0 0 0 0 0 1 0 1 0 1 0 1 0 0 1 1 1 0 0 0 1 0 0 0 0 0 1 0 0 0 0 0 1 0 0\n",
      " 1 1 1 0 0 1 1 1 1 0 0 0 0 0 0 0 0 1 0 0 0 0 1 1 0 0 1 1 0 1 0 0 0 0 0 1 0\n",
      " 0 0 1 1 0 1 0 0 1 1 1 0 0 0 0 0 0 0 0 0 0 1 0 1 1 1 0 0 0 1 0 1 0 1 0 1 0\n",
      " 0 1 1 1 0 1 0 1 1 1 1 0 0 0 1 0 1 0 0 1 0 0 0 0 1 0 1 0 0 0 1 0 0 0 1 1 0\n",
      " 0 0 1 1 0 1 0 0 1 0 0 0 0 0 0 0 1 0 0 1 0 1 0 0 0 0 0 1 0 1 1 0 0 0 0 0 1\n",
      " 1 0 1 0 0 0 1 1 0 0 0 0 0 1 0 1 0 1 0 1 0 1 0 0 0 0 1 1 0 0 0 0 1 1 1 0 0\n",
      " 1 0 1 0 1 0 1 1 1 1 1 0 0 0 0 0 1 0 0 1 0 1 0 0 0 0 0 1 0 1 0 1 0 1 1 0 0\n",
      " 1 1 1 1 0 1 0 0 0 0 0 1 0 0 0 0 0 1 1 1 0 0 0 0 0 0 0 0 0 0 0 1 1 1 1 0 0\n",
      " 1 0 0 1 0 0 1 0 0 1 1 0 0 0 1 1 0 1 0 1 0 1 0 0 0 0 0 0 1 1 1 0 0 0 0 1 0\n",
      " 0 1 0 0 0 0 0 1 1 0 1 0 0 1 0 0 0 0 1 1 0 0 0 0 0 0 0 0 1 0 1 0 0 0 0 0 0\n",
      " 0 0 1 1 0 0 0 0 0 1 0 1 0 0 0 1 0 1 1 0 1 1 0 0 0 0 0 1 0 0 0 0 0 1 0 0 1\n",
      " 0 1 1 1 0 1 1 1 0 0 0 0 1 0 1 0 0 0 1 1 0 0 0 1 0 0 1 1 0 0 0 0 0 1 0 0 0\n",
      " 0]\n"
     ]
    }
   ],
   "source": [
    "y_predict_bnb = bnb_optimized.predict(X_test_cv)\n",
    "print(y_predict_bnb)"
   ]
  },
  {
   "cell_type": "code",
   "execution_count": null,
   "id": "E7fkj5AsI-A4",
   "metadata": {
    "id": "E7fkj5AsI-A4",
    "outputId": "9280fa3a-ff41-4068-ddc0-cd9884165960"
   },
   "outputs": [
    {
     "name": "stdout",
     "output_type": "stream",
     "text": [
      "[0 0 0 0 0 0 0 0 0 1 0 1 1 0 0 1 0 0 0 0 0 0 0 0 0 1 0 0 0 1 0 1 0 1 0 0 0\n",
      " 0 1 1 0 0 1 0 0 1 0 0 0 0 1 0 0 0 0 0 1 1 0 0 1 0 0 0 0 1 0 0 0 0 0 0 0 1\n",
      " 0 0 1 0 0 1 0 1 1 1 0 1 0 0 1 1 0 1 0 0 0 0 1 1 0 0 0 0 0 0 0 1 0 0 0 1 0\n",
      " 0 0 1 0 1 1 0 0 0 0 0 0 0 1 1 1 1 1 1 0 0 1 1 1 0 0 0 1 0 1 1 1 0 1 0 1 1\n",
      " 1 0 0 0 0 1 0 0 1 0 0 1 1 1 0 0 0 1 0 0 0 0 1 0 0 1 1 0 1 0 1 0 0 0 1 0 0\n",
      " 0 0 0 0 0 0 0 1 0 1 0 1 0 1 0 0 1 1 0 0 0 0 1 0 0 0 0 0 1 0 0 0 0 0 1 0 0\n",
      " 1 1 1 0 0 1 1 1 1 0 0 0 0 0 0 0 0 1 0 0 0 0 0 1 0 0 1 0 0 1 0 0 0 0 0 1 0\n",
      " 0 0 1 1 0 0 0 0 1 1 1 0 0 0 0 0 0 0 0 0 0 1 0 1 1 1 0 0 0 1 0 1 0 1 0 1 0\n",
      " 1 1 1 1 0 1 0 1 1 1 1 0 0 0 1 0 1 0 0 1 0 0 0 0 1 0 1 0 0 0 1 0 0 0 1 1 0\n",
      " 0 0 1 1 0 1 0 0 1 0 1 0 0 0 0 0 1 0 0 1 0 1 0 0 0 0 0 1 0 1 1 0 0 0 0 0 1\n",
      " 1 0 1 0 0 0 1 1 0 0 0 0 0 1 0 1 0 0 0 1 0 1 0 0 0 0 1 1 0 0 0 0 1 1 1 0 0\n",
      " 1 0 1 0 1 0 1 1 1 1 1 0 0 0 0 0 1 0 0 0 0 1 0 0 0 0 0 1 0 1 0 1 0 1 1 0 0\n",
      " 1 1 1 1 0 1 0 0 0 0 0 1 0 0 0 0 0 1 1 1 0 0 0 0 0 0 0 0 0 0 0 1 1 1 1 0 0\n",
      " 1 0 0 1 0 0 1 0 0 1 1 0 0 0 1 1 0 1 0 1 0 1 0 0 0 0 0 0 1 1 1 0 0 0 0 1 0\n",
      " 0 1 0 0 0 0 0 1 1 0 1 0 0 1 0 0 0 0 1 1 0 0 0 0 0 0 0 0 1 0 1 0 0 0 0 0 0\n",
      " 0 0 1 1 0 0 0 0 0 1 0 1 0 0 0 1 0 1 1 0 1 1 0 0 0 0 0 1 0 0 0 0 0 0 0 0 1\n",
      " 0 1 1 1 0 1 1 1 0 0 0 0 1 0 1 0 1 0 1 1 0 0 0 1 1 0 1 1 0 0 0 0 0 1 0 0 0\n",
      " 0]\n"
     ]
    }
   ],
   "source": [
    "y_predict_etc = etc_optimized.predict(X_test_cv)\n",
    "print(y_predict_etc)"
   ]
  },
  {
   "cell_type": "code",
   "execution_count": null,
   "id": "rHefQhnQI-IY",
   "metadata": {
    "id": "rHefQhnQI-IY",
    "outputId": "435c21dc-0a62-4b6c-d708-45c9630f242e"
   },
   "outputs": [
    {
     "name": "stdout",
     "output_type": "stream",
     "text": [
      "[0 0 0 0 0 0 0 0 0 1 0 1 1 0 0 1 0 0 0 0 0 0 0 0 0 1 0 0 0 1 0 1 0 1 0 0 0\n",
      " 0 1 1 0 1 1 0 1 1 0 0 0 0 1 0 0 0 0 0 0 1 0 0 1 0 0 0 0 1 0 0 0 0 0 1 0 1\n",
      " 0 0 1 0 0 1 0 1 1 1 0 1 0 0 1 1 0 1 0 0 0 0 1 1 0 0 0 0 0 0 0 1 0 0 0 1 0\n",
      " 0 0 1 0 1 1 0 0 0 0 0 0 0 1 1 0 1 0 1 0 0 1 1 1 0 0 0 1 0 1 0 1 0 1 0 1 1\n",
      " 1 0 0 0 0 1 0 0 1 0 0 1 1 1 0 0 0 1 0 0 0 0 1 0 0 1 1 0 1 0 1 1 0 0 1 0 0\n",
      " 0 0 0 0 0 0 0 1 0 1 0 1 0 1 0 0 1 1 0 0 0 1 1 0 0 0 0 0 1 0 0 0 0 0 1 0 0\n",
      " 1 1 1 0 0 1 1 1 1 0 0 0 0 0 0 0 0 1 0 0 0 0 0 1 0 0 1 1 0 1 0 0 0 0 0 1 0\n",
      " 0 0 1 1 0 0 0 0 1 1 1 0 0 0 0 0 0 0 0 0 0 1 0 1 1 1 0 0 0 1 0 1 0 1 0 1 0\n",
      " 0 1 1 1 0 1 0 1 1 1 1 0 0 0 1 0 1 0 0 1 0 0 0 0 1 0 1 0 0 0 1 0 0 0 1 1 0\n",
      " 0 0 1 1 0 1 0 0 1 0 0 0 0 0 0 0 1 0 0 1 0 1 0 0 0 0 0 0 0 1 1 0 0 0 0 0 1\n",
      " 1 0 1 0 0 0 1 1 0 0 0 0 0 1 0 1 0 1 0 1 0 1 0 0 0 0 1 1 0 0 0 0 1 1 1 0 0\n",
      " 1 0 1 0 1 0 1 1 1 1 1 0 0 0 0 0 1 0 0 0 0 1 0 0 0 0 0 1 0 1 0 1 0 1 1 0 0\n",
      " 1 1 1 1 0 1 0 0 0 0 0 1 0 0 0 0 0 1 1 1 0 0 0 0 0 0 0 0 0 0 0 1 1 1 1 0 0\n",
      " 1 0 0 1 0 0 1 0 0 1 1 0 0 0 1 1 0 1 0 1 0 1 0 0 0 0 0 0 1 1 1 0 0 0 0 1 0\n",
      " 0 1 0 0 0 1 0 1 1 0 1 0 0 1 0 0 0 0 1 1 0 0 0 0 0 0 0 0 1 0 1 0 0 0 0 0 0\n",
      " 0 0 1 1 0 0 0 0 0 1 0 1 0 0 0 1 0 1 1 0 1 1 0 0 0 0 0 1 0 0 0 0 0 0 0 0 1\n",
      " 0 1 1 1 0 1 1 1 0 0 0 1 1 0 1 0 0 0 1 1 0 0 0 1 1 0 1 1 0 0 0 0 0 1 0 0 0\n",
      " 0]\n"
     ]
    }
   ],
   "source": [
    "y_predict_lr = lr_optimized.predict(X_test_cv)\n",
    "print(y_predict_lr)"
   ]
  },
  {
   "cell_type": "markdown",
   "id": "9K7zK5qWW17b",
   "metadata": {
    "id": "9K7zK5qWW17b"
   },
   "source": [
    "# Performance Metrics"
   ]
  },
  {
   "cell_type": "code",
   "execution_count": null,
   "id": "-DH5GHxNKeeH",
   "metadata": {
    "id": "-DH5GHxNKeeH"
   },
   "outputs": [],
   "source": [
    "#CREATE A LIBRARY FOR THE CLASSIFIER OBJECTS\n",
    "classifier = {\n",
    "    'LR' : lr,\n",
    "    'BNB' : bnb,\n",
    "    'RFC' : rfc,\n",
    "    'ETC' : etc,\n",
    "}"
   ]
  },
  {
   "cell_type": "code",
   "execution_count": null,
   "id": "3VY5CPltKT11",
   "metadata": {
    "id": "3VY5CPltKT11"
   },
   "outputs": [],
   "source": [
    "#STORE RESULTS IN LISTS\n",
    "cross_accuracy = []\n",
    "cross_precision = []\n",
    "cross_f1_score = []\n",
    "cross_recall = []"
   ]
  },
  {
   "cell_type": "markdown",
   "id": "lwjEZPSwJ84X",
   "metadata": {
    "id": "lwjEZPSwJ84X"
   },
   "source": [
    "## Cross Validation for Random Forest Classifier"
   ]
  },
  {
   "cell_type": "code",
   "execution_count": null,
   "id": "5TRYc3CsK7xd",
   "metadata": {
    "id": "5TRYc3CsK7xd",
    "outputId": "3a12a38f-10ec-4acb-f653-6c183b24880d"
   },
   "outputs": [
    {
     "name": "stdout",
     "output_type": "stream",
     "text": [
      "The accuracies of K-Folds:\n",
      "[0.96507937 0.93333333 0.97142857 0.94603175 0.94920635 0.95873016\n",
      " 0.96825397 0.96190476 0.97133758 0.96178344]\n",
      "\n",
      "The accuracies average of K-Folds:\n",
      "0.9587089273076534\n",
      "\n",
      "The accuracies standard deviation of K-Folds:\n",
      "0.011694270433571265\n",
      "\n",
      "[0.9587089273076534]\n"
     ]
    }
   ],
   "source": [
    "# A. For the accuracy as scoring for Cross-Validation\n",
    "accuracies_RFC = (cross_val_score(estimator = rfc_optimized, X=X_cv, y=y_cv, cv=k_Fold, scoring = 'accuracy'))\n",
    "accuracies_average_RFC = accuracies_RFC.mean()\n",
    "accuracies_deviation_RFC = accuracies_RFC.std()\n",
    "print('The accuracies of K-Folds:')\n",
    "print(accuracies_RFC)\n",
    "print(\"\")\n",
    "print('The accuracies average of K-Folds:')\n",
    "print(accuracies_average_RFC)\n",
    "print(\"\")\n",
    "print('The accuracies standard deviation of K-Folds:')\n",
    "print(accuracies_deviation_RFC)\n",
    "print(\"\")\n",
    "cross_accuracy.append(accuracies_average_RFC)\n",
    "print(cross_accuracy)"
   ]
  },
  {
   "cell_type": "code",
   "execution_count": null,
   "id": "wQTWbdbJK739",
   "metadata": {
    "id": "wQTWbdbJK739",
    "outputId": "ed9eebac-7d8c-4027-b602-09a5121ef2ed"
   },
   "outputs": [
    {
     "name": "stdout",
     "output_type": "stream",
     "text": [
      "precision of K-Folds:\n",
      "[0.99122807 0.98148148 1.         1.         1.         0.96521739\n",
      " 0.99115044 0.99099099 0.99122807 0.96581197]\n",
      "\n",
      "Average precision of K-Folds:\n",
      "0.987710841241754\n",
      "\n",
      "precision deviation of K-Folds:\n",
      "0.012347968516885082\n",
      "\n",
      "[0.987710841241754]\n"
     ]
    }
   ],
   "source": [
    "# B. For the precision as scoring for Cross-Validation\n",
    "precision_RFC = (cross_val_score(estimator = rfc_optimized, X=X_cv, y=y_cv, cv=k_Fold, scoring = 'precision'))\n",
    "precision_average_RFC = precision_RFC.mean()\n",
    "precision_deviation_RFC = precision_RFC.std()\n",
    "print('precision of K-Folds:')\n",
    "print(precision_RFC)\n",
    "print(\"\")\n",
    "print('Average precision of K-Folds:')\n",
    "print(precision_average_RFC)\n",
    "print(\"\")\n",
    "print('precision deviation of K-Folds:')\n",
    "print(precision_deviation_RFC)\n",
    "print(\"\")\n",
    "cross_precision.append(precision_average_RFC)\n",
    "print(cross_precision)"
   ]
  },
  {
   "cell_type": "code",
   "execution_count": null,
   "id": "dTtLtu2qK7-S",
   "metadata": {
    "id": "dTtLtu2qK7-S",
    "outputId": "5755aaed-fbff-47cd-99e8-380db79829d2"
   },
   "outputs": [
    {
     "name": "stdout",
     "output_type": "stream",
     "text": [
      "F1-SCORE of K-Folds:\n",
      "[0.94067797 0.92241379 0.95726496 0.91555556 0.92035398 0.94468085\n",
      " 0.93162393 0.93103448 0.97021277 0.94017094]\n",
      "\n",
      "Average F1 Score of K-Folds:\n",
      "0.937398922590131\n",
      "\n",
      "F1 Score deviation of K-Folds:\n",
      "0.016152225029337688\n",
      "\n",
      "[0.937398922590131]\n"
     ]
    }
   ],
   "source": [
    "# C. For the F1 score as scoring for Cross-Validation\n",
    "f1_RFC = (cross_val_score(estimator = rfc_optimized, X=X_cv, y=y_cv, cv=k_Fold, scoring = 'f1'))\n",
    "f1_average_RFC = f1_RFC.mean()\n",
    "f1_deviation_RFC = f1_RFC.std()\n",
    "print('F1-SCORE of K-Folds:')\n",
    "print(f1_RFC)\n",
    "print(\"\")\n",
    "print('Average F1 Score of K-Folds:')\n",
    "print(f1_average_RFC)\n",
    "print(\"\")\n",
    "print('F1 Score deviation of K-Folds:')\n",
    "print(f1_deviation_RFC)\n",
    "print(\"\")\n",
    "cross_f1_score.append(f1_average_RFC)\n",
    "print(cross_f1_score)"
   ]
  },
  {
   "cell_type": "code",
   "execution_count": null,
   "id": "u3Eto6cdK8Dt",
   "metadata": {
    "id": "u3Eto6cdK8Dt",
    "outputId": "b530a6ba-d22c-48d2-8a43-279ba6d6ffd7"
   },
   "outputs": [
    {
     "name": "stdout",
     "output_type": "stream",
     "text": [
      "The recall of K-Folds:\n",
      "[0.90163934 0.8852459  0.90163934 0.8442623  0.86065574 0.90983607\n",
      " 0.90983607 0.89344262 0.91735537 0.90163934]\n",
      "\n",
      "The recall average of K-Folds:\n",
      "0.8925552093212301\n",
      "\n",
      "The recall standard deviation of K-Folds:\n",
      "0.022054169468284063\n",
      "\n",
      "[0.8925552093212301]\n"
     ]
    }
   ],
   "source": [
    "# D. For the recall as scoring for Cross-Validation\n",
    "recall_RFC = (cross_val_score(estimator = rfc_optimized, X=X_cv, y=y_cv, cv=k_Fold, scoring = 'recall'))\n",
    "recall_average_RFC = recall_RFC.mean()\n",
    "recall_deviation_RFC = recall_RFC.std()\n",
    "print('The recall of K-Folds:')\n",
    "print(recall_RFC)\n",
    "print(\"\")\n",
    "print('The recall average of K-Folds:')\n",
    "print(recall_average_RFC)\n",
    "print(\"\")\n",
    "print('The recall standard deviation of K-Folds:')\n",
    "print(recall_deviation_RFC)\n",
    "print(\"\")\n",
    "cross_recall.append(recall_average_RFC)\n",
    "print(cross_recall)"
   ]
  },
  {
   "cell_type": "markdown",
   "id": "oZ_00l9uJ9Cb",
   "metadata": {
    "id": "oZ_00l9uJ9Cb"
   },
   "source": [
    "## Cross Validation for Bernoulli Naive Bayes"
   ]
  },
  {
   "cell_type": "code",
   "execution_count": null,
   "id": "e2KOf27gLHQY",
   "metadata": {
    "id": "e2KOf27gLHQY",
    "outputId": "46a9b538-6670-401d-aaa0-15338ead5413"
   },
   "outputs": [
    {
     "name": "stdout",
     "output_type": "stream",
     "text": [
      "The accuracies of K-Folds:\n",
      "[0.95555556 0.95555556 0.96507937 0.95555556 0.96825397 0.97142857\n",
      " 0.97142857 0.97142857 0.97770701 0.97133758]\n",
      "\n",
      "The accuracies average of K-Folds:\n",
      "0.9663330300272976\n",
      "\n",
      "The accuracies standard deviation of K-Folds:\n",
      "0.007655259815259395\n",
      "\n",
      "[0.9587089273076534, 0.9663330300272976]\n"
     ]
    }
   ],
   "source": [
    "# A. For the accuracy as scoring for Cross-Validation\n",
    "accuracies_BNB = (cross_val_score(estimator = bnb_optimized, X=X_cv, y=y_cv, cv=k_Fold, scoring = 'accuracy'))\n",
    "accuracies_average_BNB = accuracies_BNB.mean()\n",
    "accuracies_deviation_BNB = accuracies_BNB.std()\n",
    "print('The accuracies of K-Folds:')\n",
    "print(accuracies_BNB)\n",
    "print(\"\")\n",
    "print('The accuracies average of K-Folds:')\n",
    "print(accuracies_average_BNB)\n",
    "print(\"\")\n",
    "print('The accuracies standard deviation of K-Folds:')\n",
    "print(accuracies_deviation_BNB)\n",
    "print(\"\")\n",
    "cross_accuracy.append(accuracies_average_BNB)\n",
    "print(cross_accuracy)"
   ]
  },
  {
   "cell_type": "code",
   "execution_count": null,
   "id": "z-xE6B_cLHWd",
   "metadata": {
    "id": "z-xE6B_cLHWd",
    "outputId": "284c66dc-4968-4d13-99e7-ecb2e1515e56"
   },
   "outputs": [
    {
     "name": "stdout",
     "output_type": "stream",
     "text": [
      "precision of K-Folds:\n",
      "[0.96551724 0.98214286 0.99115044 0.98214286 1.         0.99130435\n",
      " 0.97478992 0.99130435 0.98305085 0.98290598]\n",
      "\n",
      "Average precision of K-Folds:\n",
      "0.9844308840125071\n",
      "\n",
      "precision deviation of K-Folds:\n",
      "[0.987710841241754, 0.9844308840125071]\n"
     ]
    }
   ],
   "source": [
    "# B. For the precision as scoring for Cross-Validation\n",
    "precision_BNB = (cross_val_score(estimator = bnb_optimized, X=X_cv, y=y_cv, cv=k_Fold, scoring = 'precision'))\n",
    "precision_average_BNB = precision_BNB.mean()\n",
    "precision_deviation_BNB = precision_BNB.std()\n",
    "print('precision of K-Folds:')\n",
    "print(precision_BNB)\n",
    "print(\"\")\n",
    "print('Average precision of K-Folds:')\n",
    "print(precision_average_BNB)\n",
    "print(\"\")\n",
    "print('precision deviation of K-Folds:')\n",
    "cross_precision.append(precision_average_BNB)\n",
    "print(cross_precision)"
   ]
  },
  {
   "cell_type": "code",
   "execution_count": null,
   "id": "J_1wGYu5LHcN",
   "metadata": {
    "id": "J_1wGYu5LHcN",
    "outputId": "fa3dd07b-0c2b-470c-bea6-2abca8c55c06"
   },
   "outputs": [
    {
     "name": "stdout",
     "output_type": "stream",
     "text": [
      "F1-SCORE of K-Folds:\n",
      "[0.94117647 0.94017094 0.95319149 0.94017094 0.95726496 0.96202532\n",
      " 0.9626556  0.96202532 0.9707113  0.9623431 ]\n",
      "\n",
      "Average F1 Score of K-Folds:\n",
      "0.9551735425433359\n",
      "\n",
      "F1 Score deviation of K-Folds:\n",
      "0.010474138941052868\n",
      "\n",
      "[0.937398922590131, 0.9551735425433359]\n"
     ]
    }
   ],
   "source": [
    "# C. For the F1 score as scoring for Cross-Validation\n",
    "f1_BNB = (cross_val_score(estimator = bnb_optimized, X=X_cv, y=y_cv, cv=k_Fold, scoring = 'f1'))\n",
    "f1_average_BNB = f1_BNB.mean()\n",
    "f1_deviation_BNB = f1_BNB.std()\n",
    "print('F1-SCORE of K-Folds:')\n",
    "print(f1_BNB)\n",
    "print(\"\")\n",
    "print('Average F1 Score of K-Folds:')\n",
    "print(f1_average_BNB)\n",
    "print(\"\")\n",
    "print('F1 Score deviation of K-Folds:')\n",
    "print(f1_deviation_BNB)\n",
    "print(\"\")\n",
    "cross_f1_score.append(f1_average_BNB)\n",
    "print(cross_f1_score)"
   ]
  },
  {
   "cell_type": "code",
   "execution_count": null,
   "id": "vsUVwrV-LHhM",
   "metadata": {
    "id": "vsUVwrV-LHhM",
    "outputId": "8b96cbcf-1a39-4169-de26-2008bfb67eae"
   },
   "outputs": [
    {
     "name": "stdout",
     "output_type": "stream",
     "text": [
      "The recall of K-Folds:\n",
      "[0.91803279 0.90163934 0.91803279 0.90163934 0.91803279 0.93442623\n",
      " 0.95081967 0.93442623 0.95867769 0.94262295]\n",
      "\n",
      "The recall average of K-Folds:\n",
      "0.9278349817097954\n",
      "\n",
      "The recall standard deviation of K-Folds:\n",
      "0.018562902350686403\n",
      "\n",
      "[0.8925552093212301, 0.9278349817097954]\n"
     ]
    }
   ],
   "source": [
    "# D. For the recall as scoring for Cross-Validation\n",
    "recall_BNB = (cross_val_score(estimator = bnb_optimized, X=X_cv, y=y_cv, cv=k_Fold, scoring = 'recall'))\n",
    "recall_average_BNB = recall_BNB.mean()\n",
    "recall_deviation_BNB = recall_BNB.std()\n",
    "print('The recall of K-Folds:')\n",
    "print(recall_BNB)\n",
    "print(\"\")\n",
    "print('The recall average of K-Folds:')\n",
    "print(recall_average_BNB)\n",
    "print(\"\")\n",
    "print('The recall standard deviation of K-Folds:')\n",
    "print(recall_deviation_BNB)\n",
    "print(\"\")\n",
    "cross_recall.append(recall_average_BNB)\n",
    "print(cross_recall)"
   ]
  },
  {
   "cell_type": "markdown",
   "id": "rqoOdkNtJ9GG",
   "metadata": {
    "id": "rqoOdkNtJ9GG"
   },
   "source": [
    "## Cross Validation for Extra Trees Classifier"
   ]
  },
  {
   "cell_type": "code",
   "execution_count": null,
   "id": "gi5ZZilwKwHt",
   "metadata": {
    "id": "gi5ZZilwKwHt",
    "outputId": "609675ee-e0e1-4d8c-c75f-1afe6d02f1b4"
   },
   "outputs": [
    {
     "name": "stdout",
     "output_type": "stream",
     "text": [
      "The accuracies of K-Folds:\n",
      "[0.96507937 0.94285714 0.97142857 0.94920635 0.95555556 0.96507937\n",
      " 0.96825397 0.94920635 0.97452229 0.96178344]\n",
      "\n",
      "The accuracies average of K-Folds:\n",
      "0.9602972399150744\n",
      "\n",
      "The accuracies standard deviation of K-Folds:\n",
      "0.010050724864122696\n",
      "\n",
      "[0.9587089273076534, 0.9663330300272976, 0.9602972399150744]\n"
     ]
    }
   ],
   "source": [
    "# A. For the accuracy as scoring for Cross-Validation\n",
    "accuracies_ETC = (cross_val_score(estimator = etc_optimized, X=X_cv, y=y_cv, cv=k_Fold, scoring = 'accuracy'))\n",
    "accuracies_average_ETC = accuracies_ETC.mean()\n",
    "accuracies_deviation_ETC = accuracies_ETC.std()\n",
    "print('The accuracies of K-Folds:')\n",
    "print(accuracies_ETC)\n",
    "print(\"\")\n",
    "print('The accuracies average of K-Folds:')\n",
    "print(accuracies_average_ETC)\n",
    "print(\"\")\n",
    "print('The accuracies standard deviation of K-Folds:')\n",
    "print(accuracies_deviation_ETC)\n",
    "print(\"\")\n",
    "cross_accuracy.append(accuracies_average_ETC)\n",
    "print(cross_accuracy)"
   ]
  },
  {
   "cell_type": "code",
   "execution_count": null,
   "id": "Af1A4PABKwPm",
   "metadata": {
    "id": "Af1A4PABKwPm",
    "outputId": "578d376e-4c6f-445a-b91a-2daf4e4d484e"
   },
   "outputs": [
    {
     "name": "stdout",
     "output_type": "stream",
     "text": [
      "precision of K-Folds:\n",
      "[0.97391304 0.97321429 0.99122807 1.         1.         0.96581197\n",
      " 0.99107143 0.99122807 1.         0.96581197]\n",
      "\n",
      "Average precision of K-Folds:\n",
      "0.9852278829738784\n",
      "\n",
      "precision deviation of K-Folds:\n",
      "0.013368267025917225\n",
      "\n",
      "[0.987710841241754, 0.9844308840125071, 0.9852278829738784]\n"
     ]
    }
   ],
   "source": [
    "# B. For the precision as scoring for Cross-Validation\n",
    "precision_ETC = (cross_val_score(estimator = etc_optimized, X=X_cv, y=y_cv, cv=k_Fold, scoring = 'precision'))\n",
    "precision_average_ETC = precision_ETC.mean()\n",
    "precision_deviation_ETC = precision_ETC.std()\n",
    "print('precision of K-Folds:')\n",
    "print(precision_ETC)\n",
    "print(\"\")\n",
    "print('Average precision of K-Folds:')\n",
    "print(precision_average_ETC)\n",
    "print(\"\")\n",
    "print('precision deviation of K-Folds:')\n",
    "print(precision_deviation_ETC)\n",
    "print(\"\")\n",
    "cross_precision.append(precision_average_ETC)\n",
    "print(cross_precision)"
   ]
  },
  {
   "cell_type": "code",
   "execution_count": null,
   "id": "KlH91ggQKwYT",
   "metadata": {
    "id": "KlH91ggQKwYT",
    "outputId": "2661328c-d4bf-4930-a31a-901209c5b5c2"
   },
   "outputs": [
    {
     "name": "stdout",
     "output_type": "stream",
     "text": [
      "F1-SCORE of K-Folds:\n",
      "[0.9535865  0.93103448 0.96170213 0.92982456 0.93449782 0.94957983\n",
      " 0.96202532 0.94017094 0.97021277 0.95435685]\n",
      "\n",
      "Average F1 Score of K-Folds:\n",
      "0.9486991187295771\n",
      "\n",
      "F1 Score deviation of K-Folds:\n",
      "0.01344942343841916\n",
      "\n",
      "[0.937398922590131, 0.9551735425433359, 0.9486991187295771]\n"
     ]
    }
   ],
   "source": [
    "# C. For the F1 score as scoring for Cross-Validation\n",
    "f1_ETC = (cross_val_score(estimator = etc_optimized, X=X_cv, y=y_cv, cv=k_Fold, scoring = 'f1'))\n",
    "f1_average_ETC = f1_ETC.mean()\n",
    "f1_deviation_ETC = f1_ETC.std()\n",
    "print('F1-SCORE of K-Folds:')\n",
    "print(f1_ETC)\n",
    "print(\"\")\n",
    "print('Average F1 Score of K-Folds:')\n",
    "print(f1_average_ETC)\n",
    "print(\"\")\n",
    "print('F1 Score deviation of K-Folds:')\n",
    "print(f1_deviation_ETC)\n",
    "print(\"\")\n",
    "cross_f1_score.append(f1_average_ETC)\n",
    "print(cross_f1_score)"
   ]
  },
  {
   "cell_type": "code",
   "execution_count": null,
   "id": "inetiDyIKwd_",
   "metadata": {
    "id": "inetiDyIKwd_",
    "outputId": "e16e1f96-228a-4a62-9ea1-8dbf9d0d23d5"
   },
   "outputs": [
    {
     "name": "stdout",
     "output_type": "stream",
     "text": [
      "The recall of K-Folds:\n",
      "[0.91803279 0.8852459  0.93442623 0.87704918 0.87704918 0.94262295\n",
      " 0.90983607 0.90983607 0.91735537 0.94262295]\n",
      "\n",
      "The recall average of K-Folds:\n",
      "0.9114076683376237\n",
      "\n",
      "The recall standard deviation of K-Folds:\n",
      "0.023681846542405023\n",
      "\n",
      "[0.8925552093212301, 0.9278349817097954, 0.9114076683376237]\n"
     ]
    }
   ],
   "source": [
    "# D. For the recall as scoring for Cross-Validation\n",
    "recall_ETC = (cross_val_score(estimator = etc_optimized, X=X_cv, y=y_cv, cv=k_Fold, scoring = 'recall'))\n",
    "recall_average_ETC = recall_ETC.mean()\n",
    "recall_deviation_ETC = recall_ETC.std()\n",
    "print('The recall of K-Folds:')\n",
    "print(recall_ETC)\n",
    "print(\"\")\n",
    "print('The recall average of K-Folds:')\n",
    "print(recall_average_ETC)\n",
    "print(\"\")\n",
    "print('The recall standard deviation of K-Folds:')\n",
    "print(recall_deviation_ETC)\n",
    "print(\"\")\n",
    "cross_recall.append(recall_average_ETC)\n",
    "print(cross_recall)"
   ]
  },
  {
   "cell_type": "markdown",
   "id": "jgQXgQJ8KIIf",
   "metadata": {
    "id": "jgQXgQJ8KIIf"
   },
   "source": [
    "## Cross Validation for Logistic Regression Classifier"
   ]
  },
  {
   "cell_type": "code",
   "execution_count": null,
   "id": "istJS11iJ7dK",
   "metadata": {
    "id": "istJS11iJ7dK",
    "outputId": "c69f30ee-f67f-4982-b417-9e1493fb4584"
   },
   "outputs": [
    {
     "name": "stdout",
     "output_type": "stream",
     "text": [
      "The accuracies of K-Folds:\n",
      "[0.96825397 0.95555556 0.96507937 0.94920635 0.94603175 0.95555556\n",
      " 0.96825397 0.95238095 0.96178344 0.95859873]\n",
      "\n",
      "The accuracies average of K-Folds:\n",
      "0.9580699625922555\n",
      "\n",
      "The accuracies standard deviation of K-Folds:\n",
      "0.007342484526964753\n",
      "\n",
      "[0.9587089273076534, 0.9663330300272976, 0.9602972399150744, 0.9580699625922555]\n"
     ]
    }
   ],
   "source": [
    "# A. For the accuracy as scoring for Cross-Validation\n",
    "accuracies_SVC = (cross_val_score(estimator = lr_optimized, X=X_cv, y=y_cv, cv=k_Fold, scoring = 'accuracy'))\n",
    "accuracies_average_SVC = accuracies_SVC.mean()\n",
    "accuracies_deviation_SVC = accuracies_SVC.std()\n",
    "print('The accuracies of K-Folds:')\n",
    "print(accuracies_SVC)\n",
    "print(\"\")\n",
    "print('The accuracies average of K-Folds:')\n",
    "print(accuracies_average_SVC)\n",
    "print(\"\")\n",
    "print('The accuracies standard deviation of K-Folds:')\n",
    "print(accuracies_deviation_SVC)\n",
    "print(\"\")\n",
    "cross_accuracy.append(accuracies_average_SVC)\n",
    "print(cross_accuracy)"
   ]
  },
  {
   "cell_type": "code",
   "execution_count": null,
   "id": "tUF2OEP3Lm5d",
   "metadata": {
    "id": "tUF2OEP3Lm5d",
    "outputId": "f0ce04c8-c88a-4a06-f52e-dfdb77f9f0cf"
   },
   "outputs": [
    {
     "name": "stdout",
     "output_type": "stream",
     "text": [
      "precision of K-Folds:\n",
      "[0.98275862 0.98214286 0.99115044 0.99074074 0.98165138 0.97368421\n",
      " 0.98275862 0.98198198 0.99099099 0.99099099]\n",
      "\n",
      "Average precision of K-Folds:\n",
      "0.9848850832377852\n",
      "\n",
      "precision deviation of K-Folds:\n",
      "0.005558916873131648\n",
      "\n",
      "[0.987710841241754, 0.9844308840125071, 0.9852278829738784, 0.9848850832377852]\n"
     ]
    }
   ],
   "source": [
    "# B. For the precision as scoring for Cross-Validation\n",
    "precision_SVC = (cross_val_score(estimator = lr_optimized, X=X_cv, y=y_cv, cv=k_Fold, scoring = 'precision'))\n",
    "precision_average_SVC = precision_SVC.mean()\n",
    "precision_deviation_SVC = precision_SVC.std()\n",
    "print('precision of K-Folds:')\n",
    "print(precision_SVC)\n",
    "print(\"\")\n",
    "print('Average precision of K-Folds:')\n",
    "print(precision_average_SVC)\n",
    "print(\"\")\n",
    "print('precision deviation of K-Folds:')\n",
    "print(precision_deviation_SVC)\n",
    "print(\"\")\n",
    "cross_precision.append(precision_average_SVC)\n",
    "print(cross_precision)"
   ]
  },
  {
   "cell_type": "code",
   "execution_count": null,
   "id": "gYjS1GV1Lm_O",
   "metadata": {
    "id": "gYjS1GV1Lm_O",
    "outputId": "af63a448-33b0-4e9b-e9da-07eaad1a4f4d"
   },
   "outputs": [
    {
     "name": "stdout",
     "output_type": "stream",
     "text": [
      "F1-SCORE of K-Folds:\n",
      "[0.95798319 0.94017094 0.95319149 0.93043478 0.92640693 0.94067797\n",
      " 0.95798319 0.93562232 0.94827586 0.94420601]\n",
      "\n",
      "Average F1 Score of K-Folds:\n",
      "0.9434952679453804\n",
      "\n",
      "F1 Score deviation of K-Folds:\n",
      "0.010395841903476456\n",
      "\n",
      "[0.937398922590131, 0.9551735425433359, 0.9486991187295771, 0.9434952679453804]\n"
     ]
    }
   ],
   "source": [
    "# C. For the F1 score as scoring for Cross-Validation\n",
    "f1_SVC = (cross_val_score(estimator = lr_optimized, X=X_cv, y=y_cv, cv=k_Fold, scoring = 'f1'))\n",
    "f1_average_SVC = f1_SVC.mean()\n",
    "f1_deviation_SVC = f1_SVC.std()\n",
    "print('F1-SCORE of K-Folds:')\n",
    "print(f1_SVC)\n",
    "print(\"\")\n",
    "print('Average F1 Score of K-Folds:')\n",
    "print(f1_average_SVC)\n",
    "print(\"\")\n",
    "print('F1 Score deviation of K-Folds:')\n",
    "print(f1_deviation_SVC)\n",
    "print(\"\")\n",
    "cross_f1_score.append(f1_average_SVC)\n",
    "print(cross_f1_score)"
   ]
  },
  {
   "cell_type": "code",
   "execution_count": null,
   "id": "sp3bBf1ELnDh",
   "metadata": {
    "id": "sp3bBf1ELnDh",
    "outputId": "92a6bfc6-9eba-4eb2-baba-821a7fb03587"
   },
   "outputs": [
    {
     "name": "stdout",
     "output_type": "stream",
     "text": [
      "The recall of K-Folds:\n",
      "[0.93442623 0.90163934 0.91803279 0.87704918 0.87704918 0.90983607\n",
      " 0.93442623 0.89344262 0.90909091 0.90163934]\n",
      "\n",
      "The recall average of K-Folds:\n",
      "0.9056631892697465\n",
      "\n",
      "The recall standard deviation of K-Folds:\n",
      "0.019120779237266575\n",
      "\n",
      "[0.8925552093212301, 0.9278349817097954, 0.9114076683376237, 0.9056631892697465]\n"
     ]
    }
   ],
   "source": [
    "# D. For the recall as scoring for Cross-Validation\n",
    "recall_SVC = (cross_val_score(estimator = lr_optimized, X=X_cv, y=y_cv, cv=k_Fold, scoring = 'recall'))\n",
    "recall_average_SVC= recall_SVC.mean()\n",
    "recall_deviation_SVC = recall_SVC.std()\n",
    "print('The recall of K-Folds:')\n",
    "print(recall_SVC)\n",
    "print(\"\")\n",
    "print('The recall average of K-Folds:')\n",
    "print(recall_average_SVC)\n",
    "print(\"\")\n",
    "print('The recall standard deviation of K-Folds:')\n",
    "print(recall_deviation_SVC)\n",
    "print(\"\")\n",
    "cross_recall.append(recall_average_SVC)\n",
    "print(cross_recall)"
   ]
  },
  {
   "cell_type": "markdown",
   "id": "Y_MTftiXMZdJ",
   "metadata": {
    "id": "Y_MTftiXMZdJ"
   },
   "source": [
    "# Visualize the Cross Validated Results"
   ]
  },
  {
   "cell_type": "code",
   "execution_count": null,
   "id": "dpNnCQmzMbrN",
   "metadata": {
    "id": "dpNnCQmzMbrN",
    "outputId": "b3689950-f44d-430f-9503-461f9fdb21f1"
   },
   "outputs": [
    {
     "data": {
      "text/html": [
       "<div>\n",
       "<style scoped>\n",
       "    .dataframe tbody tr th:only-of-type {\n",
       "        vertical-align: middle;\n",
       "    }\n",
       "\n",
       "    .dataframe tbody tr th {\n",
       "        vertical-align: top;\n",
       "    }\n",
       "\n",
       "    .dataframe thead th {\n",
       "        text-align: right;\n",
       "    }\n",
       "</style>\n",
       "<table border=\"1\" class=\"dataframe\">\n",
       "  <thead>\n",
       "    <tr style=\"text-align: right;\">\n",
       "      <th></th>\n",
       "      <th>Algorithm</th>\n",
       "      <th>Accuracy</th>\n",
       "      <th>Precision</th>\n",
       "      <th>F1 Score</th>\n",
       "      <th>Recall</th>\n",
       "    </tr>\n",
       "  </thead>\n",
       "  <tbody>\n",
       "    <tr>\n",
       "      <th>1</th>\n",
       "      <td>BNB</td>\n",
       "      <td>0.966333</td>\n",
       "      <td>0.984431</td>\n",
       "      <td>0.955174</td>\n",
       "      <td>0.927835</td>\n",
       "    </tr>\n",
       "    <tr>\n",
       "      <th>2</th>\n",
       "      <td>RFC</td>\n",
       "      <td>0.960297</td>\n",
       "      <td>0.985228</td>\n",
       "      <td>0.948699</td>\n",
       "      <td>0.911408</td>\n",
       "    </tr>\n",
       "    <tr>\n",
       "      <th>0</th>\n",
       "      <td>LR</td>\n",
       "      <td>0.958709</td>\n",
       "      <td>0.987711</td>\n",
       "      <td>0.937399</td>\n",
       "      <td>0.892555</td>\n",
       "    </tr>\n",
       "    <tr>\n",
       "      <th>3</th>\n",
       "      <td>ETC</td>\n",
       "      <td>0.958070</td>\n",
       "      <td>0.984885</td>\n",
       "      <td>0.943495</td>\n",
       "      <td>0.905663</td>\n",
       "    </tr>\n",
       "  </tbody>\n",
       "</table>\n",
       "</div>"
      ],
      "text/plain": [
       "  Algorithm  Accuracy  Precision  F1 Score    Recall\n",
       "1       BNB  0.966333   0.984431  0.955174  0.927835\n",
       "2       RFC  0.960297   0.985228  0.948699  0.911408\n",
       "0        LR  0.958709   0.987711  0.937399  0.892555\n",
       "3       ETC  0.958070   0.984885  0.943495  0.905663"
      ]
     },
     "execution_count": 61,
     "metadata": {},
     "output_type": "execute_result"
    }
   ],
   "source": [
    "#CREATE A DATAFRAME TO FOR EASIER VISUALIZATION\n",
    "cross_val_model_performance = pd.DataFrame({'Algorithm' : classifier.keys(), \n",
    "                                  'Accuracy' : cross_accuracy, \n",
    "                                  'Precision' : cross_precision, \n",
    "                                  'F1 Score' : cross_f1_score,\n",
    "                                  'Recall' : cross_recall})\n",
    "cross_val_model_performance.sort_values('Accuracy', ascending=False)"
   ]
  },
  {
   "cell_type": "code",
   "execution_count": null,
   "id": "NAZRSfd_Ozfs",
   "metadata": {
    "id": "NAZRSfd_Ozfs",
    "outputId": "7330c6c7-1e0c-4306-8d28-4b622a3659e8"
   },
   "outputs": [
    {
     "data": {
      "image/png": "[encoded data removed]",
      "text/plain": [
       "<Figure size 441.75x360 with 1 Axes>"
      ]
     },
     "metadata": {
      "needs_background": "light"
     },
     "output_type": "display_data"
    }
   ],
   "source": [
    "#TO VISUALIZE cross_val_performance_df1\n",
    "import matplotlib.pyplot as plt\n",
    "import seaborn as sns\n",
    "\n",
    "cross_val_performance_df1 = pd.melt(cross_val_model_performance, id_vars=\"Algorithm\")\n",
    "sns.catplot(x='Algorithm', y='value', hue='variable', data=cross_val_performance_df1, kind='bar', height=5)\n",
    "plt.ylim(0.5, 1.0)\n",
    "plt.xticks(rotation='vertical')\n",
    "plt.show()"
   ]
  }
 ],
 "metadata": {
  "colab": {
   "provenance": []
  },
  "kernelspec": {
   "display_name": "Python 3 (ipykernel)",
   "language": "python",
   "name": "python3"
  },
  "language_info": {
   "codemirror_mode": {
    "name": "ipython",
    "version": 3
   },
   "file_extension": ".py",
   "mimetype": "text/x-python",
   "name": "python",
   "nbconvert_exporter": "python",
   "pygments_lexer": "ipython3",
   "version": "3.9.16"
  }
 },
 "nbformat": 4,
 "nbformat_minor": 5
}
