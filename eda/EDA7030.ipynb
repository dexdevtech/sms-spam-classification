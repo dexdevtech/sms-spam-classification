{
 "cells": [
  {
   "cell_type": "markdown",
   "id": "4f22a112",
   "metadata": {},
   "source": [
    "<center><h1 style=\"font-family: 'Georgia'; color: #f2f2f2; background-color:#800040; padding: 20px;\">Exploratory Data Analysis: Text Message Spam Detection\n",
    "    </h1></center>"
   ]
  },
  {
   "cell_type": "markdown",
   "id": "5298711c",
   "metadata": {},
   "source": [
    "<p style=\"font-family: 'Georgia'; font-size: 16px; font-weight: 800; color: #800040;\">\n",
    "This is the exploratory data analysis for the 70-30 dataset.\n",
    "</p>"
   ]
  },
  {
   "cell_type": "code",
   "execution_count": 66,
   "id": "e46da73e",
   "metadata": {},
   "outputs": [],
   "source": [
    "# IMPORT LIBRARIES\n",
    "import pandas as pd\n",
    "import matplotlib.pyplot as plt\n",
    "import seaborn as sns\n",
    "import nltk"
   ]
  },
  {
   "cell_type": "code",
   "execution_count": 67,
   "id": "9f25c460",
   "metadata": {
    "scrolled": true
   },
   "outputs": [
    {
     "name": "stdout",
     "output_type": "stream",
     "text": [
      "(4306, 2)\n"
     ]
    },
    {
     "data": {
      "text/html": [
       "<div>\n",
       "<style scoped>\n",
       "    .dataframe tbody tr th:only-of-type {\n",
       "        vertical-align: middle;\n",
       "    }\n",
       "\n",
       "    .dataframe tbody tr th {\n",
       "        vertical-align: top;\n",
       "    }\n",
       "\n",
       "    .dataframe thead th {\n",
       "        text-align: right;\n",
       "    }\n",
       "</style>\n",
       "<table border=\"1\" class=\"dataframe\">\n",
       "  <thead>\n",
       "    <tr style=\"text-align: right;\">\n",
       "      <th></th>\n",
       "      <th>tag</th>\n",
       "      <th>message</th>\n",
       "    </tr>\n",
       "  </thead>\n",
       "  <tbody>\n",
       "    <tr>\n",
       "      <th>0</th>\n",
       "      <td>ham</td>\n",
       "      <td>Shopping lor. Them raining mah hard 2 leave or...</td>\n",
       "    </tr>\n",
       "    <tr>\n",
       "      <th>1</th>\n",
       "      <td>ham</td>\n",
       "      <td>U still painting ur wall?</td>\n",
       "    </tr>\n",
       "    <tr>\n",
       "      <th>2</th>\n",
       "      <td>ham</td>\n",
       "      <td>Lol, oh you got a friend for the dog ?</td>\n",
       "    </tr>\n",
       "    <tr>\n",
       "      <th>3</th>\n",
       "      <td>ham</td>\n",
       "      <td>Sure, if I get an acknowledgement from you tha...</td>\n",
       "    </tr>\n",
       "    <tr>\n",
       "      <th>4</th>\n",
       "      <td>ham</td>\n",
       "      <td>I'm stuck in da middle of da row on da right h...</td>\n",
       "    </tr>\n",
       "  </tbody>\n",
       "</table>\n",
       "</div>"
      ],
      "text/plain": [
       "   tag                                            message\n",
       "0  ham  Shopping lor. Them raining mah hard 2 leave or...\n",
       "1  ham                          U still painting ur wall?\n",
       "2  ham             Lol, oh you got a friend for the dog ?\n",
       "3  ham  Sure, if I get an acknowledgement from you tha...\n",
       "4  ham  I'm stuck in da middle of da row on da right h..."
      ]
     },
     "execution_count": 67,
     "metadata": {},
     "output_type": "execute_result"
    }
   ],
   "source": [
    "#LOAD THE DATASET\n",
    "df = pd.read_csv('../datasets/cleaned_datasets/dataset7030.csv') \n",
    "print(df.shape)\n",
    "df.head()"
   ]
  },
  {
   "cell_type": "code",
   "execution_count": 68,
   "id": "39b41eff",
   "metadata": {},
   "outputs": [],
   "source": [
    "# LABEL ENCODE THE tag COLUMN\n",
    "from sklearn.preprocessing import LabelEncoder\n",
    "encoder = LabelEncoder()\n",
    "df['tag'] = encoder.fit_transform(df['tag'])"
   ]
  },
  {
   "cell_type": "code",
   "execution_count": 69,
   "id": "b983cd51",
   "metadata": {},
   "outputs": [
    {
     "data": {
      "text/html": [
       "<div>\n",
       "<style scoped>\n",
       "    .dataframe tbody tr th:only-of-type {\n",
       "        vertical-align: middle;\n",
       "    }\n",
       "\n",
       "    .dataframe tbody tr th {\n",
       "        vertical-align: top;\n",
       "    }\n",
       "\n",
       "    .dataframe thead th {\n",
       "        text-align: right;\n",
       "    }\n",
       "</style>\n",
       "<table border=\"1\" class=\"dataframe\">\n",
       "  <thead>\n",
       "    <tr style=\"text-align: right;\">\n",
       "      <th></th>\n",
       "      <th>tag</th>\n",
       "      <th>message</th>\n",
       "    </tr>\n",
       "  </thead>\n",
       "  <tbody>\n",
       "    <tr>\n",
       "      <th>0</th>\n",
       "      <td>0</td>\n",
       "      <td>Shopping lor. Them raining mah hard 2 leave or...</td>\n",
       "    </tr>\n",
       "    <tr>\n",
       "      <th>1</th>\n",
       "      <td>0</td>\n",
       "      <td>U still painting ur wall?</td>\n",
       "    </tr>\n",
       "    <tr>\n",
       "      <th>2</th>\n",
       "      <td>0</td>\n",
       "      <td>Lol, oh you got a friend for the dog ?</td>\n",
       "    </tr>\n",
       "    <tr>\n",
       "      <th>3</th>\n",
       "      <td>0</td>\n",
       "      <td>Sure, if I get an acknowledgement from you tha...</td>\n",
       "    </tr>\n",
       "    <tr>\n",
       "      <th>4</th>\n",
       "      <td>0</td>\n",
       "      <td>I'm stuck in da middle of da row on da right h...</td>\n",
       "    </tr>\n",
       "  </tbody>\n",
       "</table>\n",
       "</div>"
      ],
      "text/plain": [
       "   tag                                            message\n",
       "0    0  Shopping lor. Them raining mah hard 2 leave or...\n",
       "1    0                          U still painting ur wall?\n",
       "2    0             Lol, oh you got a friend for the dog ?\n",
       "3    0  Sure, if I get an acknowledgement from you tha...\n",
       "4    0  I'm stuck in da middle of da row on da right h..."
      ]
     },
     "execution_count": 69,
     "metadata": {},
     "output_type": "execute_result"
    }
   ],
   "source": [
    "df.head() # ham is labeled 0, spam is tagged as 1"
   ]
  },
  {
   "cell_type": "markdown",
   "id": "868d8728",
   "metadata": {},
   "source": [
    "<h1 style=\"font-family: 'Georgia'; font-size: 24px; color: #008000;\">Raw Format</h1>"
   ]
  },
  {
   "cell_type": "code",
   "execution_count": 70,
   "id": "18bb5154",
   "metadata": {},
   "outputs": [
    {
     "data": {
      "text/html": [
       "<div>\n",
       "<style scoped>\n",
       "    .dataframe tbody tr th:only-of-type {\n",
       "        vertical-align: middle;\n",
       "    }\n",
       "\n",
       "    .dataframe tbody tr th {\n",
       "        vertical-align: top;\n",
       "    }\n",
       "\n",
       "    .dataframe thead th {\n",
       "        text-align: right;\n",
       "    }\n",
       "</style>\n",
       "<table border=\"1\" class=\"dataframe\">\n",
       "  <thead>\n",
       "    <tr style=\"text-align: right;\">\n",
       "      <th></th>\n",
       "      <th>tag</th>\n",
       "      <th>message</th>\n",
       "      <th>num_chars_raw</th>\n",
       "      <th>num_words_raw</th>\n",
       "      <th>num_sentences_raw</th>\n",
       "    </tr>\n",
       "  </thead>\n",
       "  <tbody>\n",
       "    <tr>\n",
       "      <th>0</th>\n",
       "      <td>0</td>\n",
       "      <td>Shopping lor. Them raining mah hard 2 leave or...</td>\n",
       "      <td>52</td>\n",
       "      <td>11</td>\n",
       "      <td>2</td>\n",
       "    </tr>\n",
       "    <tr>\n",
       "      <th>1</th>\n",
       "      <td>0</td>\n",
       "      <td>U still painting ur wall?</td>\n",
       "      <td>25</td>\n",
       "      <td>6</td>\n",
       "      <td>1</td>\n",
       "    </tr>\n",
       "    <tr>\n",
       "      <th>2</th>\n",
       "      <td>0</td>\n",
       "      <td>Lol, oh you got a friend for the dog ?</td>\n",
       "      <td>38</td>\n",
       "      <td>11</td>\n",
       "      <td>1</td>\n",
       "    </tr>\n",
       "    <tr>\n",
       "      <th>3</th>\n",
       "      <td>0</td>\n",
       "      <td>Sure, if I get an acknowledgement from you tha...</td>\n",
       "      <td>120</td>\n",
       "      <td>23</td>\n",
       "      <td>1</td>\n",
       "    </tr>\n",
       "    <tr>\n",
       "      <th>4</th>\n",
       "      <td>0</td>\n",
       "      <td>I'm stuck in da middle of da row on da right h...</td>\n",
       "      <td>67</td>\n",
       "      <td>18</td>\n",
       "      <td>1</td>\n",
       "    </tr>\n",
       "  </tbody>\n",
       "</table>\n",
       "</div>"
      ],
      "text/plain": [
       "   tag                                            message  num_chars_raw  \\\n",
       "0    0  Shopping lor. Them raining mah hard 2 leave or...             52   \n",
       "1    0                          U still painting ur wall?             25   \n",
       "2    0             Lol, oh you got a friend for the dog ?             38   \n",
       "3    0  Sure, if I get an acknowledgement from you tha...            120   \n",
       "4    0  I'm stuck in da middle of da row on da right h...             67   \n",
       "\n",
       "   num_words_raw  num_sentences_raw  \n",
       "0             11                  2  \n",
       "1              6                  1  \n",
       "2             11                  1  \n",
       "3             23                  1  \n",
       "4             18                  1  "
      ]
     },
     "execution_count": 70,
     "metadata": {},
     "output_type": "execute_result"
    }
   ],
   "source": [
    "# EXTRACT NUMBER OF CHARACTERS \n",
    "df['num_chars_raw'] = df['message'].apply(len) # .apply() is a function that is applied to each row in a dataframe\n",
    "\n",
    "#EXTRACT NUMBER OF WORDS\n",
    "df['num_words_raw'] = df['message'].apply(lambda x:len(nltk.word_tokenize(x))) # word by word separation\n",
    "\n",
    "#EXTRACT NUMBER OF SENTENCES\n",
    "df['num_sentences_raw'] = df['message'].apply(lambda x:len(nltk.sent_tokenize(x))) # sentence by sentence separation\n",
    "\n",
    "df.head()"
   ]
  },
  {
   "cell_type": "code",
   "execution_count": 71,
   "id": "bf58ed37",
   "metadata": {},
   "outputs": [
    {
     "data": {
      "text/html": [
       "<div>\n",
       "<style scoped>\n",
       "    .dataframe tbody tr th:only-of-type {\n",
       "        vertical-align: middle;\n",
       "    }\n",
       "\n",
       "    .dataframe tbody tr th {\n",
       "        vertical-align: top;\n",
       "    }\n",
       "\n",
       "    .dataframe thead th {\n",
       "        text-align: right;\n",
       "    }\n",
       "</style>\n",
       "<table border=\"1\" class=\"dataframe\">\n",
       "  <thead>\n",
       "    <tr style=\"text-align: right;\">\n",
       "      <th></th>\n",
       "      <th>tag</th>\n",
       "      <th>num_chars_raw</th>\n",
       "      <th>num_words_raw</th>\n",
       "      <th>num_sentences_raw</th>\n",
       "    </tr>\n",
       "  </thead>\n",
       "  <tbody>\n",
       "    <tr>\n",
       "      <th>count</th>\n",
       "      <td>4306.000000</td>\n",
       "      <td>4306.000000</td>\n",
       "      <td>4306.000000</td>\n",
       "      <td>4306.000000</td>\n",
       "    </tr>\n",
       "    <tr>\n",
       "      <th>mean</th>\n",
       "      <td>0.300046</td>\n",
       "      <td>89.891779</td>\n",
       "      <td>20.219693</td>\n",
       "      <td>2.139805</td>\n",
       "    </tr>\n",
       "    <tr>\n",
       "      <th>std</th>\n",
       "      <td>0.458331</td>\n",
       "      <td>59.873284</td>\n",
       "      <td>13.218227</td>\n",
       "      <td>1.443141</td>\n",
       "    </tr>\n",
       "    <tr>\n",
       "      <th>min</th>\n",
       "      <td>0.000000</td>\n",
       "      <td>3.000000</td>\n",
       "      <td>1.000000</td>\n",
       "      <td>1.000000</td>\n",
       "    </tr>\n",
       "    <tr>\n",
       "      <th>25%</th>\n",
       "      <td>0.000000</td>\n",
       "      <td>41.000000</td>\n",
       "      <td>10.000000</td>\n",
       "      <td>1.000000</td>\n",
       "    </tr>\n",
       "    <tr>\n",
       "      <th>50%</th>\n",
       "      <td>0.000000</td>\n",
       "      <td>76.000000</td>\n",
       "      <td>18.000000</td>\n",
       "      <td>2.000000</td>\n",
       "    </tr>\n",
       "    <tr>\n",
       "      <th>75%</th>\n",
       "      <td>1.000000</td>\n",
       "      <td>135.000000</td>\n",
       "      <td>28.000000</td>\n",
       "      <td>3.000000</td>\n",
       "    </tr>\n",
       "    <tr>\n",
       "      <th>max</th>\n",
       "      <td>1.000000</td>\n",
       "      <td>790.000000</td>\n",
       "      <td>220.000000</td>\n",
       "      <td>28.000000</td>\n",
       "    </tr>\n",
       "  </tbody>\n",
       "</table>\n",
       "</div>"
      ],
      "text/plain": [
       "               tag  num_chars_raw  num_words_raw  num_sentences_raw\n",
       "count  4306.000000    4306.000000    4306.000000        4306.000000\n",
       "mean      0.300046      89.891779      20.219693           2.139805\n",
       "std       0.458331      59.873284      13.218227           1.443141\n",
       "min       0.000000       3.000000       1.000000           1.000000\n",
       "25%       0.000000      41.000000      10.000000           1.000000\n",
       "50%       0.000000      76.000000      18.000000           2.000000\n",
       "75%       1.000000     135.000000      28.000000           3.000000\n",
       "max       1.000000     790.000000     220.000000          28.000000"
      ]
     },
     "execution_count": 71,
     "metadata": {},
     "output_type": "execute_result"
    }
   ],
   "source": [
    "df.describe()"
   ]
  },
  {
   "cell_type": "code",
   "execution_count": 72,
   "id": "98226e2f",
   "metadata": {},
   "outputs": [
    {
     "data": {
      "text/html": [
       "<div>\n",
       "<style scoped>\n",
       "    .dataframe tbody tr th:only-of-type {\n",
       "        vertical-align: middle;\n",
       "    }\n",
       "\n",
       "    .dataframe tbody tr th {\n",
       "        vertical-align: top;\n",
       "    }\n",
       "\n",
       "    .dataframe thead th {\n",
       "        text-align: right;\n",
       "    }\n",
       "</style>\n",
       "<table border=\"1\" class=\"dataframe\">\n",
       "  <thead>\n",
       "    <tr style=\"text-align: right;\">\n",
       "      <th></th>\n",
       "      <th>num_chars_raw</th>\n",
       "      <th>num_words_raw</th>\n",
       "      <th>num_sentences_raw</th>\n",
       "    </tr>\n",
       "  </thead>\n",
       "  <tbody>\n",
       "    <tr>\n",
       "      <th>count</th>\n",
       "      <td>3014.000000</td>\n",
       "      <td>3014.000000</td>\n",
       "      <td>3014.000000</td>\n",
       "    </tr>\n",
       "    <tr>\n",
       "      <th>mean</th>\n",
       "      <td>70.619443</td>\n",
       "      <td>17.201725</td>\n",
       "      <td>1.811546</td>\n",
       "    </tr>\n",
       "    <tr>\n",
       "      <th>std</th>\n",
       "      <td>55.170997</td>\n",
       "      <td>13.481452</td>\n",
       "      <td>1.298849</td>\n",
       "    </tr>\n",
       "    <tr>\n",
       "      <th>min</th>\n",
       "      <td>3.000000</td>\n",
       "      <td>1.000000</td>\n",
       "      <td>1.000000</td>\n",
       "    </tr>\n",
       "    <tr>\n",
       "      <th>25%</th>\n",
       "      <td>34.000000</td>\n",
       "      <td>9.000000</td>\n",
       "      <td>1.000000</td>\n",
       "    </tr>\n",
       "    <tr>\n",
       "      <th>50%</th>\n",
       "      <td>53.000000</td>\n",
       "      <td>13.000000</td>\n",
       "      <td>1.000000</td>\n",
       "    </tr>\n",
       "    <tr>\n",
       "      <th>75%</th>\n",
       "      <td>90.000000</td>\n",
       "      <td>22.000000</td>\n",
       "      <td>2.000000</td>\n",
       "    </tr>\n",
       "    <tr>\n",
       "      <th>max</th>\n",
       "      <td>790.000000</td>\n",
       "      <td>220.000000</td>\n",
       "      <td>28.000000</td>\n",
       "    </tr>\n",
       "  </tbody>\n",
       "</table>\n",
       "</div>"
      ],
      "text/plain": [
       "       num_chars_raw  num_words_raw  num_sentences_raw\n",
       "count    3014.000000    3014.000000        3014.000000\n",
       "mean       70.619443      17.201725           1.811546\n",
       "std        55.170997      13.481452           1.298849\n",
       "min         3.000000       1.000000           1.000000\n",
       "25%        34.000000       9.000000           1.000000\n",
       "50%        53.000000      13.000000           1.000000\n",
       "75%        90.000000      22.000000           2.000000\n",
       "max       790.000000     220.000000          28.000000"
      ]
     },
     "execution_count": 72,
     "metadata": {},
     "output_type": "execute_result"
    }
   ],
   "source": [
    "#LETS GET THE BASIC STATISTICAL SUMMARY OF HAM MESSAGES\n",
    "df[df['tag'] == 0][['num_chars_raw', 'num_words_raw', 'num_sentences_raw']].describe()"
   ]
  },
  {
   "cell_type": "code",
   "execution_count": 73,
   "id": "8f4621a8",
   "metadata": {},
   "outputs": [
    {
     "data": {
      "text/html": [
       "<div>\n",
       "<style scoped>\n",
       "    .dataframe tbody tr th:only-of-type {\n",
       "        vertical-align: middle;\n",
       "    }\n",
       "\n",
       "    .dataframe tbody tr th {\n",
       "        vertical-align: top;\n",
       "    }\n",
       "\n",
       "    .dataframe thead th {\n",
       "        text-align: right;\n",
       "    }\n",
       "</style>\n",
       "<table border=\"1\" class=\"dataframe\">\n",
       "  <thead>\n",
       "    <tr style=\"text-align: right;\">\n",
       "      <th></th>\n",
       "      <th>num_chars_raw</th>\n",
       "      <th>num_words_raw</th>\n",
       "      <th>num_sentences_raw</th>\n",
       "    </tr>\n",
       "  </thead>\n",
       "  <tbody>\n",
       "    <tr>\n",
       "      <th>count</th>\n",
       "      <td>1292.000000</td>\n",
       "      <td>1292.000000</td>\n",
       "      <td>1292.000000</td>\n",
       "    </tr>\n",
       "    <tr>\n",
       "      <th>mean</th>\n",
       "      <td>134.850619</td>\n",
       "      <td>27.260062</td>\n",
       "      <td>2.905573</td>\n",
       "    </tr>\n",
       "    <tr>\n",
       "      <th>std</th>\n",
       "      <td>44.273428</td>\n",
       "      <td>9.358702</td>\n",
       "      <td>1.472832</td>\n",
       "    </tr>\n",
       "    <tr>\n",
       "      <th>min</th>\n",
       "      <td>9.000000</td>\n",
       "      <td>2.000000</td>\n",
       "      <td>1.000000</td>\n",
       "    </tr>\n",
       "    <tr>\n",
       "      <th>25%</th>\n",
       "      <td>112.750000</td>\n",
       "      <td>23.000000</td>\n",
       "      <td>2.000000</td>\n",
       "    </tr>\n",
       "    <tr>\n",
       "      <th>50%</th>\n",
       "      <td>140.000000</td>\n",
       "      <td>28.000000</td>\n",
       "      <td>3.000000</td>\n",
       "    </tr>\n",
       "    <tr>\n",
       "      <th>75%</th>\n",
       "      <td>156.000000</td>\n",
       "      <td>32.000000</td>\n",
       "      <td>4.000000</td>\n",
       "    </tr>\n",
       "    <tr>\n",
       "      <th>max</th>\n",
       "      <td>471.000000</td>\n",
       "      <td>118.000000</td>\n",
       "      <td>14.000000</td>\n",
       "    </tr>\n",
       "  </tbody>\n",
       "</table>\n",
       "</div>"
      ],
      "text/plain": [
       "       num_chars_raw  num_words_raw  num_sentences_raw\n",
       "count    1292.000000    1292.000000        1292.000000\n",
       "mean      134.850619      27.260062           2.905573\n",
       "std        44.273428       9.358702           1.472832\n",
       "min         9.000000       2.000000           1.000000\n",
       "25%       112.750000      23.000000           2.000000\n",
       "50%       140.000000      28.000000           3.000000\n",
       "75%       156.000000      32.000000           4.000000\n",
       "max       471.000000     118.000000          14.000000"
      ]
     },
     "execution_count": 73,
     "metadata": {},
     "output_type": "execute_result"
    }
   ],
   "source": [
    "#LETS GET THE BASIC STATISTICAL SUMMARY OF SPAM MESSAGES\n",
    "df[df['tag'] == 1][['num_chars_raw', 'num_words_raw', 'num_sentences_raw']].describe()"
   ]
  },
  {
   "cell_type": "markdown",
   "id": "720afa8b",
   "metadata": {},
   "source": [
    "<p style=\"font-family: 'Georgia'; font-size: 15px; font-weight: 400; color: #800040;\">\n",
    "We can see that spam messages tend to have longer content, considering mean values of number of chars, words, and sentences. Spam messages are more consistent in content lenght than ham messages as shown in their standard deviations.\n",
    "</p>"
   ]
  },
  {
   "cell_type": "markdown",
   "id": "967a6078",
   "metadata": {},
   "source": [
    "<p style=\"font-family: 'Georgia'; font-size: 16px; font-weight: 800; color: #800040;\">\n",
    "    Visualize the ham vs spam differences in number of characters.\n",
    "</p>"
   ]
  },
  {
   "cell_type": "code",
   "execution_count": 74,
   "id": "e0cc6a8a",
   "metadata": {},
   "outputs": [
    {
     "data": {
      "text/plain": [
       "<Axes: xlabel='num_chars_raw', ylabel='Count'>"
      ]
     },
     "execution_count": 74,
     "metadata": {},
     "output_type": "execute_result"
    },
    {
     "data": {
      "image/png": "[encoded data removed]",
      "text/plain": [
       "<Figure size 1500x800 with 1 Axes>"
      ]
     },
     "metadata": {},
     "output_type": "display_data"
    }
   ],
   "source": [
    "plt.figure(figsize=(15,8))\n",
    "sns.histplot(df[df['tag'] == 0]['num_chars_raw'])\n",
    "sns.histplot(df[df['tag'] == 1]['num_chars_raw'], color=\"red\")"
   ]
  },
  {
   "cell_type": "markdown",
   "id": "173cb186",
   "metadata": {},
   "source": [
    "<p style=\"font-family: 'Georgia'; font-size: 16px; font-weight: 800; color: #800040;\">\n",
    "    Visualize the ham vs spam differences in number of words.\n",
    "</p>"
   ]
  },
  {
   "cell_type": "code",
   "execution_count": 75,
   "id": "025f8128",
   "metadata": {},
   "outputs": [
    {
     "data": {
      "text/plain": [
       "<Axes: xlabel='num_words_raw', ylabel='Count'>"
      ]
     },
     "execution_count": 75,
     "metadata": {},
     "output_type": "execute_result"
    },
    {
     "data": {
      "image/png": "[encoded data removed]",
      "text/plain": [
       "<Figure size 1500x800 with 1 Axes>"
      ]
     },
     "metadata": {},
     "output_type": "display_data"
    }
   ],
   "source": [
    "plt.figure(figsize=(15,8))\n",
    "sns.histplot(df[df['tag'] == 0]['num_words_raw'])\n",
    "sns.histplot(df[df['tag'] == 1]['num_words_raw'], color=\"red\")"
   ]
  },
  {
   "cell_type": "markdown",
   "id": "d0fe3396",
   "metadata": {},
   "source": [
    "<p style=\"font-family: 'Georgia'; font-size: 16px; font-weight: 800; color: #800040;\">\n",
    "    Pairplot Visualization.\n",
    "</p>"
   ]
  },
  {
   "cell_type": "code",
   "execution_count": 76,
   "id": "772b6254",
   "metadata": {},
   "outputs": [
    {
     "data": {
      "text/plain": [
       "<seaborn.axisgrid.PairGrid at 0x21ecc93aa90>"
      ]
     },
     "execution_count": 76,
     "metadata": {},
     "output_type": "execute_result"
    },
    {
     "data": {
      "image/png": "[encoded data removed]",
      "text/plain": [
       "<Figure size 808.875x750 with 12 Axes>"
      ]
     },
     "metadata": {},
     "output_type": "display_data"
    }
   ],
   "source": [
    "sns.pairplot(df, hue='tag')"
   ]
  },
  {
   "cell_type": "markdown",
   "id": "5cb39311",
   "metadata": {},
   "source": [
    "<p style=\"font-family: 'Georgia'; font-size: 15px; font-weight: 400; color: #800040;\">\n",
    "There is very litte difference in the trends of ham and spam messages in our dataset.\n",
    "</p>"
   ]
  },
  {
   "cell_type": "markdown",
   "id": "55fc9b95",
   "metadata": {},
   "source": [
    "<h1 style=\"font-family: 'Georgia'; font-size: 24px; color: #008000;\">Transformed Format</h1>"
   ]
  },
  {
   "cell_type": "markdown",
   "id": "573e8d31",
   "metadata": {},
   "source": [
    "<p style=\"font-family: 'Georgia'; font-size: 16px; font-weight: 800; color: #800040;\">\n",
    "    Steps in transforming the raw data.\n",
    "</p>\n",
    "\n",
    "<p style=\"font-family: 'Georgia'; font-size: 16px; font-weight: 800; color: #800040;\">\n",
    "    <ol>\n",
    "        <li style=\"font-family: 'Georgia'; font-size: 14px; font-weight: 500; color: #800040; font-style: italic\">\n",
    "            Lower case</li>\n",
    "        <li style=\"font-family: 'Georgia'; font-size: 14px; font-weight: 500; color: #800040; font-style: italic\">\n",
    "            Tokenization</li>\n",
    "        <li style=\"font-family: 'Georgia'; font-size: 14px; font-weight: 500; color: #800040; font-style: italic\">\n",
    "            Removal of special characters</li>\n",
    "        <li style=\"font-family: 'Georgia'; font-size: 14px; font-weight: 500; color: #800040; font-style: italic\">\n",
    "            Removing stopwords and punctuation</li>\n",
    "        <li style=\"font-family: 'Georgia'; font-size: 14px; font-weight: 500; color: #800040; font-style: italic\">Stemming</li>\n",
    "    </ol>\n",
    "</p>"
   ]
  },
  {
   "cell_type": "code",
   "execution_count": 77,
   "id": "ce42e949",
   "metadata": {},
   "outputs": [
    {
     "name": "stderr",
     "output_type": "stream",
     "text": [
      "[nltk_data] Downloading package stopwords to\n",
      "[nltk_data]     C:\\Users\\Dexter\\AppData\\Roaming\\nltk_data...\n",
      "[nltk_data]   Package stopwords is already up-to-date!\n"
     ]
    },
    {
     "data": {
      "text/plain": [
       "True"
      ]
     },
     "execution_count": 77,
     "metadata": {},
     "output_type": "execute_result"
    }
   ],
   "source": [
    "# DOWNLOAD THE STOPWORDS LIST\n",
    "nltk.download('stopwords')"
   ]
  },
  {
   "cell_type": "code",
   "execution_count": 78,
   "id": "77882de4",
   "metadata": {},
   "outputs": [],
   "source": [
    "from nltk.corpus import stopwords\n",
    "from nltk.stem.porter import PorterStemmer\n",
    "import string\n",
    "ps = PorterStemmer()\n",
    "\n",
    "#CREATE A FUNCTION THAT WILL TRANSFORM THE TEXT FROM THE DATAFRAME\n",
    "def transform_text(text):\n",
    "    text = text.lower()\n",
    "    text = nltk.word_tokenize(text)\n",
    "    \n",
    "    y = []\n",
    "    \n",
    "    # first processing stage: removing nonalphanumeric tokens (@, %, *...)\n",
    "    for i in text: \n",
    "        if i.isalnum():\n",
    "            y.append(i)\n",
    "\n",
    "    text = y[:] # text variable is updated with the content of y\n",
    "    y.clear() # y is cleared for next processing stage\n",
    "    \n",
    "    # second processing stage: if the word has an english meaning, we add it to y. Remember, y is now cleared.\n",
    "    for i in text: \n",
    "        if i not in stopwords.words('english') and i not in string.punctuation:\n",
    "            y.append(i)\n",
    "            \n",
    "    text = y[:] # text variable is updated with the content of y\n",
    "    y.clear() # y is cleared for next processing stage\n",
    "    \n",
    "    # third processing stage: stemming\n",
    "    for i in text:\n",
    "        y.append(ps.stem(i))\n",
    "    \n",
    "    return \" \".join(y)"
   ]
  },
  {
   "cell_type": "code",
   "execution_count": 79,
   "id": "301782a0",
   "metadata": {},
   "outputs": [
    {
     "name": "stdout",
     "output_type": "stream",
     "text": [
      "sample data point:          I am literally in bed and have been up for like  &lt;#&gt;  hours\n",
      "transformed data point:     liter bed like lt gt hour\n",
      "\n"
     ]
    }
   ],
   "source": [
    "# TESTING THE CODE\n",
    "print('sample data point:         ', df['message'][92])\n",
    "transform_8 = transform_text(df['message'][92])\n",
    "print('transformed data point:    ', transform_8)\n",
    "print()"
   ]
  },
  {
   "cell_type": "code",
   "execution_count": 80,
   "id": "15a2ca36",
   "metadata": {
    "scrolled": true
   },
   "outputs": [
    {
     "data": {
      "text/html": [
       "<div>\n",
       "<style scoped>\n",
       "    .dataframe tbody tr th:only-of-type {\n",
       "        vertical-align: middle;\n",
       "    }\n",
       "\n",
       "    .dataframe tbody tr th {\n",
       "        vertical-align: top;\n",
       "    }\n",
       "\n",
       "    .dataframe thead th {\n",
       "        text-align: right;\n",
       "    }\n",
       "</style>\n",
       "<table border=\"1\" class=\"dataframe\">\n",
       "  <thead>\n",
       "    <tr style=\"text-align: right;\">\n",
       "      <th></th>\n",
       "      <th>tag</th>\n",
       "      <th>message</th>\n",
       "      <th>num_chars_raw</th>\n",
       "      <th>num_words_raw</th>\n",
       "      <th>num_sentences_raw</th>\n",
       "      <th>message_transformed</th>\n",
       "    </tr>\n",
       "  </thead>\n",
       "  <tbody>\n",
       "    <tr>\n",
       "      <th>0</th>\n",
       "      <td>0</td>\n",
       "      <td>Shopping lor. Them raining mah hard 2 leave or...</td>\n",
       "      <td>52</td>\n",
       "      <td>11</td>\n",
       "      <td>2</td>\n",
       "      <td>shop lor rain mah hard 2 leav orchard</td>\n",
       "    </tr>\n",
       "    <tr>\n",
       "      <th>1</th>\n",
       "      <td>0</td>\n",
       "      <td>U still painting ur wall?</td>\n",
       "      <td>25</td>\n",
       "      <td>6</td>\n",
       "      <td>1</td>\n",
       "      <td>u still paint ur wall</td>\n",
       "    </tr>\n",
       "    <tr>\n",
       "      <th>2</th>\n",
       "      <td>0</td>\n",
       "      <td>Lol, oh you got a friend for the dog ?</td>\n",
       "      <td>38</td>\n",
       "      <td>11</td>\n",
       "      <td>1</td>\n",
       "      <td>lol oh got friend dog</td>\n",
       "    </tr>\n",
       "    <tr>\n",
       "      <th>3</th>\n",
       "      <td>0</td>\n",
       "      <td>Sure, if I get an acknowledgement from you tha...</td>\n",
       "      <td>120</td>\n",
       "      <td>23</td>\n",
       "      <td>1</td>\n",
       "      <td>sure get acknowledg astoundingli tactless gene...</td>\n",
       "    </tr>\n",
       "    <tr>\n",
       "      <th>4</th>\n",
       "      <td>0</td>\n",
       "      <td>I'm stuck in da middle of da row on da right h...</td>\n",
       "      <td>67</td>\n",
       "      <td>18</td>\n",
       "      <td>1</td>\n",
       "      <td>stuck da middl da row da right hand side da lt</td>\n",
       "    </tr>\n",
       "  </tbody>\n",
       "</table>\n",
       "</div>"
      ],
      "text/plain": [
       "   tag                                            message  num_chars_raw  \\\n",
       "0    0  Shopping lor. Them raining mah hard 2 leave or...             52   \n",
       "1    0                          U still painting ur wall?             25   \n",
       "2    0             Lol, oh you got a friend for the dog ?             38   \n",
       "3    0  Sure, if I get an acknowledgement from you tha...            120   \n",
       "4    0  I'm stuck in da middle of da row on da right h...             67   \n",
       "\n",
       "   num_words_raw  num_sentences_raw  \\\n",
       "0             11                  2   \n",
       "1              6                  1   \n",
       "2             11                  1   \n",
       "3             23                  1   \n",
       "4             18                  1   \n",
       "\n",
       "                                 message_transformed  \n",
       "0              shop lor rain mah hard 2 leav orchard  \n",
       "1                              u still paint ur wall  \n",
       "2                              lol oh got friend dog  \n",
       "3  sure get acknowledg astoundingli tactless gene...  \n",
       "4     stuck da middl da row da right hand side da lt  "
      ]
     },
     "execution_count": 80,
     "metadata": {},
     "output_type": "execute_result"
    }
   ],
   "source": [
    "# APPLY THE FUNCTION TO EACH ROW AND THEN CREATE A message_transformed COLUMN\n",
    "df['message_transformed'] = df['message'].apply(transform_text)\n",
    "df.head()"
   ]
  },
  {
   "cell_type": "code",
   "execution_count": 81,
   "id": "34d272f7",
   "metadata": {},
   "outputs": [
    {
     "data": {
      "text/html": [
       "<div>\n",
       "<style scoped>\n",
       "    .dataframe tbody tr th:only-of-type {\n",
       "        vertical-align: middle;\n",
       "    }\n",
       "\n",
       "    .dataframe tbody tr th {\n",
       "        vertical-align: top;\n",
       "    }\n",
       "\n",
       "    .dataframe thead th {\n",
       "        text-align: right;\n",
       "    }\n",
       "</style>\n",
       "<table border=\"1\" class=\"dataframe\">\n",
       "  <thead>\n",
       "    <tr style=\"text-align: right;\">\n",
       "      <th></th>\n",
       "      <th>tag</th>\n",
       "      <th>message</th>\n",
       "      <th>num_chars_raw</th>\n",
       "      <th>num_words_raw</th>\n",
       "      <th>num_sentences_raw</th>\n",
       "      <th>message_transformed</th>\n",
       "      <th>num_chars_transformed</th>\n",
       "      <th>num_words_transformed</th>\n",
       "      <th>num_sentences_transformed</th>\n",
       "    </tr>\n",
       "  </thead>\n",
       "  <tbody>\n",
       "    <tr>\n",
       "      <th>0</th>\n",
       "      <td>0</td>\n",
       "      <td>Shopping lor. Them raining mah hard 2 leave or...</td>\n",
       "      <td>52</td>\n",
       "      <td>11</td>\n",
       "      <td>2</td>\n",
       "      <td>shop lor rain mah hard 2 leav orchard</td>\n",
       "      <td>37</td>\n",
       "      <td>8</td>\n",
       "      <td>1</td>\n",
       "    </tr>\n",
       "    <tr>\n",
       "      <th>1</th>\n",
       "      <td>0</td>\n",
       "      <td>U still painting ur wall?</td>\n",
       "      <td>25</td>\n",
       "      <td>6</td>\n",
       "      <td>1</td>\n",
       "      <td>u still paint ur wall</td>\n",
       "      <td>21</td>\n",
       "      <td>5</td>\n",
       "      <td>1</td>\n",
       "    </tr>\n",
       "    <tr>\n",
       "      <th>2</th>\n",
       "      <td>0</td>\n",
       "      <td>Lol, oh you got a friend for the dog ?</td>\n",
       "      <td>38</td>\n",
       "      <td>11</td>\n",
       "      <td>1</td>\n",
       "      <td>lol oh got friend dog</td>\n",
       "      <td>21</td>\n",
       "      <td>5</td>\n",
       "      <td>1</td>\n",
       "    </tr>\n",
       "    <tr>\n",
       "      <th>3</th>\n",
       "      <td>0</td>\n",
       "      <td>Sure, if I get an acknowledgement from you tha...</td>\n",
       "      <td>120</td>\n",
       "      <td>23</td>\n",
       "      <td>1</td>\n",
       "      <td>sure get acknowledg astoundingli tactless gene...</td>\n",
       "      <td>74</td>\n",
       "      <td>11</td>\n",
       "      <td>1</td>\n",
       "    </tr>\n",
       "    <tr>\n",
       "      <th>4</th>\n",
       "      <td>0</td>\n",
       "      <td>I'm stuck in da middle of da row on da right h...</td>\n",
       "      <td>67</td>\n",
       "      <td>18</td>\n",
       "      <td>1</td>\n",
       "      <td>stuck da middl da row da right hand side da lt</td>\n",
       "      <td>46</td>\n",
       "      <td>11</td>\n",
       "      <td>1</td>\n",
       "    </tr>\n",
       "  </tbody>\n",
       "</table>\n",
       "</div>"
      ],
      "text/plain": [
       "   tag                                            message  num_chars_raw  \\\n",
       "0    0  Shopping lor. Them raining mah hard 2 leave or...             52   \n",
       "1    0                          U still painting ur wall?             25   \n",
       "2    0             Lol, oh you got a friend for the dog ?             38   \n",
       "3    0  Sure, if I get an acknowledgement from you tha...            120   \n",
       "4    0  I'm stuck in da middle of da row on da right h...             67   \n",
       "\n",
       "   num_words_raw  num_sentences_raw  \\\n",
       "0             11                  2   \n",
       "1              6                  1   \n",
       "2             11                  1   \n",
       "3             23                  1   \n",
       "4             18                  1   \n",
       "\n",
       "                                 message_transformed  num_chars_transformed  \\\n",
       "0              shop lor rain mah hard 2 leav orchard                     37   \n",
       "1                              u still paint ur wall                     21   \n",
       "2                              lol oh got friend dog                     21   \n",
       "3  sure get acknowledg astoundingli tactless gene...                     74   \n",
       "4     stuck da middl da row da right hand side da lt                     46   \n",
       "\n",
       "   num_words_transformed  num_sentences_transformed  \n",
       "0                      8                          1  \n",
       "1                      5                          1  \n",
       "2                      5                          1  \n",
       "3                     11                          1  \n",
       "4                     11                          1  "
      ]
     },
     "execution_count": 81,
     "metadata": {},
     "output_type": "execute_result"
    }
   ],
   "source": [
    "# RECOUNT THE NUMBER OF CHARACTERS, WORDS, AND SENTENCES ON THE TRANSFORMED TEXTS\n",
    "df['num_chars_transformed'] = df['message_transformed'].apply(len)\n",
    "df['num_words_transformed'] = df['message_transformed'].apply(lambda x:len(nltk.word_tokenize(x)))\n",
    "df['num_sentences_transformed'] = df['message_transformed'].apply(lambda x:len(nltk.sent_tokenize(x)))\n",
    "df.head()"
   ]
  },
  {
   "cell_type": "code",
   "execution_count": 82,
   "id": "170e2bc8",
   "metadata": {},
   "outputs": [
    {
     "data": {
      "text/html": [
       "<div>\n",
       "<style scoped>\n",
       "    .dataframe tbody tr th:only-of-type {\n",
       "        vertical-align: middle;\n",
       "    }\n",
       "\n",
       "    .dataframe tbody tr th {\n",
       "        vertical-align: top;\n",
       "    }\n",
       "\n",
       "    .dataframe thead th {\n",
       "        text-align: right;\n",
       "    }\n",
       "</style>\n",
       "<table border=\"1\" class=\"dataframe\">\n",
       "  <thead>\n",
       "    <tr style=\"text-align: right;\">\n",
       "      <th></th>\n",
       "      <th>tag</th>\n",
       "      <th>num_chars_raw</th>\n",
       "      <th>num_words_raw</th>\n",
       "      <th>num_sentences_raw</th>\n",
       "      <th>num_chars_transformed</th>\n",
       "      <th>num_words_transformed</th>\n",
       "      <th>num_sentences_transformed</th>\n",
       "    </tr>\n",
       "  </thead>\n",
       "  <tbody>\n",
       "    <tr>\n",
       "      <th>count</th>\n",
       "      <td>4306.000000</td>\n",
       "      <td>4306.000000</td>\n",
       "      <td>4306.000000</td>\n",
       "      <td>4306.000000</td>\n",
       "      <td>4306.000000</td>\n",
       "      <td>4306.000000</td>\n",
       "      <td>4306.000000</td>\n",
       "    </tr>\n",
       "    <tr>\n",
       "      <th>mean</th>\n",
       "      <td>0.300046</td>\n",
       "      <td>89.891779</td>\n",
       "      <td>20.219693</td>\n",
       "      <td>2.139805</td>\n",
       "      <td>51.532048</td>\n",
       "      <td>9.775894</td>\n",
       "      <td>0.998607</td>\n",
       "    </tr>\n",
       "    <tr>\n",
       "      <th>std</th>\n",
       "      <td>0.458331</td>\n",
       "      <td>59.873284</td>\n",
       "      <td>13.218227</td>\n",
       "      <td>1.443141</td>\n",
       "      <td>36.214999</td>\n",
       "      <td>6.598010</td>\n",
       "      <td>0.037307</td>\n",
       "    </tr>\n",
       "    <tr>\n",
       "      <th>min</th>\n",
       "      <td>0.000000</td>\n",
       "      <td>3.000000</td>\n",
       "      <td>1.000000</td>\n",
       "      <td>1.000000</td>\n",
       "      <td>0.000000</td>\n",
       "      <td>0.000000</td>\n",
       "      <td>0.000000</td>\n",
       "    </tr>\n",
       "    <tr>\n",
       "      <th>25%</th>\n",
       "      <td>0.000000</td>\n",
       "      <td>41.000000</td>\n",
       "      <td>10.000000</td>\n",
       "      <td>1.000000</td>\n",
       "      <td>23.000000</td>\n",
       "      <td>5.000000</td>\n",
       "      <td>1.000000</td>\n",
       "    </tr>\n",
       "    <tr>\n",
       "      <th>50%</th>\n",
       "      <td>0.000000</td>\n",
       "      <td>76.000000</td>\n",
       "      <td>18.000000</td>\n",
       "      <td>2.000000</td>\n",
       "      <td>43.000000</td>\n",
       "      <td>8.000000</td>\n",
       "      <td>1.000000</td>\n",
       "    </tr>\n",
       "    <tr>\n",
       "      <th>75%</th>\n",
       "      <td>1.000000</td>\n",
       "      <td>135.000000</td>\n",
       "      <td>28.000000</td>\n",
       "      <td>3.000000</td>\n",
       "      <td>76.000000</td>\n",
       "      <td>14.000000</td>\n",
       "      <td>1.000000</td>\n",
       "    </tr>\n",
       "    <tr>\n",
       "      <th>max</th>\n",
       "      <td>1.000000</td>\n",
       "      <td>790.000000</td>\n",
       "      <td>220.000000</td>\n",
       "      <td>28.000000</td>\n",
       "      <td>389.000000</td>\n",
       "      <td>76.000000</td>\n",
       "      <td>1.000000</td>\n",
       "    </tr>\n",
       "  </tbody>\n",
       "</table>\n",
       "</div>"
      ],
      "text/plain": [
       "               tag  num_chars_raw  num_words_raw  num_sentences_raw  \\\n",
       "count  4306.000000    4306.000000    4306.000000        4306.000000   \n",
       "mean      0.300046      89.891779      20.219693           2.139805   \n",
       "std       0.458331      59.873284      13.218227           1.443141   \n",
       "min       0.000000       3.000000       1.000000           1.000000   \n",
       "25%       0.000000      41.000000      10.000000           1.000000   \n",
       "50%       0.000000      76.000000      18.000000           2.000000   \n",
       "75%       1.000000     135.000000      28.000000           3.000000   \n",
       "max       1.000000     790.000000     220.000000          28.000000   \n",
       "\n",
       "       num_chars_transformed  num_words_transformed  num_sentences_transformed  \n",
       "count            4306.000000            4306.000000                4306.000000  \n",
       "mean               51.532048               9.775894                   0.998607  \n",
       "std                36.214999               6.598010                   0.037307  \n",
       "min                 0.000000               0.000000                   0.000000  \n",
       "25%                23.000000               5.000000                   1.000000  \n",
       "50%                43.000000               8.000000                   1.000000  \n",
       "75%                76.000000              14.000000                   1.000000  \n",
       "max               389.000000              76.000000                   1.000000  "
      ]
     },
     "execution_count": 82,
     "metadata": {},
     "output_type": "execute_result"
    }
   ],
   "source": [
    "df.describe()"
   ]
  },
  {
   "cell_type": "markdown",
   "id": "22169265",
   "metadata": {},
   "source": [
    "<p style=\"font-family: 'Georgia'; font-size: 16px; font-weight: 800; color: #800040;\">\n",
    "    A significant decrease in the number of characters, words, and sentences can be seen after preprocessing the data.\n",
    "</p>"
   ]
  },
  {
   "cell_type": "code",
   "execution_count": 83,
   "id": "efbdb469",
   "metadata": {},
   "outputs": [
    {
     "name": "stdout",
     "output_type": "stream",
     "text": [
      "23694\n"
     ]
    }
   ],
   "source": [
    "# LIST ALL THE HAM WORDS IN TRANSFORMED MESSAGES\n",
    "ham_collection = []\n",
    "for message in df[df['tag'] == 0]['message_transformed'].tolist(): # a list of all ham messages\n",
    "    for word in message.split(): # splitting each ham message to words\n",
    "        ham_collection.append(word)\n",
    "        \n",
    "print(len(ham_collection))"
   ]
  },
  {
   "cell_type": "code",
   "execution_count": 84,
   "id": "d3a3185f",
   "metadata": {},
   "outputs": [
    {
     "name": "stdout",
     "output_type": "stream",
     "text": [
      "18401\n"
     ]
    }
   ],
   "source": [
    "# LIST ALL THE SPAM WORDS IN TRANSFORMED MESSAGES\n",
    "spam_collection = []\n",
    "for message in df[df['tag'] == 1]['message_transformed'].tolist(): # a list of all ham messages\n",
    "    for word in message.split(): # splitting each ham message to words\n",
    "        spam_collection.append(word)\n",
    "        \n",
    "print(len(spam_collection))"
   ]
  },
  {
   "cell_type": "code",
   "execution_count": 85,
   "id": "138638bd",
   "metadata": {},
   "outputs": [
    {
     "data": {
      "image/png": "[encoded data removed]",
      "text/plain": [
       "<Figure size 1500x800 with 1 Axes>"
      ]
     },
     "metadata": {},
     "output_type": "display_data"
    }
   ],
   "source": [
    "# MOST APPEARING WORDS IN HAM COLLECTION\n",
    "from collections import Counter\n",
    "plt.figure(figsize=(15, 8))\n",
    "sns.barplot(x = pd.DataFrame(Counter(ham_collection).most_common(15))[0], \n",
    "            y = pd.DataFrame(Counter(ham_collection).most_common(15))[1])\n",
    "plt.xticks(rotation=30)\n",
    "plt.show()"
   ]
  },
  {
   "cell_type": "code",
   "execution_count": 86,
   "id": "8748e200",
   "metadata": {},
   "outputs": [
    {
     "data": {
      "image/png": "[encoded data removed]",
      "text/plain": [
       "<Figure size 1500x800 with 1 Axes>"
      ]
     },
     "metadata": {},
     "output_type": "display_data"
    }
   ],
   "source": [
    "# MOST APPEARING WORDS IN SPAM COLLECTION\n",
    "from collections import Counter\n",
    "plt.figure(figsize=(15, 8))\n",
    "sns.barplot(x = pd.DataFrame(Counter(spam_collection).most_common(15))[0], \n",
    "            y = pd.DataFrame(Counter(spam_collection).most_common(15))[1])\n",
    "plt.xticks(rotation=30)\n",
    "plt.show()"
   ]
  },
  {
   "cell_type": "markdown",
   "id": "099bc264",
   "metadata": {},
   "source": [
    "<p style=\"font-family: 'Georgia'; font-size: 16px; font-weight: 800; color: #800040;\">\n",
    "    We are done exploring the data. Let's now save the dataset that we need in training. The only columns that we need are tag and message_transformed.\n",
    "</p>"
   ]
  },
  {
   "cell_type": "code",
   "execution_count": 87,
   "id": "879a6cc3",
   "metadata": {},
   "outputs": [
    {
     "data": {
      "text/plain": [
       "Index(['tag', 'message', 'num_chars_raw', 'num_words_raw', 'num_sentences_raw',\n",
       "       'message_transformed', 'num_chars_transformed', 'num_words_transformed',\n",
       "       'num_sentences_transformed'],\n",
       "      dtype='object')"
      ]
     },
     "execution_count": 87,
     "metadata": {},
     "output_type": "execute_result"
    }
   ],
   "source": [
    "df.columns"
   ]
  },
  {
   "cell_type": "code",
   "execution_count": 88,
   "id": "5f033fdc",
   "metadata": {},
   "outputs": [
    {
     "name": "stdout",
     "output_type": "stream",
     "text": [
      "file created!\n"
     ]
    }
   ],
   "source": [
    "final_df = df.iloc[:, [0,5]]\n",
    "\n",
    "final_df.to_csv('../datasets/training_datasets/training_data7030.csv', index=False)\n",
    "print('file created!')"
   ]
  },
  {
   "cell_type": "code",
   "execution_count": 89,
   "id": "fb0be16e",
   "metadata": {},
   "outputs": [
    {
     "data": {
      "text/plain": [
       "tag                    0\n",
       "message_transformed    0\n",
       "dtype: int64"
      ]
     },
     "execution_count": 89,
     "metadata": {},
     "output_type": "execute_result"
    }
   ],
   "source": []
  },
  {
   "cell_type": "code",
   "execution_count": null,
   "id": "074571ed",
   "metadata": {},
   "outputs": [],
   "source": []
  },
  {
   "cell_type": "code",
   "execution_count": null,
   "id": "417b9202",
   "metadata": {},
   "outputs": [],
   "source": []
  },
  {
   "cell_type": "code",
   "execution_count": null,
   "id": "48bd8817",
   "metadata": {},
   "outputs": [],
   "source": []
  }
 ],
 "metadata": {
  "kernelspec": {
   "display_name": "Python 3 (ipykernel)",
   "language": "python",
   "name": "python3"
  },
  "language_info": {
   "codemirror_mode": {
    "name": "ipython",
    "version": 3
   },
   "file_extension": ".py",
   "mimetype": "text/x-python",
   "name": "python",
   "nbconvert_exporter": "python",
   "pygments_lexer": "ipython3",
   "version": "3.9.16"
  }
 },
 "nbformat": 4,
 "nbformat_minor": 5
}
