{
 "cells": [
  {
   "cell_type": "markdown",
   "id": "cb00c136",
   "metadata": {},
   "source": [
    "<center><h1 style=\"font-family: 'Georgia'; color: #f2f2f2; background-color:#800040; padding: 20px;\">Exploratory Data Analysis: Text Message Spam Detection\n",
    "    </h1></center>"
   ]
  },
  {
   "cell_type": "markdown",
   "id": "81dd296f",
   "metadata": {},
   "source": [
    "<p style=\"font-family: 'Georgia'; font-size: 16px; font-weight: 800; color: #800040;\">\n",
    "This is the exploratory data analysis for the 60-40 dataset.\n",
    "</p>"
   ]
  },
  {
   "cell_type": "code",
   "execution_count": 27,
   "id": "9dab269c",
   "metadata": {},
   "outputs": [],
   "source": [
    "# IMPORT LIBRARIES\n",
    "import pandas as pd\n",
    "import matplotlib.pyplot as plt\n",
    "import seaborn as sns\n",
    "import nltk"
   ]
  },
  {
   "cell_type": "code",
   "execution_count": 28,
   "id": "3d9112cb",
   "metadata": {
    "scrolled": true
   },
   "outputs": [
    {
     "name": "stdout",
     "output_type": "stream",
     "text": [
      "(3230, 2)\n"
     ]
    },
    {
     "data": {
      "text/html": [
       "<div>\n",
       "<style scoped>\n",
       "    .dataframe tbody tr th:only-of-type {\n",
       "        vertical-align: middle;\n",
       "    }\n",
       "\n",
       "    .dataframe tbody tr th {\n",
       "        vertical-align: top;\n",
       "    }\n",
       "\n",
       "    .dataframe thead th {\n",
       "        text-align: right;\n",
       "    }\n",
       "</style>\n",
       "<table border=\"1\" class=\"dataframe\">\n",
       "  <thead>\n",
       "    <tr style=\"text-align: right;\">\n",
       "      <th></th>\n",
       "      <th>tag</th>\n",
       "      <th>message</th>\n",
       "    </tr>\n",
       "  </thead>\n",
       "  <tbody>\n",
       "    <tr>\n",
       "      <th>0</th>\n",
       "      <td>ham</td>\n",
       "      <td>Haven't eaten all day. I'm sitting here starin...</td>\n",
       "    </tr>\n",
       "    <tr>\n",
       "      <th>1</th>\n",
       "      <td>ham</td>\n",
       "      <td>10 min later k...</td>\n",
       "    </tr>\n",
       "    <tr>\n",
       "      <th>2</th>\n",
       "      <td>ham</td>\n",
       "      <td>Heehee that was so funny tho</td>\n",
       "    </tr>\n",
       "    <tr>\n",
       "      <th>3</th>\n",
       "      <td>ham</td>\n",
       "      <td>I don,t think so. You don't need to be going o...</td>\n",
       "    </tr>\n",
       "    <tr>\n",
       "      <th>4</th>\n",
       "      <td>ham</td>\n",
       "      <td>Try neva mate!!</td>\n",
       "    </tr>\n",
       "  </tbody>\n",
       "</table>\n",
       "</div>"
      ],
      "text/plain": [
       "   tag                                            message\n",
       "0  ham  Haven't eaten all day. I'm sitting here starin...\n",
       "1  ham                                  10 min later k...\n",
       "2  ham                       Heehee that was so funny tho\n",
       "3  ham  I don,t think so. You don't need to be going o...\n",
       "4  ham                                    Try neva mate!!"
      ]
     },
     "execution_count": 28,
     "metadata": {},
     "output_type": "execute_result"
    }
   ],
   "source": [
    "#LOAD THE DATASET\n",
    "df = pd.read_csv('../datasets/cleaned_datasets/dataset6040.csv') \n",
    "print(df.shape)\n",
    "df.head()"
   ]
  },
  {
   "cell_type": "code",
   "execution_count": 29,
   "id": "aae37e3a",
   "metadata": {},
   "outputs": [],
   "source": [
    "# LABEL ENCODE THE tag COLUMN\n",
    "from sklearn.preprocessing import LabelEncoder\n",
    "encoder = LabelEncoder()\n",
    "df['tag'] = encoder.fit_transform(df['tag'])"
   ]
  },
  {
   "cell_type": "code",
   "execution_count": 30,
   "id": "fe565747",
   "metadata": {},
   "outputs": [
    {
     "data": {
      "text/html": [
       "<div>\n",
       "<style scoped>\n",
       "    .dataframe tbody tr th:only-of-type {\n",
       "        vertical-align: middle;\n",
       "    }\n",
       "\n",
       "    .dataframe tbody tr th {\n",
       "        vertical-align: top;\n",
       "    }\n",
       "\n",
       "    .dataframe thead th {\n",
       "        text-align: right;\n",
       "    }\n",
       "</style>\n",
       "<table border=\"1\" class=\"dataframe\">\n",
       "  <thead>\n",
       "    <tr style=\"text-align: right;\">\n",
       "      <th></th>\n",
       "      <th>tag</th>\n",
       "      <th>message</th>\n",
       "    </tr>\n",
       "  </thead>\n",
       "  <tbody>\n",
       "    <tr>\n",
       "      <th>0</th>\n",
       "      <td>0</td>\n",
       "      <td>Haven't eaten all day. I'm sitting here starin...</td>\n",
       "    </tr>\n",
       "    <tr>\n",
       "      <th>1</th>\n",
       "      <td>0</td>\n",
       "      <td>10 min later k...</td>\n",
       "    </tr>\n",
       "    <tr>\n",
       "      <th>2</th>\n",
       "      <td>0</td>\n",
       "      <td>Heehee that was so funny tho</td>\n",
       "    </tr>\n",
       "    <tr>\n",
       "      <th>3</th>\n",
       "      <td>0</td>\n",
       "      <td>I don,t think so. You don't need to be going o...</td>\n",
       "    </tr>\n",
       "    <tr>\n",
       "      <th>4</th>\n",
       "      <td>0</td>\n",
       "      <td>Try neva mate!!</td>\n",
       "    </tr>\n",
       "  </tbody>\n",
       "</table>\n",
       "</div>"
      ],
      "text/plain": [
       "   tag                                            message\n",
       "0    0  Haven't eaten all day. I'm sitting here starin...\n",
       "1    0                                  10 min later k...\n",
       "2    0                       Heehee that was so funny tho\n",
       "3    0  I don,t think so. You don't need to be going o...\n",
       "4    0                                    Try neva mate!!"
      ]
     },
     "execution_count": 30,
     "metadata": {},
     "output_type": "execute_result"
    }
   ],
   "source": [
    "df.head() # ham is labeled 0, spam is tagged as 1"
   ]
  },
  {
   "cell_type": "markdown",
   "id": "4b94b8df",
   "metadata": {},
   "source": [
    "<h1 style=\"font-family: 'Georgia'; font-size: 24px; color: #008000;\">Raw Format</h1>"
   ]
  },
  {
   "cell_type": "code",
   "execution_count": 31,
   "id": "af748d07",
   "metadata": {},
   "outputs": [
    {
     "data": {
      "text/html": [
       "<div>\n",
       "<style scoped>\n",
       "    .dataframe tbody tr th:only-of-type {\n",
       "        vertical-align: middle;\n",
       "    }\n",
       "\n",
       "    .dataframe tbody tr th {\n",
       "        vertical-align: top;\n",
       "    }\n",
       "\n",
       "    .dataframe thead th {\n",
       "        text-align: right;\n",
       "    }\n",
       "</style>\n",
       "<table border=\"1\" class=\"dataframe\">\n",
       "  <thead>\n",
       "    <tr style=\"text-align: right;\">\n",
       "      <th></th>\n",
       "      <th>tag</th>\n",
       "      <th>message</th>\n",
       "      <th>num_chars_raw</th>\n",
       "      <th>num_words_raw</th>\n",
       "      <th>num_sentences_raw</th>\n",
       "    </tr>\n",
       "  </thead>\n",
       "  <tbody>\n",
       "    <tr>\n",
       "      <th>0</th>\n",
       "      <td>0</td>\n",
       "      <td>Haven't eaten all day. I'm sitting here starin...</td>\n",
       "      <td>119</td>\n",
       "      <td>29</td>\n",
       "      <td>3</td>\n",
       "    </tr>\n",
       "    <tr>\n",
       "      <th>1</th>\n",
       "      <td>0</td>\n",
       "      <td>10 min later k...</td>\n",
       "      <td>17</td>\n",
       "      <td>5</td>\n",
       "      <td>1</td>\n",
       "    </tr>\n",
       "    <tr>\n",
       "      <th>2</th>\n",
       "      <td>0</td>\n",
       "      <td>Heehee that was so funny tho</td>\n",
       "      <td>28</td>\n",
       "      <td>6</td>\n",
       "      <td>1</td>\n",
       "    </tr>\n",
       "    <tr>\n",
       "      <th>3</th>\n",
       "      <td>0</td>\n",
       "      <td>I don,t think so. You don't need to be going o...</td>\n",
       "      <td>193</td>\n",
       "      <td>44</td>\n",
       "      <td>3</td>\n",
       "    </tr>\n",
       "    <tr>\n",
       "      <th>4</th>\n",
       "      <td>0</td>\n",
       "      <td>Try neva mate!!</td>\n",
       "      <td>15</td>\n",
       "      <td>5</td>\n",
       "      <td>2</td>\n",
       "    </tr>\n",
       "  </tbody>\n",
       "</table>\n",
       "</div>"
      ],
      "text/plain": [
       "   tag                                            message  num_chars_raw  \\\n",
       "0    0  Haven't eaten all day. I'm sitting here starin...            119   \n",
       "1    0                                  10 min later k...             17   \n",
       "2    0                       Heehee that was so funny tho             28   \n",
       "3    0  I don,t think so. You don't need to be going o...            193   \n",
       "4    0                                    Try neva mate!!             15   \n",
       "\n",
       "   num_words_raw  num_sentences_raw  \n",
       "0             29                  3  \n",
       "1              5                  1  \n",
       "2              6                  1  \n",
       "3             44                  3  \n",
       "4              5                  2  "
      ]
     },
     "execution_count": 31,
     "metadata": {},
     "output_type": "execute_result"
    }
   ],
   "source": [
    "# EXTRACT NUMBER OF CHARACTERS \n",
    "df['num_chars_raw'] = df['message'].apply(len) # .apply() is a function that is applied to each row in a dataframe\n",
    "\n",
    "#EXTRACT NUMBER OF WORDS\n",
    "df['num_words_raw'] = df['message'].apply(lambda x:len(nltk.word_tokenize(x))) # word by word separation\n",
    "\n",
    "#EXTRACT NUMBER OF SENTENCES\n",
    "df['num_sentences_raw'] = df['message'].apply(lambda x:len(nltk.sent_tokenize(x))) # sentence by sentence separation\n",
    "\n",
    "df.head()"
   ]
  },
  {
   "cell_type": "code",
   "execution_count": 32,
   "id": "2fd715d0",
   "metadata": {},
   "outputs": [
    {
     "data": {
      "text/html": [
       "<div>\n",
       "<style scoped>\n",
       "    .dataframe tbody tr th:only-of-type {\n",
       "        vertical-align: middle;\n",
       "    }\n",
       "\n",
       "    .dataframe tbody tr th {\n",
       "        vertical-align: top;\n",
       "    }\n",
       "\n",
       "    .dataframe thead th {\n",
       "        text-align: right;\n",
       "    }\n",
       "</style>\n",
       "<table border=\"1\" class=\"dataframe\">\n",
       "  <thead>\n",
       "    <tr style=\"text-align: right;\">\n",
       "      <th></th>\n",
       "      <th>tag</th>\n",
       "      <th>num_chars_raw</th>\n",
       "      <th>num_words_raw</th>\n",
       "      <th>num_sentences_raw</th>\n",
       "    </tr>\n",
       "  </thead>\n",
       "  <tbody>\n",
       "    <tr>\n",
       "      <th>count</th>\n",
       "      <td>3230.000000</td>\n",
       "      <td>3230.000000</td>\n",
       "      <td>3230.000000</td>\n",
       "      <td>3230.000000</td>\n",
       "    </tr>\n",
       "    <tr>\n",
       "      <th>mean</th>\n",
       "      <td>0.400000</td>\n",
       "      <td>95.108359</td>\n",
       "      <td>20.867802</td>\n",
       "      <td>2.209288</td>\n",
       "    </tr>\n",
       "    <tr>\n",
       "      <th>std</th>\n",
       "      <td>0.489974</td>\n",
       "      <td>61.611456</td>\n",
       "      <td>12.919871</td>\n",
       "      <td>1.393312</td>\n",
       "    </tr>\n",
       "    <tr>\n",
       "      <th>min</th>\n",
       "      <td>0.000000</td>\n",
       "      <td>2.000000</td>\n",
       "      <td>1.000000</td>\n",
       "      <td>1.000000</td>\n",
       "    </tr>\n",
       "    <tr>\n",
       "      <th>25%</th>\n",
       "      <td>0.000000</td>\n",
       "      <td>43.000000</td>\n",
       "      <td>11.000000</td>\n",
       "      <td>1.000000</td>\n",
       "    </tr>\n",
       "    <tr>\n",
       "      <th>50%</th>\n",
       "      <td>0.000000</td>\n",
       "      <td>87.000000</td>\n",
       "      <td>20.000000</td>\n",
       "      <td>2.000000</td>\n",
       "    </tr>\n",
       "    <tr>\n",
       "      <th>75%</th>\n",
       "      <td>1.000000</td>\n",
       "      <td>142.000000</td>\n",
       "      <td>29.000000</td>\n",
       "      <td>3.000000</td>\n",
       "    </tr>\n",
       "    <tr>\n",
       "      <th>max</th>\n",
       "      <td>1.000000</td>\n",
       "      <td>910.000000</td>\n",
       "      <td>196.000000</td>\n",
       "      <td>14.000000</td>\n",
       "    </tr>\n",
       "  </tbody>\n",
       "</table>\n",
       "</div>"
      ],
      "text/plain": [
       "               tag  num_chars_raw  num_words_raw  num_sentences_raw\n",
       "count  3230.000000    3230.000000    3230.000000        3230.000000\n",
       "mean      0.400000      95.108359      20.867802           2.209288\n",
       "std       0.489974      61.611456      12.919871           1.393312\n",
       "min       0.000000       2.000000       1.000000           1.000000\n",
       "25%       0.000000      43.000000      11.000000           1.000000\n",
       "50%       0.000000      87.000000      20.000000           2.000000\n",
       "75%       1.000000     142.000000      29.000000           3.000000\n",
       "max       1.000000     910.000000     196.000000          14.000000"
      ]
     },
     "execution_count": 32,
     "metadata": {},
     "output_type": "execute_result"
    }
   ],
   "source": [
    "df.describe()"
   ]
  },
  {
   "cell_type": "code",
   "execution_count": 33,
   "id": "491caf59",
   "metadata": {},
   "outputs": [
    {
     "data": {
      "text/html": [
       "<div>\n",
       "<style scoped>\n",
       "    .dataframe tbody tr th:only-of-type {\n",
       "        vertical-align: middle;\n",
       "    }\n",
       "\n",
       "    .dataframe tbody tr th {\n",
       "        vertical-align: top;\n",
       "    }\n",
       "\n",
       "    .dataframe thead th {\n",
       "        text-align: right;\n",
       "    }\n",
       "</style>\n",
       "<table border=\"1\" class=\"dataframe\">\n",
       "  <thead>\n",
       "    <tr style=\"text-align: right;\">\n",
       "      <th></th>\n",
       "      <th>num_chars_raw</th>\n",
       "      <th>num_words_raw</th>\n",
       "      <th>num_sentences_raw</th>\n",
       "    </tr>\n",
       "  </thead>\n",
       "  <tbody>\n",
       "    <tr>\n",
       "      <th>count</th>\n",
       "      <td>1938.000000</td>\n",
       "      <td>1938.000000</td>\n",
       "      <td>1938.000000</td>\n",
       "    </tr>\n",
       "    <tr>\n",
       "      <th>mean</th>\n",
       "      <td>68.613519</td>\n",
       "      <td>16.606295</td>\n",
       "      <td>1.745098</td>\n",
       "    </tr>\n",
       "    <tr>\n",
       "      <th>std</th>\n",
       "      <td>57.145936</td>\n",
       "      <td>13.208440</td>\n",
       "      <td>1.118687</td>\n",
       "    </tr>\n",
       "    <tr>\n",
       "      <th>min</th>\n",
       "      <td>2.000000</td>\n",
       "      <td>1.000000</td>\n",
       "      <td>1.000000</td>\n",
       "    </tr>\n",
       "    <tr>\n",
       "      <th>25%</th>\n",
       "      <td>33.000000</td>\n",
       "      <td>8.000000</td>\n",
       "      <td>1.000000</td>\n",
       "    </tr>\n",
       "    <tr>\n",
       "      <th>50%</th>\n",
       "      <td>51.000000</td>\n",
       "      <td>13.000000</td>\n",
       "      <td>1.000000</td>\n",
       "    </tr>\n",
       "    <tr>\n",
       "      <th>75%</th>\n",
       "      <td>86.750000</td>\n",
       "      <td>21.000000</td>\n",
       "      <td>2.000000</td>\n",
       "    </tr>\n",
       "    <tr>\n",
       "      <th>max</th>\n",
       "      <td>910.000000</td>\n",
       "      <td>196.000000</td>\n",
       "      <td>11.000000</td>\n",
       "    </tr>\n",
       "  </tbody>\n",
       "</table>\n",
       "</div>"
      ],
      "text/plain": [
       "       num_chars_raw  num_words_raw  num_sentences_raw\n",
       "count    1938.000000    1938.000000        1938.000000\n",
       "mean       68.613519      16.606295           1.745098\n",
       "std        57.145936      13.208440           1.118687\n",
       "min         2.000000       1.000000           1.000000\n",
       "25%        33.000000       8.000000           1.000000\n",
       "50%        51.000000      13.000000           1.000000\n",
       "75%        86.750000      21.000000           2.000000\n",
       "max       910.000000     196.000000          11.000000"
      ]
     },
     "execution_count": 33,
     "metadata": {},
     "output_type": "execute_result"
    }
   ],
   "source": [
    "#LETS GET THE BASIC STATISTICAL SUMMARY OF HAM MESSAGES\n",
    "df[df['tag'] == 0][['num_chars_raw', 'num_words_raw', 'num_sentences_raw']].describe()"
   ]
  },
  {
   "cell_type": "code",
   "execution_count": 34,
   "id": "56095f6a",
   "metadata": {},
   "outputs": [
    {
     "data": {
      "text/html": [
       "<div>\n",
       "<style scoped>\n",
       "    .dataframe tbody tr th:only-of-type {\n",
       "        vertical-align: middle;\n",
       "    }\n",
       "\n",
       "    .dataframe tbody tr th {\n",
       "        vertical-align: top;\n",
       "    }\n",
       "\n",
       "    .dataframe thead th {\n",
       "        text-align: right;\n",
       "    }\n",
       "</style>\n",
       "<table border=\"1\" class=\"dataframe\">\n",
       "  <thead>\n",
       "    <tr style=\"text-align: right;\">\n",
       "      <th></th>\n",
       "      <th>num_chars_raw</th>\n",
       "      <th>num_words_raw</th>\n",
       "      <th>num_sentences_raw</th>\n",
       "    </tr>\n",
       "  </thead>\n",
       "  <tbody>\n",
       "    <tr>\n",
       "      <th>count</th>\n",
       "      <td>1292.000000</td>\n",
       "      <td>1292.000000</td>\n",
       "      <td>1292.000000</td>\n",
       "    </tr>\n",
       "    <tr>\n",
       "      <th>mean</th>\n",
       "      <td>134.850619</td>\n",
       "      <td>27.260062</td>\n",
       "      <td>2.905573</td>\n",
       "    </tr>\n",
       "    <tr>\n",
       "      <th>std</th>\n",
       "      <td>44.273428</td>\n",
       "      <td>9.358702</td>\n",
       "      <td>1.472832</td>\n",
       "    </tr>\n",
       "    <tr>\n",
       "      <th>min</th>\n",
       "      <td>9.000000</td>\n",
       "      <td>2.000000</td>\n",
       "      <td>1.000000</td>\n",
       "    </tr>\n",
       "    <tr>\n",
       "      <th>25%</th>\n",
       "      <td>112.750000</td>\n",
       "      <td>23.000000</td>\n",
       "      <td>2.000000</td>\n",
       "    </tr>\n",
       "    <tr>\n",
       "      <th>50%</th>\n",
       "      <td>140.000000</td>\n",
       "      <td>28.000000</td>\n",
       "      <td>3.000000</td>\n",
       "    </tr>\n",
       "    <tr>\n",
       "      <th>75%</th>\n",
       "      <td>156.000000</td>\n",
       "      <td>32.000000</td>\n",
       "      <td>4.000000</td>\n",
       "    </tr>\n",
       "    <tr>\n",
       "      <th>max</th>\n",
       "      <td>471.000000</td>\n",
       "      <td>118.000000</td>\n",
       "      <td>14.000000</td>\n",
       "    </tr>\n",
       "  </tbody>\n",
       "</table>\n",
       "</div>"
      ],
      "text/plain": [
       "       num_chars_raw  num_words_raw  num_sentences_raw\n",
       "count    1292.000000    1292.000000        1292.000000\n",
       "mean      134.850619      27.260062           2.905573\n",
       "std        44.273428       9.358702           1.472832\n",
       "min         9.000000       2.000000           1.000000\n",
       "25%       112.750000      23.000000           2.000000\n",
       "50%       140.000000      28.000000           3.000000\n",
       "75%       156.000000      32.000000           4.000000\n",
       "max       471.000000     118.000000          14.000000"
      ]
     },
     "execution_count": 34,
     "metadata": {},
     "output_type": "execute_result"
    }
   ],
   "source": [
    "#LETS GET THE BASIC STATISTICAL SUMMARY OF SPAM MESSAGES\n",
    "df[df['tag'] == 1][['num_chars_raw', 'num_words_raw', 'num_sentences_raw']].describe()"
   ]
  },
  {
   "cell_type": "markdown",
   "id": "83d394ab",
   "metadata": {},
   "source": [
    "<p style=\"font-family: 'Georgia'; font-size: 15px; font-weight: 400; color: #800040;\">\n",
    "We can see that spam messages tend to have longer content, considering mean values of number of chars, words, and sentences. Spam messages are more consistent in content lenght than ham messages as shown in their standard deviations.\n",
    "</p>"
   ]
  },
  {
   "cell_type": "markdown",
   "id": "d1119daf",
   "metadata": {},
   "source": [
    "<p style=\"font-family: 'Georgia'; font-size: 16px; font-weight: 800; color: #800040;\">\n",
    "    Visualize the ham vs spam differences in number of characters.\n",
    "</p>"
   ]
  },
  {
   "cell_type": "code",
   "execution_count": 35,
   "id": "9bb4d4f7",
   "metadata": {},
   "outputs": [
    {
     "data": {
      "text/plain": [
       "<Axes: xlabel='num_chars_raw', ylabel='Count'>"
      ]
     },
     "execution_count": 35,
     "metadata": {},
     "output_type": "execute_result"
    },
    {
     "data": {
      "image/png": "[encoded data removed]",
      "text/plain": [
       "<Figure size 1500x800 with 1 Axes>"
      ]
     },
     "metadata": {},
     "output_type": "display_data"
    }
   ],
   "source": [
    "plt.figure(figsize=(15,8))\n",
    "sns.histplot(df[df['tag'] == 0]['num_chars_raw'])\n",
    "sns.histplot(df[df['tag'] == 1]['num_chars_raw'], color=\"red\")"
   ]
  },
  {
   "cell_type": "markdown",
   "id": "7da72c95",
   "metadata": {},
   "source": [
    "<p style=\"font-family: 'Georgia'; font-size: 16px; font-weight: 800; color: #800040;\">\n",
    "    Visualize the ham vs spam differences in number of words.\n",
    "</p>"
   ]
  },
  {
   "cell_type": "code",
   "execution_count": 36,
   "id": "82c912e7",
   "metadata": {},
   "outputs": [
    {
     "data": {
      "text/plain": [
       "<Axes: xlabel='num_words_raw', ylabel='Count'>"
      ]
     },
     "execution_count": 36,
     "metadata": {},
     "output_type": "execute_result"
    },
    {
     "data": {
      "image/png": "[encoded data removed]",
      "text/plain": [
       "<Figure size 1500x800 with 1 Axes>"
      ]
     },
     "metadata": {},
     "output_type": "display_data"
    }
   ],
   "source": [
    "plt.figure(figsize=(15,8))\n",
    "sns.histplot(df[df['tag'] == 0]['num_words_raw'])\n",
    "sns.histplot(df[df['tag'] == 1]['num_words_raw'], color=\"red\")"
   ]
  },
  {
   "cell_type": "markdown",
   "id": "c04a248d",
   "metadata": {},
   "source": [
    "<p style=\"font-family: 'Georgia'; font-size: 16px; font-weight: 800; color: #800040;\">\n",
    "    Pairplot Visualization.\n",
    "</p>"
   ]
  },
  {
   "cell_type": "code",
   "execution_count": 37,
   "id": "c1d536db",
   "metadata": {},
   "outputs": [
    {
     "data": {
      "text/plain": [
       "<seaborn.axisgrid.PairGrid at 0x28b11de7fa0>"
      ]
     },
     "execution_count": 37,
     "metadata": {},
     "output_type": "execute_result"
    },
    {
     "data": {
      "image/png": "[encoded data removed]",
      "text/plain": [
       "<Figure size 808.875x750 with 12 Axes>"
      ]
     },
     "metadata": {},
     "output_type": "display_data"
    }
   ],
   "source": [
    "sns.pairplot(df, hue='tag')"
   ]
  },
  {
   "cell_type": "markdown",
   "id": "8346c563",
   "metadata": {},
   "source": [
    "<p style=\"font-family: 'Georgia'; font-size: 15px; font-weight: 400; color: #800040;\">\n",
    "There is very litte difference in the trends of ham and spam messages in our dataset.\n",
    "</p>"
   ]
  },
  {
   "cell_type": "markdown",
   "id": "0c048273",
   "metadata": {},
   "source": [
    "<h1 style=\"font-family: 'Georgia'; font-size: 24px; color: #008000;\">Transformed Format</h1>"
   ]
  },
  {
   "cell_type": "markdown",
   "id": "056f5391",
   "metadata": {},
   "source": [
    "<p style=\"font-family: 'Georgia'; font-size: 16px; font-weight: 800; color: #800040;\">\n",
    "    Steps in transforming the raw data.\n",
    "</p>\n",
    "\n",
    "<p style=\"font-family: 'Georgia'; font-size: 16px; font-weight: 800; color: #800040;\">\n",
    "    <ol>\n",
    "        <li style=\"font-family: 'Georgia'; font-size: 14px; font-weight: 500; color: #800040; font-style: italic\">\n",
    "            Lower case</li>\n",
    "        <li style=\"font-family: 'Georgia'; font-size: 14px; font-weight: 500; color: #800040; font-style: italic\">\n",
    "            Tokenization</li>\n",
    "        <li style=\"font-family: 'Georgia'; font-size: 14px; font-weight: 500; color: #800040; font-style: italic\">\n",
    "            Removal of special characters</li>\n",
    "        <li style=\"font-family: 'Georgia'; font-size: 14px; font-weight: 500; color: #800040; font-style: italic\">\n",
    "            Removing stopwords and punctuation</li>\n",
    "        <li style=\"font-family: 'Georgia'; font-size: 14px; font-weight: 500; color: #800040; font-style: italic\">Stemming</li>\n",
    "    </ol>\n",
    "</p>"
   ]
  },
  {
   "cell_type": "code",
   "execution_count": 38,
   "id": "f9f6ffcf",
   "metadata": {},
   "outputs": [
    {
     "name": "stderr",
     "output_type": "stream",
     "text": [
      "[nltk_data] Downloading package stopwords to\n",
      "[nltk_data]     C:\\Users\\Dexter\\AppData\\Roaming\\nltk_data...\n",
      "[nltk_data]   Package stopwords is already up-to-date!\n"
     ]
    },
    {
     "data": {
      "text/plain": [
       "True"
      ]
     },
     "execution_count": 38,
     "metadata": {},
     "output_type": "execute_result"
    }
   ],
   "source": [
    "# DOWNLOAD THE STOPWORDS LIST\n",
    "nltk.download('stopwords')"
   ]
  },
  {
   "cell_type": "code",
   "execution_count": 39,
   "id": "5a9e8ff5",
   "metadata": {},
   "outputs": [],
   "source": [
    "from nltk.corpus import stopwords\n",
    "from nltk.stem.porter import PorterStemmer\n",
    "import string\n",
    "ps = PorterStemmer()\n",
    "\n",
    "#CREATE A FUNCTION THAT WILL TRANSFORM THE TEXT FROM THE DATAFRAME\n",
    "def transform_text(text):\n",
    "    text = text.lower()\n",
    "    text = nltk.word_tokenize(text)\n",
    "    \n",
    "    y = []\n",
    "    \n",
    "    # first processing stage: removing nonalphanumeric tokens (@, %, *...)\n",
    "    for i in text: \n",
    "        if i.isalnum():\n",
    "            y.append(i)\n",
    "\n",
    "    text = y[:] # text variable is updated with the content of y\n",
    "    y.clear() # y is cleared for next processing stage\n",
    "    \n",
    "    # second processing stage: if the word has an english meaning, we add it to y. Remember, y is now cleared.\n",
    "    for i in text: \n",
    "        if i not in stopwords.words('english') and i not in string.punctuation:\n",
    "            y.append(i)\n",
    "            \n",
    "    text = y[:] # text variable is updated with the content of y\n",
    "    y.clear() # y is cleared for next processing stage\n",
    "    \n",
    "    # third processing stage: stemming\n",
    "    for i in text:\n",
    "        y.append(ps.stem(i))\n",
    "    \n",
    "    return \" \".join(y)"
   ]
  },
  {
   "cell_type": "code",
   "execution_count": 40,
   "id": "b999b075",
   "metadata": {},
   "outputs": [
    {
     "name": "stdout",
     "output_type": "stream",
     "text": [
      "sample data point:          Dear got train and seat mine lower seat\n",
      "transformed data point:     dear got train seat mine lower seat\n",
      "\n"
     ]
    }
   ],
   "source": [
    "# TESTING THE CODE\n",
    "print('sample data point:         ', df['message'][92])\n",
    "transform_8 = transform_text(df['message'][92])\n",
    "print('transformed data point:    ', transform_8)\n",
    "print()"
   ]
  },
  {
   "cell_type": "code",
   "execution_count": 41,
   "id": "4edaf45a",
   "metadata": {
    "scrolled": true
   },
   "outputs": [
    {
     "data": {
      "text/html": [
       "<div>\n",
       "<style scoped>\n",
       "    .dataframe tbody tr th:only-of-type {\n",
       "        vertical-align: middle;\n",
       "    }\n",
       "\n",
       "    .dataframe tbody tr th {\n",
       "        vertical-align: top;\n",
       "    }\n",
       "\n",
       "    .dataframe thead th {\n",
       "        text-align: right;\n",
       "    }\n",
       "</style>\n",
       "<table border=\"1\" class=\"dataframe\">\n",
       "  <thead>\n",
       "    <tr style=\"text-align: right;\">\n",
       "      <th></th>\n",
       "      <th>tag</th>\n",
       "      <th>message</th>\n",
       "      <th>num_chars_raw</th>\n",
       "      <th>num_words_raw</th>\n",
       "      <th>num_sentences_raw</th>\n",
       "      <th>message_transformed</th>\n",
       "    </tr>\n",
       "  </thead>\n",
       "  <tbody>\n",
       "    <tr>\n",
       "      <th>0</th>\n",
       "      <td>0</td>\n",
       "      <td>Haven't eaten all day. I'm sitting here starin...</td>\n",
       "      <td>119</td>\n",
       "      <td>29</td>\n",
       "      <td>3</td>\n",
       "      <td>eaten day sit stare juici pizza ca eat med rui...</td>\n",
       "    </tr>\n",
       "    <tr>\n",
       "      <th>1</th>\n",
       "      <td>0</td>\n",
       "      <td>10 min later k...</td>\n",
       "      <td>17</td>\n",
       "      <td>5</td>\n",
       "      <td>1</td>\n",
       "      <td>10 min later k</td>\n",
       "    </tr>\n",
       "    <tr>\n",
       "      <th>2</th>\n",
       "      <td>0</td>\n",
       "      <td>Heehee that was so funny tho</td>\n",
       "      <td>28</td>\n",
       "      <td>6</td>\n",
       "      <td>1</td>\n",
       "      <td>heehe funni tho</td>\n",
       "    </tr>\n",
       "    <tr>\n",
       "      <th>3</th>\n",
       "      <td>0</td>\n",
       "      <td>I don,t think so. You don't need to be going o...</td>\n",
       "      <td>193</td>\n",
       "      <td>44</td>\n",
       "      <td>3</td>\n",
       "      <td>think need go late school night especi one cla...</td>\n",
       "    </tr>\n",
       "    <tr>\n",
       "      <th>4</th>\n",
       "      <td>0</td>\n",
       "      <td>Try neva mate!!</td>\n",
       "      <td>15</td>\n",
       "      <td>5</td>\n",
       "      <td>2</td>\n",
       "      <td>tri neva mate</td>\n",
       "    </tr>\n",
       "  </tbody>\n",
       "</table>\n",
       "</div>"
      ],
      "text/plain": [
       "   tag                                            message  num_chars_raw  \\\n",
       "0    0  Haven't eaten all day. I'm sitting here starin...            119   \n",
       "1    0                                  10 min later k...             17   \n",
       "2    0                       Heehee that was so funny tho             28   \n",
       "3    0  I don,t think so. You don't need to be going o...            193   \n",
       "4    0                                    Try neva mate!!             15   \n",
       "\n",
       "   num_words_raw  num_sentences_raw  \\\n",
       "0             29                  3   \n",
       "1              5                  1   \n",
       "2              6                  1   \n",
       "3             44                  3   \n",
       "4              5                  2   \n",
       "\n",
       "                                 message_transformed  \n",
       "0  eaten day sit stare juici pizza ca eat med rui...  \n",
       "1                                     10 min later k  \n",
       "2                                    heehe funni tho  \n",
       "3  think need go late school night especi one cla...  \n",
       "4                                      tri neva mate  "
      ]
     },
     "execution_count": 41,
     "metadata": {},
     "output_type": "execute_result"
    }
   ],
   "source": [
    "# APPLY THE FUNCTION TO EACH ROW AND THEN CREATE A message_transformed COLUMN\n",
    "df['message_transformed'] = df['message'].apply(transform_text)\n",
    "df.head()"
   ]
  },
  {
   "cell_type": "code",
   "execution_count": 42,
   "id": "71109b28",
   "metadata": {},
   "outputs": [
    {
     "data": {
      "text/html": [
       "<div>\n",
       "<style scoped>\n",
       "    .dataframe tbody tr th:only-of-type {\n",
       "        vertical-align: middle;\n",
       "    }\n",
       "\n",
       "    .dataframe tbody tr th {\n",
       "        vertical-align: top;\n",
       "    }\n",
       "\n",
       "    .dataframe thead th {\n",
       "        text-align: right;\n",
       "    }\n",
       "</style>\n",
       "<table border=\"1\" class=\"dataframe\">\n",
       "  <thead>\n",
       "    <tr style=\"text-align: right;\">\n",
       "      <th></th>\n",
       "      <th>tag</th>\n",
       "      <th>message</th>\n",
       "      <th>num_chars_raw</th>\n",
       "      <th>num_words_raw</th>\n",
       "      <th>num_sentences_raw</th>\n",
       "      <th>message_transformed</th>\n",
       "      <th>num_chars_transformed</th>\n",
       "      <th>num_words_transformed</th>\n",
       "      <th>num_sentences_transformed</th>\n",
       "    </tr>\n",
       "  </thead>\n",
       "  <tbody>\n",
       "    <tr>\n",
       "      <th>0</th>\n",
       "      <td>0</td>\n",
       "      <td>Haven't eaten all day. I'm sitting here starin...</td>\n",
       "      <td>119</td>\n",
       "      <td>29</td>\n",
       "      <td>3</td>\n",
       "      <td>eaten day sit stare juici pizza ca eat med rui...</td>\n",
       "      <td>52</td>\n",
       "      <td>11</td>\n",
       "      <td>1</td>\n",
       "    </tr>\n",
       "    <tr>\n",
       "      <th>1</th>\n",
       "      <td>0</td>\n",
       "      <td>10 min later k...</td>\n",
       "      <td>17</td>\n",
       "      <td>5</td>\n",
       "      <td>1</td>\n",
       "      <td>10 min later k</td>\n",
       "      <td>14</td>\n",
       "      <td>4</td>\n",
       "      <td>1</td>\n",
       "    </tr>\n",
       "    <tr>\n",
       "      <th>2</th>\n",
       "      <td>0</td>\n",
       "      <td>Heehee that was so funny tho</td>\n",
       "      <td>28</td>\n",
       "      <td>6</td>\n",
       "      <td>1</td>\n",
       "      <td>heehe funni tho</td>\n",
       "      <td>15</td>\n",
       "      <td>3</td>\n",
       "      <td>1</td>\n",
       "    </tr>\n",
       "    <tr>\n",
       "      <th>3</th>\n",
       "      <td>0</td>\n",
       "      <td>I don,t think so. You don't need to be going o...</td>\n",
       "      <td>193</td>\n",
       "      <td>44</td>\n",
       "      <td>3</td>\n",
       "      <td>think need go late school night especi one cla...</td>\n",
       "      <td>97</td>\n",
       "      <td>17</td>\n",
       "      <td>1</td>\n",
       "    </tr>\n",
       "    <tr>\n",
       "      <th>4</th>\n",
       "      <td>0</td>\n",
       "      <td>Try neva mate!!</td>\n",
       "      <td>15</td>\n",
       "      <td>5</td>\n",
       "      <td>2</td>\n",
       "      <td>tri neva mate</td>\n",
       "      <td>13</td>\n",
       "      <td>3</td>\n",
       "      <td>1</td>\n",
       "    </tr>\n",
       "  </tbody>\n",
       "</table>\n",
       "</div>"
      ],
      "text/plain": [
       "   tag                                            message  num_chars_raw  \\\n",
       "0    0  Haven't eaten all day. I'm sitting here starin...            119   \n",
       "1    0                                  10 min later k...             17   \n",
       "2    0                       Heehee that was so funny tho             28   \n",
       "3    0  I don,t think so. You don't need to be going o...            193   \n",
       "4    0                                    Try neva mate!!             15   \n",
       "\n",
       "   num_words_raw  num_sentences_raw  \\\n",
       "0             29                  3   \n",
       "1              5                  1   \n",
       "2              6                  1   \n",
       "3             44                  3   \n",
       "4              5                  2   \n",
       "\n",
       "                                 message_transformed  num_chars_transformed  \\\n",
       "0  eaten day sit stare juici pizza ca eat med rui...                     52   \n",
       "1                                     10 min later k                     14   \n",
       "2                                    heehe funni tho                     15   \n",
       "3  think need go late school night especi one cla...                     97   \n",
       "4                                      tri neva mate                     13   \n",
       "\n",
       "   num_words_transformed  num_sentences_transformed  \n",
       "0                     11                          1  \n",
       "1                      4                          1  \n",
       "2                      3                          1  \n",
       "3                     17                          1  \n",
       "4                      3                          1  "
      ]
     },
     "execution_count": 42,
     "metadata": {},
     "output_type": "execute_result"
    }
   ],
   "source": [
    "# RECOUNT THE NUMBER OF CHARACTERS, WORDS, AND SENTENCES ON THE TRANSFORMED TEXTS\n",
    "df['num_chars_transformed'] = df['message_transformed'].apply(len)\n",
    "df['num_words_transformed'] = df['message_transformed'].apply(lambda x:len(nltk.word_tokenize(x)))\n",
    "df['num_sentences_transformed'] = df['message_transformed'].apply(lambda x:len(nltk.sent_tokenize(x)))\n",
    "df.head()"
   ]
  },
  {
   "cell_type": "code",
   "execution_count": 43,
   "id": "aa802e3c",
   "metadata": {},
   "outputs": [
    {
     "data": {
      "text/html": [
       "<div>\n",
       "<style scoped>\n",
       "    .dataframe tbody tr th:only-of-type {\n",
       "        vertical-align: middle;\n",
       "    }\n",
       "\n",
       "    .dataframe tbody tr th {\n",
       "        vertical-align: top;\n",
       "    }\n",
       "\n",
       "    .dataframe thead th {\n",
       "        text-align: right;\n",
       "    }\n",
       "</style>\n",
       "<table border=\"1\" class=\"dataframe\">\n",
       "  <thead>\n",
       "    <tr style=\"text-align: right;\">\n",
       "      <th></th>\n",
       "      <th>tag</th>\n",
       "      <th>num_chars_raw</th>\n",
       "      <th>num_words_raw</th>\n",
       "      <th>num_sentences_raw</th>\n",
       "      <th>num_chars_transformed</th>\n",
       "      <th>num_words_transformed</th>\n",
       "      <th>num_sentences_transformed</th>\n",
       "    </tr>\n",
       "  </thead>\n",
       "  <tbody>\n",
       "    <tr>\n",
       "      <th>count</th>\n",
       "      <td>3230.000000</td>\n",
       "      <td>3230.000000</td>\n",
       "      <td>3230.000000</td>\n",
       "      <td>3230.000000</td>\n",
       "      <td>3230.000000</td>\n",
       "      <td>3230.000000</td>\n",
       "      <td>3230.000000</td>\n",
       "    </tr>\n",
       "    <tr>\n",
       "      <th>mean</th>\n",
       "      <td>0.400000</td>\n",
       "      <td>95.108359</td>\n",
       "      <td>20.867802</td>\n",
       "      <td>2.209288</td>\n",
       "      <td>55.063467</td>\n",
       "      <td>10.284830</td>\n",
       "      <td>0.998452</td>\n",
       "    </tr>\n",
       "    <tr>\n",
       "      <th>std</th>\n",
       "      <td>0.489974</td>\n",
       "      <td>61.611456</td>\n",
       "      <td>12.919871</td>\n",
       "      <td>1.393312</td>\n",
       "      <td>37.093455</td>\n",
       "      <td>6.666547</td>\n",
       "      <td>0.039320</td>\n",
       "    </tr>\n",
       "    <tr>\n",
       "      <th>min</th>\n",
       "      <td>0.000000</td>\n",
       "      <td>2.000000</td>\n",
       "      <td>1.000000</td>\n",
       "      <td>1.000000</td>\n",
       "      <td>0.000000</td>\n",
       "      <td>0.000000</td>\n",
       "      <td>0.000000</td>\n",
       "    </tr>\n",
       "    <tr>\n",
       "      <th>25%</th>\n",
       "      <td>0.000000</td>\n",
       "      <td>43.000000</td>\n",
       "      <td>11.000000</td>\n",
       "      <td>1.000000</td>\n",
       "      <td>24.000000</td>\n",
       "      <td>5.000000</td>\n",
       "      <td>1.000000</td>\n",
       "    </tr>\n",
       "    <tr>\n",
       "      <th>50%</th>\n",
       "      <td>0.000000</td>\n",
       "      <td>87.000000</td>\n",
       "      <td>20.000000</td>\n",
       "      <td>2.000000</td>\n",
       "      <td>48.000000</td>\n",
       "      <td>9.000000</td>\n",
       "      <td>1.000000</td>\n",
       "    </tr>\n",
       "    <tr>\n",
       "      <th>75%</th>\n",
       "      <td>1.000000</td>\n",
       "      <td>142.000000</td>\n",
       "      <td>29.000000</td>\n",
       "      <td>3.000000</td>\n",
       "      <td>81.000000</td>\n",
       "      <td>15.000000</td>\n",
       "      <td>1.000000</td>\n",
       "    </tr>\n",
       "    <tr>\n",
       "      <th>max</th>\n",
       "      <td>1.000000</td>\n",
       "      <td>910.000000</td>\n",
       "      <td>196.000000</td>\n",
       "      <td>14.000000</td>\n",
       "      <td>355.000000</td>\n",
       "      <td>76.000000</td>\n",
       "      <td>1.000000</td>\n",
       "    </tr>\n",
       "  </tbody>\n",
       "</table>\n",
       "</div>"
      ],
      "text/plain": [
       "               tag  num_chars_raw  num_words_raw  num_sentences_raw  \\\n",
       "count  3230.000000    3230.000000    3230.000000        3230.000000   \n",
       "mean      0.400000      95.108359      20.867802           2.209288   \n",
       "std       0.489974      61.611456      12.919871           1.393312   \n",
       "min       0.000000       2.000000       1.000000           1.000000   \n",
       "25%       0.000000      43.000000      11.000000           1.000000   \n",
       "50%       0.000000      87.000000      20.000000           2.000000   \n",
       "75%       1.000000     142.000000      29.000000           3.000000   \n",
       "max       1.000000     910.000000     196.000000          14.000000   \n",
       "\n",
       "       num_chars_transformed  num_words_transformed  num_sentences_transformed  \n",
       "count            3230.000000            3230.000000                3230.000000  \n",
       "mean               55.063467              10.284830                   0.998452  \n",
       "std                37.093455               6.666547                   0.039320  \n",
       "min                 0.000000               0.000000                   0.000000  \n",
       "25%                24.000000               5.000000                   1.000000  \n",
       "50%                48.000000               9.000000                   1.000000  \n",
       "75%                81.000000              15.000000                   1.000000  \n",
       "max               355.000000              76.000000                   1.000000  "
      ]
     },
     "execution_count": 43,
     "metadata": {},
     "output_type": "execute_result"
    }
   ],
   "source": [
    "df.describe()"
   ]
  },
  {
   "cell_type": "markdown",
   "id": "5041fe7f",
   "metadata": {},
   "source": [
    "<p style=\"font-family: 'Georgia'; font-size: 16px; font-weight: 800; color: #800040;\">\n",
    "    A significant decrease in the number of characters, words, and sentences can be seen after preprocessing the data.\n",
    "</p>"
   ]
  },
  {
   "cell_type": "code",
   "execution_count": 44,
   "id": "1be2ed6d",
   "metadata": {},
   "outputs": [
    {
     "name": "stdout",
     "output_type": "stream",
     "text": [
      "14819\n"
     ]
    }
   ],
   "source": [
    "# LIST ALL THE HAM WORDS IN TRANSFORMED MESSAGES\n",
    "ham_collection = []\n",
    "for message in df[df['tag'] == 0]['message_transformed'].tolist(): # a list of all ham messages\n",
    "    for word in message.split(): # splitting each ham message to words\n",
    "        ham_collection.append(word)\n",
    "        \n",
    "print(len(ham_collection))"
   ]
  },
  {
   "cell_type": "code",
   "execution_count": 45,
   "id": "5eaa5fe0",
   "metadata": {},
   "outputs": [
    {
     "name": "stdout",
     "output_type": "stream",
     "text": [
      "18401\n"
     ]
    }
   ],
   "source": [
    "# LIST ALL THE SPAM WORDS IN TRANSFORMED MESSAGES\n",
    "spam_collection = []\n",
    "for message in df[df['tag'] == 1]['message_transformed'].tolist(): # a list of all ham messages\n",
    "    for word in message.split(): # splitting each ham message to words\n",
    "        spam_collection.append(word)\n",
    "        \n",
    "print(len(spam_collection))"
   ]
  },
  {
   "cell_type": "code",
   "execution_count": 46,
   "id": "be1e91c7",
   "metadata": {},
   "outputs": [
    {
     "data": {
      "image/png": "[encoded data removed]",
      "text/plain": [
       "<Figure size 1500x800 with 1 Axes>"
      ]
     },
     "metadata": {},
     "output_type": "display_data"
    }
   ],
   "source": [
    "# MOST APPEARING WORDS IN HAM COLLECTION\n",
    "from collections import Counter\n",
    "plt.figure(figsize=(15, 8))\n",
    "sns.barplot(x = pd.DataFrame(Counter(ham_collection).most_common(15))[0], \n",
    "            y = pd.DataFrame(Counter(ham_collection).most_common(15))[1])\n",
    "plt.xticks(rotation=30)\n",
    "plt.show()"
   ]
  },
  {
   "cell_type": "code",
   "execution_count": 47,
   "id": "689e13ee",
   "metadata": {},
   "outputs": [
    {
     "data": {
      "image/png": "[encoded data removed]",
      "text/plain": [
       "<Figure size 1500x800 with 1 Axes>"
      ]
     },
     "metadata": {},
     "output_type": "display_data"
    }
   ],
   "source": [
    "# MOST APPEARING WORDS IN SPAM COLLECTION\n",
    "from collections import Counter\n",
    "plt.figure(figsize=(15, 8))\n",
    "sns.barplot(x = pd.DataFrame(Counter(spam_collection).most_common(15))[0], \n",
    "            y = pd.DataFrame(Counter(spam_collection).most_common(15))[1])\n",
    "plt.xticks(rotation=30)\n",
    "plt.show()"
   ]
  },
  {
   "cell_type": "markdown",
   "id": "00c24bcb",
   "metadata": {},
   "source": [
    "<p style=\"font-family: 'Georgia'; font-size: 16px; font-weight: 800; color: #800040;\">\n",
    "    We are done exploring the data. Let's now save the dataset that we need in training. The only columns that we need are tag and message_transformed.\n",
    "</p>"
   ]
  },
  {
   "cell_type": "code",
   "execution_count": 48,
   "id": "08a67b28",
   "metadata": {},
   "outputs": [
    {
     "data": {
      "text/plain": [
       "Index(['tag', 'message', 'num_chars_raw', 'num_words_raw', 'num_sentences_raw',\n",
       "       'message_transformed', 'num_chars_transformed', 'num_words_transformed',\n",
       "       'num_sentences_transformed'],\n",
       "      dtype='object')"
      ]
     },
     "execution_count": 48,
     "metadata": {},
     "output_type": "execute_result"
    }
   ],
   "source": [
    "df.columns"
   ]
  },
  {
   "cell_type": "code",
   "execution_count": 49,
   "id": "6a252e58",
   "metadata": {},
   "outputs": [
    {
     "name": "stdout",
     "output_type": "stream",
     "text": [
      "file created!\n"
     ]
    }
   ],
   "source": [
    "final_df = df.iloc[:, [0,5]]\n",
    "\n",
    "final_df.to_csv('../datasets/training_datasets/training_data6040.csv', index=False)\n",
    "print('file created!')"
   ]
  },
  {
   "cell_type": "code",
   "execution_count": 50,
   "id": "0f8ad4ca",
   "metadata": {},
   "outputs": [
    {
     "data": {
      "text/plain": [
       "tag                    0\n",
       "message_transformed    0\n",
       "dtype: int64"
      ]
     },
     "execution_count": 50,
     "metadata": {},
     "output_type": "execute_result"
    }
   ],
   "source": []
  },
  {
   "cell_type": "code",
   "execution_count": null,
   "id": "36878a3f",
   "metadata": {},
   "outputs": [],
   "source": []
  },
  {
   "cell_type": "code",
   "execution_count": null,
   "id": "7fabd366",
   "metadata": {},
   "outputs": [],
   "source": []
  },
  {
   "cell_type": "code",
   "execution_count": null,
   "id": "77a47f27",
   "metadata": {},
   "outputs": [],
   "source": []
  }
 ],
 "metadata": {
  "kernelspec": {
   "display_name": "Python 3 (ipykernel)",
   "language": "python",
   "name": "python3"
  },
  "language_info": {
   "codemirror_mode": {
    "name": "ipython",
    "version": 3
   },
   "file_extension": ".py",
   "mimetype": "text/x-python",
   "name": "python",
   "nbconvert_exporter": "python",
   "pygments_lexer": "ipython3",
   "version": "3.9.16"
  }
 },
 "nbformat": 4,
 "nbformat_minor": 5
}
