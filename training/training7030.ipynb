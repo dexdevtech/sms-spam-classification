{
 "cells": [
  {
   "cell_type": "markdown",
   "id": "9faa599d",
   "metadata": {},
   "source": [
    "<center><h1 style=\"font-family: 'Georgia'; color: #f2f2f2; background-color:#800040; padding: 20px;\"> Model Training: Text Message Spam Detection\n",
    "    </h1></center>"
   ]
  },
  {
   "cell_type": "markdown",
   "id": "1e5c330c",
   "metadata": {},
   "source": [
    "<p style=\"font-family: 'Georgia'; font-size: 16px; font-weight: 800; color: #800040;\">\n",
    "This is the model training notebook for the 70-30 dataset using default parameters.\n",
    "</p>"
   ]
  },
  {
   "cell_type": "markdown",
   "id": "f9c2a92c",
   "metadata": {},
   "source": [
    "<h1 style=\"font-family: 'Georgia'; font-size: 24px; color: #008000;\">Import Libraries and Load Dataset</h1>"
   ]
  },
  {
   "cell_type": "code",
   "execution_count": 78,
   "id": "9c7f1172",
   "metadata": {},
   "outputs": [],
   "source": [
    "Lo#IMPORT LIBRARIES\n",
    "import numpy as np\n",
    "import pandas as pd\n",
    "import seaborn as sns\n",
    "import matplotlib.pyplot as plt\n",
    "\n",
    "from sklearn.model_selection import StratifiedKFold\n",
    "from sklearn.model_selection import cross_val_score\n",
    "from sklearn.metrics import accuracy_score, precision_score, f1_score, recall_score"
   ]
  },
  {
   "cell_type": "code",
   "execution_count": 79,
   "id": "f24d4615",
   "metadata": {
    "scrolled": true
   },
   "outputs": [
    {
     "data": {
      "text/html": [
       "<div>\n",
       "<style scoped>\n",
       "    .dataframe tbody tr th:only-of-type {\n",
       "        vertical-align: middle;\n",
       "    }\n",
       "\n",
       "    .dataframe tbody tr th {\n",
       "        vertical-align: top;\n",
       "    }\n",
       "\n",
       "    .dataframe thead th {\n",
       "        text-align: right;\n",
       "    }\n",
       "</style>\n",
       "<table border=\"1\" class=\"dataframe\">\n",
       "  <thead>\n",
       "    <tr style=\"text-align: right;\">\n",
       "      <th></th>\n",
       "      <th>tag</th>\n",
       "      <th>message_transformed</th>\n",
       "    </tr>\n",
       "  </thead>\n",
       "  <tbody>\n",
       "    <tr>\n",
       "      <th>0</th>\n",
       "      <td>0</td>\n",
       "      <td>shop lor rain mah hard 2 leav orchard</td>\n",
       "    </tr>\n",
       "    <tr>\n",
       "      <th>1</th>\n",
       "      <td>0</td>\n",
       "      <td>u still paint ur wall</td>\n",
       "    </tr>\n",
       "    <tr>\n",
       "      <th>2</th>\n",
       "      <td>0</td>\n",
       "      <td>lol oh got friend dog</td>\n",
       "    </tr>\n",
       "    <tr>\n",
       "      <th>3</th>\n",
       "      <td>0</td>\n",
       "      <td>sure get acknowledg astoundingli tactless gene...</td>\n",
       "    </tr>\n",
       "    <tr>\n",
       "      <th>4</th>\n",
       "      <td>0</td>\n",
       "      <td>stuck da middl da row da right hand side da lt</td>\n",
       "    </tr>\n",
       "    <tr>\n",
       "      <th>5</th>\n",
       "      <td>0</td>\n",
       "      <td>u get messag</td>\n",
       "    </tr>\n",
       "    <tr>\n",
       "      <th>6</th>\n",
       "      <td>0</td>\n",
       "      <td>gal n boy walk park hold ur hand u think would...</td>\n",
       "    </tr>\n",
       "    <tr>\n",
       "      <th>7</th>\n",
       "      <td>0</td>\n",
       "      <td>hi juan im come home fri hey cours expect welc...</td>\n",
       "    </tr>\n",
       "    <tr>\n",
       "      <th>8</th>\n",
       "      <td>0</td>\n",
       "      <td>ok need tell anyth go sleep good night</td>\n",
       "    </tr>\n",
       "    <tr>\n",
       "      <th>9</th>\n",
       "      <td>0</td>\n",
       "      <td>yep pretti sculptur</td>\n",
       "    </tr>\n",
       "  </tbody>\n",
       "</table>\n",
       "</div>"
      ],
      "text/plain": [
       "   tag                                message_transformed\n",
       "0    0              shop lor rain mah hard 2 leav orchard\n",
       "1    0                              u still paint ur wall\n",
       "2    0                              lol oh got friend dog\n",
       "3    0  sure get acknowledg astoundingli tactless gene...\n",
       "4    0     stuck da middl da row da right hand side da lt\n",
       "5    0                                       u get messag\n",
       "6    0  gal n boy walk park hold ur hand u think would...\n",
       "7    0  hi juan im come home fri hey cours expect welc...\n",
       "8    0             ok need tell anyth go sleep good night\n",
       "9    0                                yep pretti sculptur"
      ]
     },
     "execution_count": 79,
     "metadata": {},
     "output_type": "execute_result"
    }
   ],
   "source": [
    "#LOAD THE DATASET\n",
    "df = pd.read_csv('../datasets/training_datasets/training_data7030.csv') \n",
    "df.head(10)"
   ]
  },
  {
   "cell_type": "code",
   "execution_count": 80,
   "id": "a7f3e12e",
   "metadata": {},
   "outputs": [
    {
     "data": {
      "text/plain": [
       "Index(['tag', 'message'], dtype='object')"
      ]
     },
     "execution_count": 80,
     "metadata": {},
     "output_type": "execute_result"
    }
   ],
   "source": [
    "# RENAME TO PROPER COLUMN NAMES\n",
    "df.rename(columns = {'tag' : 'tag',\n",
    "                      'message_transformed' : 'message'}, \n",
    "          inplace=True)\n",
    "df.columns"
   ]
  },
  {
   "cell_type": "code",
   "execution_count": 81,
   "id": "ab2f95e5",
   "metadata": {},
   "outputs": [
    {
     "data": {
      "text/plain": [
       "tag        0\n",
       "message    0\n",
       "dtype: int64"
      ]
     },
     "execution_count": 81,
     "metadata": {},
     "output_type": "execute_result"
    }
   ],
   "source": [
    "# IT SEEMS LIKE WE HAVE NULL VALUES FROM SAVING THE DATASET, WE NEED TO DELETE THESE NULL VALUES FIRST\n",
    "df.dropna(inplace=True)\n",
    "df.isnull().sum()"
   ]
  },
  {
   "cell_type": "markdown",
   "id": "88c1ce43",
   "metadata": {},
   "source": [
    "<h1 style=\"font-family: 'Georgia'; font-size: 24px; color: #008000;\">Vectorizer Selection</h1>"
   ]
  },
  {
   "cell_type": "markdown",
   "id": "b907df77",
   "metadata": {},
   "source": [
    "<p style=\"font-family: 'Georgia'; font-size: 16px; font-weight: 800; color: #800040;\">\n",
    "    We will be using count vectorizer.\n",
    "</p>\n",
    "\n",
    "<p style=\"font-family: 'Georgia'; font-size: 14px; font-weight: 400; color: #800040;\">\n",
    "    Count Vectorizer is a text preprocessing technique used in natural language processing (NLP) to convert a collection of text documents into a numerical format. It works by tokenizing the text into words or n-grams and then counting the frequency of each token in each document, resulting in a matrix where rows represent documents, columns represent unique tokens, and each cell contains the count of a token in a document.\n",
    "</p>\n"
   ]
  },
  {
   "cell_type": "code",
   "execution_count": 82,
   "id": "ff186b55",
   "metadata": {},
   "outputs": [],
   "source": [
    "#Vectorizers will transform textual data to an array of numerical data\n",
    "from sklearn.feature_extraction.text import CountVectorizer\n",
    "cv = CountVectorizer()\n",
    "\n",
    "X = cv.fit_transform(df['message']).toarray() # array of numeric values\n",
    "y = df['tag'].values                       # numeric values"
   ]
  },
  {
   "cell_type": "markdown",
   "id": "32686f84",
   "metadata": {},
   "source": [
    "<h1 style=\"font-family: 'Georgia'; font-size: 24px; color: #008000;\">Split the Dataset</h1>"
   ]
  },
  {
   "cell_type": "code",
   "execution_count": 83,
   "id": "18114de1",
   "metadata": {},
   "outputs": [],
   "source": [
    "# SPLIT THE DATASET\n",
    "from sklearn.model_selection import train_test_split as tts\n",
    "X_train, X_test, y_train, y_test = tts(X, y, train_size=0.8, random_state=0)"
   ]
  },
  {
   "cell_type": "markdown",
   "id": "5e502aed",
   "metadata": {},
   "source": [
    "<h1 style=\"font-family: 'Georgia'; font-size: 24px; color: #008000;\">Loading the Models</h1>"
   ]
  },
  {
   "cell_type": "code",
   "execution_count": 26,
   "id": "b70bf76e",
   "metadata": {},
   "outputs": [
    {
     "name": "stdout",
     "output_type": "stream",
     "text": [
      "Requirement already satisfied: xgboost in c:\\users\\dexter\\anaconda3\\lib\\site-packages (1.7.4)\n",
      "Requirement already satisfied: scipy in c:\\users\\dexter\\anaconda3\\lib\\site-packages (from xgboost) (1.10.1)\n",
      "Requirement already satisfied: numpy in c:\\users\\dexter\\anaconda3\\lib\\site-packages (from xgboost) (1.24.3)\n"
     ]
    }
   ],
   "source": [
    "#INSTALL XGBOOST\n",
    "!pip install xgboost\n",
    "\n",
    "#IMPORT THE CLASSIFICATION ALGORITHMS\n",
    "from sklearn.linear_model import LogisticRegression\n",
    "from sklearn.svm import SVC\n",
    "from sklearn.naive_bayes import BernoulliNB\n",
    "from sklearn.tree import DecisionTreeClassifier\n",
    "from sklearn.neighbors import KNeighborsClassifier\n",
    "from sklearn.ensemble import RandomForestClassifier\n",
    "from sklearn.ensemble import AdaBoostClassifier\n",
    "from sklearn.ensemble import BaggingClassifier\n",
    "from sklearn.ensemble import ExtraTreesClassifier\n",
    "from sklearn.ensemble import GradientBoostingClassifier\n",
    "from xgboost import XGBClassifier"
   ]
  },
  {
   "cell_type": "code",
   "execution_count": 99,
   "id": "cc25ac36",
   "metadata": {},
   "outputs": [],
   "source": [
    "# CREATE THE OBJECTS\n",
    "svc = SVC(random_state=0)\n",
    "knc = KNeighborsClassifier(n_neighbors=5)\n",
    "bnb = BernoulliNB()\n",
    "dtc = DecisionTreeClassifier(random_state=0)\n",
    "lrc = LogisticRegression(random_state=0)\n",
    "rfc = RandomForestClassifier(random_state=0)\n",
    "abc = AdaBoostClassifier(random_state=0)\n",
    "bc = BaggingClassifier(random_state=0)\n",
    "etc = ExtraTreesClassifier(random_state=0)\n",
    "gdbt = GradientBoostingClassifier(random_state=0)\n",
    "xgb = XGBClassifier(random_state=0)"
   ]
  },
  {
   "cell_type": "code",
   "execution_count": 100,
   "id": "2e41c461",
   "metadata": {},
   "outputs": [],
   "source": [
    "#CREATE A LIBRARY FOR THE CLASSIFIER OBJECTS\n",
    "models = {\n",
    "    'SVC' : svc,\n",
    "    'KNN' : knc,\n",
    "    'BNB' : bnb,\n",
    "    'DTC' : dtc,\n",
    "    'LR' : lrc,\n",
    "    'RFC' : rfc,\n",
    "    'AdaBoost' : abc,\n",
    "    'BgC' : bc,\n",
    "    'ETC' : etc,\n",
    "    'GDBT' : gdbt,\n",
    "    'XGB' : xgb\n",
    "}"
   ]
  },
  {
   "cell_type": "code",
   "execution_count": 49,
   "id": "e730b592",
   "metadata": {},
   "outputs": [],
   "source": [
    "# IMPORT METRICS TO BE USED: [accuracy, precision, recall, f1_score]\n",
    "from sklearn.metrics import accuracy_score, precision_score, recall_score, f1_score"
   ]
  },
  {
   "cell_type": "markdown",
   "id": "eec1283e",
   "metadata": {},
   "source": [
    "<h1 style=\"font-family: 'Georgia'; font-size: 24px; color: #008000;\">Training (Hold Out Validation)</h1>"
   ]
  },
  {
   "cell_type": "code",
   "execution_count": 50,
   "id": "e2632e51",
   "metadata": {},
   "outputs": [],
   "source": [
    "#CREATE A FUNCTION TO TRAIN THE MODELS WITH DEFAULT PARAMETERS\n",
    "def train_model(model, X_train, y_train, X_test, y_test):\n",
    "    # training\n",
    "    model.fit(X_train, y_train)\n",
    "    y_pred = model.predict(X_test)\n",
    "    \n",
    "    # metrics\n",
    "    accuracy = accuracy_score(y_test, y_pred)\n",
    "    precision = precision_score(y_test, y_pred)\n",
    "    recall = recall_score(y_test, y_pred)\n",
    "    f1_score_ = f1_score(y_test, y_pred)\n",
    "\n",
    "    \n",
    "    return accuracy, precision, recall, f1_score_"
   ]
  },
  {
   "cell_type": "code",
   "execution_count": 51,
   "id": "f2896471",
   "metadata": {},
   "outputs": [],
   "source": [
    "# STORING METRICS TO VISUALIZE LATER\n",
    "accuracy_list = []\n",
    "precision_list = []\n",
    "f1_score_list = []\n",
    "recall_list = []"
   ]
  },
  {
   "cell_type": "code",
   "execution_count": 52,
   "id": "c6e2c5b6",
   "metadata": {},
   "outputs": [
    {
     "name": "stdout",
     "output_type": "stream",
     "text": [
      "For SVC :\n",
      "\t accuracy:  0.9430232558139535\n",
      "\t precision:  0.9349593495934959\n",
      "\t recall:  0.8745247148288974\n",
      "\t f1_score:  0.9037328094302554\n",
      "For KNN :\n",
      "\t accuracy:  0.8011627906976744\n",
      "\t precision:  1.0\n",
      "\t recall:  0.34980988593155893\n",
      "\t f1_score:  0.5183098591549297\n",
      "For BNB :\n",
      "\t accuracy:  0.9569767441860465\n",
      "\t precision:  0.9870689655172413\n",
      "\t recall:  0.870722433460076\n",
      "\t f1_score:  0.9252525252525253\n",
      "For DTC :\n",
      "\t accuracy:  0.922093023255814\n",
      "\t precision:  0.9117647058823529\n",
      "\t recall:  0.8250950570342205\n",
      "\t f1_score:  0.8662674650698602\n",
      "For LR :\n",
      "\t accuracy:  0.958139534883721\n",
      "\t precision:  0.9829787234042553\n",
      "\t recall:  0.8783269961977186\n",
      "\t f1_score:  0.927710843373494\n",
      "For RFC :\n",
      "\t accuracy:  0.9465116279069767\n",
      "\t precision:  0.9696969696969697\n",
      "\t recall:  0.8517110266159695\n",
      "\t f1_score:  0.9068825910931174\n",
      "For AdaBoost :\n",
      "\t accuracy:  0.9290697674418604\n",
      "\t precision:  0.9105691056910569\n",
      "\t recall:  0.8517110266159695\n",
      "\t f1_score:  0.8801571709233792\n",
      "For BgC :\n",
      "\t accuracy:  0.936046511627907\n",
      "\t precision:  0.9297520661157025\n",
      "\t recall:  0.8555133079847909\n",
      "\t f1_score:  0.8910891089108911\n",
      "For ETC :\n",
      "\t accuracy:  0.95\n",
      "\t precision:  0.9700854700854701\n",
      "\t recall:  0.8631178707224335\n",
      "\t f1_score:  0.9134808853118712\n",
      "For GDBT :\n",
      "\t accuracy:  0.9104651162790698\n",
      "\t precision:  0.965\n",
      "\t recall:  0.7338403041825095\n",
      "\t f1_score:  0.8336933045356371\n",
      "For XGB :\n",
      "\t accuracy:  0.9476744186046512\n",
      "\t precision:  0.9541666666666667\n",
      "\t recall:  0.870722433460076\n",
      "\t f1_score:  0.9105367793240557\n"
     ]
    }
   ],
   "source": [
    "# RUN THE TRAINING FUNCTION THEN RECORD THE SCORES THE LISTS\n",
    "for name, model in models.items():\n",
    "    accuracy, precision, recall, f1_score_ = train_model(model, X_train, y_train, X_test, y_test)\n",
    "    \n",
    "    print('For', name, \":\")\n",
    "    print('\\t accuracy: ', accuracy)\n",
    "    print('\\t precision: ', precision)\n",
    "    print('\\t recall: ', recall)\n",
    "    print('\\t f1_score: ', f1_score_)\n",
    "    \n",
    "    accuracy_list.append(accuracy)\n",
    "    precision_list.append(precision)\n",
    "    recall_list.append(recall)\n",
    "    f1_score_list.append(f1_score_)"
   ]
  },
  {
   "cell_type": "code",
   "execution_count": 74,
   "id": "49434cd9",
   "metadata": {},
   "outputs": [
    {
     "data": {
      "text/html": [
       "<div>\n",
       "<style scoped>\n",
       "    .dataframe tbody tr th:only-of-type {\n",
       "        vertical-align: middle;\n",
       "    }\n",
       "\n",
       "    .dataframe tbody tr th {\n",
       "        vertical-align: top;\n",
       "    }\n",
       "\n",
       "    .dataframe thead th {\n",
       "        text-align: right;\n",
       "    }\n",
       "</style>\n",
       "<table border=\"1\" class=\"dataframe\">\n",
       "  <thead>\n",
       "    <tr style=\"text-align: right;\">\n",
       "      <th></th>\n",
       "      <th>Algorithm</th>\n",
       "      <th>Accuracy</th>\n",
       "      <th>Precision</th>\n",
       "      <th>Recall</th>\n",
       "      <th>F1 Score</th>\n",
       "    </tr>\n",
       "  </thead>\n",
       "  <tbody>\n",
       "    <tr>\n",
       "      <th>4</th>\n",
       "      <td>LR</td>\n",
       "      <td>0.958140</td>\n",
       "      <td>0.982979</td>\n",
       "      <td>0.878327</td>\n",
       "      <td>0.927711</td>\n",
       "    </tr>\n",
       "    <tr>\n",
       "      <th>2</th>\n",
       "      <td>BNB</td>\n",
       "      <td>0.956977</td>\n",
       "      <td>0.987069</td>\n",
       "      <td>0.870722</td>\n",
       "      <td>0.925253</td>\n",
       "    </tr>\n",
       "    <tr>\n",
       "      <th>8</th>\n",
       "      <td>ETC</td>\n",
       "      <td>0.950000</td>\n",
       "      <td>0.970085</td>\n",
       "      <td>0.863118</td>\n",
       "      <td>0.913481</td>\n",
       "    </tr>\n",
       "    <tr>\n",
       "      <th>10</th>\n",
       "      <td>XGB</td>\n",
       "      <td>0.947674</td>\n",
       "      <td>0.954167</td>\n",
       "      <td>0.870722</td>\n",
       "      <td>0.910537</td>\n",
       "    </tr>\n",
       "    <tr>\n",
       "      <th>5</th>\n",
       "      <td>RFC</td>\n",
       "      <td>0.946512</td>\n",
       "      <td>0.969697</td>\n",
       "      <td>0.851711</td>\n",
       "      <td>0.906883</td>\n",
       "    </tr>\n",
       "    <tr>\n",
       "      <th>0</th>\n",
       "      <td>SVC</td>\n",
       "      <td>0.943023</td>\n",
       "      <td>0.934959</td>\n",
       "      <td>0.874525</td>\n",
       "      <td>0.903733</td>\n",
       "    </tr>\n",
       "    <tr>\n",
       "      <th>7</th>\n",
       "      <td>BgC</td>\n",
       "      <td>0.936047</td>\n",
       "      <td>0.929752</td>\n",
       "      <td>0.855513</td>\n",
       "      <td>0.891089</td>\n",
       "    </tr>\n",
       "    <tr>\n",
       "      <th>6</th>\n",
       "      <td>AdaBoost</td>\n",
       "      <td>0.929070</td>\n",
       "      <td>0.910569</td>\n",
       "      <td>0.851711</td>\n",
       "      <td>0.880157</td>\n",
       "    </tr>\n",
       "    <tr>\n",
       "      <th>3</th>\n",
       "      <td>DTC</td>\n",
       "      <td>0.922093</td>\n",
       "      <td>0.911765</td>\n",
       "      <td>0.825095</td>\n",
       "      <td>0.866267</td>\n",
       "    </tr>\n",
       "    <tr>\n",
       "      <th>9</th>\n",
       "      <td>GDBT</td>\n",
       "      <td>0.910465</td>\n",
       "      <td>0.965000</td>\n",
       "      <td>0.733840</td>\n",
       "      <td>0.833693</td>\n",
       "    </tr>\n",
       "    <tr>\n",
       "      <th>1</th>\n",
       "      <td>KNN</td>\n",
       "      <td>0.801163</td>\n",
       "      <td>1.000000</td>\n",
       "      <td>0.349810</td>\n",
       "      <td>0.518310</td>\n",
       "    </tr>\n",
       "  </tbody>\n",
       "</table>\n",
       "</div>"
      ],
      "text/plain": [
       "   Algorithm  Accuracy  Precision    Recall  F1 Score\n",
       "4         LR  0.958140   0.982979  0.878327  0.927711\n",
       "2        BNB  0.956977   0.987069  0.870722  0.925253\n",
       "8        ETC  0.950000   0.970085  0.863118  0.913481\n",
       "10       XGB  0.947674   0.954167  0.870722  0.910537\n",
       "5        RFC  0.946512   0.969697  0.851711  0.906883\n",
       "0        SVC  0.943023   0.934959  0.874525  0.903733\n",
       "7        BgC  0.936047   0.929752  0.855513  0.891089\n",
       "6   AdaBoost  0.929070   0.910569  0.851711  0.880157\n",
       "3        DTC  0.922093   0.911765  0.825095  0.866267\n",
       "9       GDBT  0.910465   0.965000  0.733840  0.833693\n",
       "1        KNN  0.801163   1.000000  0.349810  0.518310"
      ]
     },
     "execution_count": 74,
     "metadata": {},
     "output_type": "execute_result"
    }
   ],
   "source": [
    "#CREATE A DATAFRAME TO FOR GRAPHICAL VISUALIZATION\n",
    "model_performance = pd.DataFrame({'Algorithm' : models.keys(), \n",
    "                                  'Accuracy' : accuracy_list, \n",
    "                                  'Precision' : precision_list,\n",
    "                                  'Recall' : recall_list,\n",
    "                                  'F1 Score' : f1_score_list})\n",
    "model_performance.sort_values('Accuracy', ascending=False)"
   ]
  },
  {
   "cell_type": "markdown",
   "id": "7fd5ce00",
   "metadata": {},
   "source": [
    "<h1 style=\"font-family: 'Georgia'; font-size: 24px; color: #008000;\">Visualizing Hold out Performances</h1>"
   ]
  },
  {
   "cell_type": "code",
   "execution_count": 75,
   "id": "54bece76",
   "metadata": {
    "scrolled": false
   },
   "outputs": [
    {
     "data": {
      "image/png": "[encoded data removed]",
      "text/plain": [
       "<Figure size 1357.25x500 with 1 Axes>"
      ]
     },
     "metadata": {},
     "output_type": "display_data"
    }
   ],
   "source": [
    "#TO VISUALIZE performance_df1\n",
    "performance_df = pd.melt(model_performance, id_vars=\"Algorithm\")\n",
    "\n",
    "sns.catplot(x='Algorithm', \n",
    "            y='value', \n",
    "            hue='variable', \n",
    "            data=performance_df, \n",
    "            kind='bar', \n",
    "            height=5, \n",
    "            aspect=2.5)  # Adjust the aspect value for width\n",
    "plt.ylim(0.5, 1.0)\n",
    "plt.xticks(rotation=30)\n",
    "plt.show()\n"
   ]
  },
  {
   "cell_type": "markdown",
   "id": "4f5593c3",
   "metadata": {},
   "source": [
    "<h1 style=\"font-family: 'Georgia'; font-size: 24px; color: #008000;\">Training (Cross Validation)</h1>"
   ]
  },
  {
   "cell_type": "code",
   "execution_count": 101,
   "id": "2f5bebd5",
   "metadata": {},
   "outputs": [],
   "source": [
    "import numpy as np\n",
    "from sklearn.model_selection import cross_validate, StratifiedKFold\n",
    "from sklearn.metrics import accuracy_score, precision_score, recall_score, f1_score"
   ]
  },
  {
   "cell_type": "code",
   "execution_count": 105,
   "id": "068939aa",
   "metadata": {},
   "outputs": [],
   "source": [
    "# STORE METRICS\n",
    "accuracy_list_cv = []\n",
    "precision_list_cv = []\n",
    "recall_list_cv = []\n",
    "f1_list_cv = []"
   ]
  },
  {
   "cell_type": "code",
   "execution_count": 106,
   "id": "04fe342c",
   "metadata": {},
   "outputs": [],
   "source": [
    "# KFOLDS CONFIGURATION\n",
    "num_folds = 5\n",
    "\n",
    "cross_val = StratifiedKFold(n_splits=num_folds, shuffle=True, random_state=0)"
   ]
  },
  {
   "cell_type": "code",
   "execution_count": 107,
   "id": "44063c72",
   "metadata": {},
   "outputs": [],
   "source": [
    "# DEFINE EVALUATION METRICS\n",
    "scoring = ['accuracy', 'precision', 'recall', 'f1']"
   ]
  },
  {
   "cell_type": "code",
   "execution_count": 108,
   "id": "c8b8f3a8",
   "metadata": {},
   "outputs": [
    {
     "name": "stdout",
     "output_type": "stream",
     "text": [
      "For SVC:\n",
      "\t Mean Accuracy: 0.9574418604651163\n",
      "\t Mean Precision: 0.9610139642064844\n",
      "\t Mean Recall: 0.8947352668282902\n",
      "\t Mean F1 Score: 0.9266631153409076\n",
      "For KNN:\n",
      "\t Mean Accuracy: 0.7939534883720931\n",
      "\t Mean Precision: 1.0\n",
      "\t Mean Recall: 0.31427673520696775\n",
      "\t Mean F1 Score: 0.47751706587708054\n",
      "For BNB:\n",
      "\t Mean Accuracy: 0.9604651162790698\n",
      "\t Mean Precision: 0.9921196005562708\n",
      "\t Mean Recall: 0.8753703869982938\n",
      "\t Mean F1 Score: 0.930061418632377\n",
      "For DTC:\n",
      "\t Mean Accuracy: 0.930232558139535\n",
      "\t Mean Precision: 0.9091980747827325\n",
      "\t Mean Recall: 0.8529586064469786\n",
      "\t Mean F1 Score: 0.8801256901267875\n",
      "For LR:\n",
      "\t Mean Accuracy: 0.9623255813953489\n",
      "\t Mean Precision: 0.987064946547705\n",
      "\t Mean Recall: 0.8862201071503397\n",
      "\t Mean F1 Score: 0.9339205577118719\n",
      "For RFC:\n",
      "\t Mean Accuracy: 0.951627906976744\n",
      "\t Mean Precision: 0.9755443681833633\n",
      "\t Mean Recall: 0.8606746281164886\n",
      "\t Mean F1 Score: 0.9144238189218413\n",
      "For AdaBoost:\n",
      "\t Mean Accuracy: 0.936046511627907\n",
      "\t Mean Precision: 0.9351492901349244\n",
      "\t Mean Recall: 0.8459579180509413\n",
      "\t Mean F1 Score: 0.8881881755037873\n",
      "For BgC:\n",
      "\t Mean Accuracy: 0.9365116279069767\n",
      "\t Mean Precision: 0.9338501312295495\n",
      "\t Mean Recall: 0.8490796444284816\n",
      "\t Mean F1 Score: 0.8891804469327909\n",
      "For ETC:\n",
      "\t Mean Accuracy: 0.9572093023255814\n",
      "\t Mean Precision: 0.9726708032236047\n",
      "\t Mean Recall: 0.8823471311843406\n",
      "\t Mean F1 Score: 0.9253033931048291\n",
      "For GDBT:\n",
      "\t Mean Accuracy: 0.9195348837209302\n",
      "\t Mean Precision: 0.9647758908361069\n",
      "\t Mean Recall: 0.7600371135254858\n",
      "\t Mean F1 Score: 0.8501699819722196\n",
      "For XGB:\n",
      "\t Mean Accuracy: 0.9534883720930234\n",
      "\t Mean Precision: 0.9636091426433332\n",
      "\t Mean Recall: 0.878480141270839\n",
      "\t Mean F1 Score: 0.9190261482441191\n"
     ]
    }
   ],
   "source": [
    "# Loop through each model and perform cross-validation\n",
    "for name, model in models.items():\n",
    "    scores = cross_validate(estimator=model, X=X, y=y, cv=cross_val, scoring=scoring)\n",
    "    \n",
    "    mean_accuracy = np.mean(scores['test_accuracy'])\n",
    "    mean_precision = np.mean(scores['test_precision'])\n",
    "    mean_recall = np.mean(scores['test_recall'])\n",
    "    mean_f1 = np.mean(scores['test_f1'])\n",
    "    \n",
    "    accuracy_list_cv.append(mean_accuracy)\n",
    "    precision_list_cv.append(mean_precision)\n",
    "    recall_list_cv.append(mean_recall)\n",
    "    f1_list_cv.append(mean_f1)\n",
    "\n",
    "    print(f'For {name}:')\n",
    "    print(f'\\t Mean Accuracy: {mean_accuracy}')\n",
    "    print(f'\\t Mean Precision: {mean_precision}')\n",
    "    print(f'\\t Mean Recall: {mean_recall}')\n",
    "    print(f'\\t Mean F1 Score: {mean_f1}')\n"
   ]
  },
  {
   "cell_type": "code",
   "execution_count": 110,
   "id": "4dac3927",
   "metadata": {},
   "outputs": [
    {
     "data": {
      "text/html": [
       "<div>\n",
       "<style scoped>\n",
       "    .dataframe tbody tr th:only-of-type {\n",
       "        vertical-align: middle;\n",
       "    }\n",
       "\n",
       "    .dataframe tbody tr th {\n",
       "        vertical-align: top;\n",
       "    }\n",
       "\n",
       "    .dataframe thead th {\n",
       "        text-align: right;\n",
       "    }\n",
       "</style>\n",
       "<table border=\"1\" class=\"dataframe\">\n",
       "  <thead>\n",
       "    <tr style=\"text-align: right;\">\n",
       "      <th></th>\n",
       "      <th>Algorithm</th>\n",
       "      <th>Accuracy</th>\n",
       "      <th>Precision</th>\n",
       "      <th>Recall</th>\n",
       "      <th>F1 Score</th>\n",
       "    </tr>\n",
       "  </thead>\n",
       "  <tbody>\n",
       "    <tr>\n",
       "      <th>4</th>\n",
       "      <td>LR</td>\n",
       "      <td>0.962326</td>\n",
       "      <td>0.987065</td>\n",
       "      <td>0.886220</td>\n",
       "      <td>0.933921</td>\n",
       "    </tr>\n",
       "    <tr>\n",
       "      <th>2</th>\n",
       "      <td>BNB</td>\n",
       "      <td>0.960465</td>\n",
       "      <td>0.992120</td>\n",
       "      <td>0.875370</td>\n",
       "      <td>0.930061</td>\n",
       "    </tr>\n",
       "    <tr>\n",
       "      <th>0</th>\n",
       "      <td>SVC</td>\n",
       "      <td>0.957442</td>\n",
       "      <td>0.961014</td>\n",
       "      <td>0.894735</td>\n",
       "      <td>0.926663</td>\n",
       "    </tr>\n",
       "    <tr>\n",
       "      <th>8</th>\n",
       "      <td>ETC</td>\n",
       "      <td>0.957209</td>\n",
       "      <td>0.972671</td>\n",
       "      <td>0.882347</td>\n",
       "      <td>0.925303</td>\n",
       "    </tr>\n",
       "    <tr>\n",
       "      <th>10</th>\n",
       "      <td>XGB</td>\n",
       "      <td>0.953488</td>\n",
       "      <td>0.963609</td>\n",
       "      <td>0.878480</td>\n",
       "      <td>0.919026</td>\n",
       "    </tr>\n",
       "    <tr>\n",
       "      <th>5</th>\n",
       "      <td>RFC</td>\n",
       "      <td>0.951628</td>\n",
       "      <td>0.975544</td>\n",
       "      <td>0.860675</td>\n",
       "      <td>0.914424</td>\n",
       "    </tr>\n",
       "    <tr>\n",
       "      <th>7</th>\n",
       "      <td>BgC</td>\n",
       "      <td>0.936512</td>\n",
       "      <td>0.933850</td>\n",
       "      <td>0.849080</td>\n",
       "      <td>0.889180</td>\n",
       "    </tr>\n",
       "    <tr>\n",
       "      <th>6</th>\n",
       "      <td>AdaBoost</td>\n",
       "      <td>0.936047</td>\n",
       "      <td>0.935149</td>\n",
       "      <td>0.845958</td>\n",
       "      <td>0.888188</td>\n",
       "    </tr>\n",
       "    <tr>\n",
       "      <th>3</th>\n",
       "      <td>DTC</td>\n",
       "      <td>0.930233</td>\n",
       "      <td>0.909198</td>\n",
       "      <td>0.852959</td>\n",
       "      <td>0.880126</td>\n",
       "    </tr>\n",
       "    <tr>\n",
       "      <th>9</th>\n",
       "      <td>GDBT</td>\n",
       "      <td>0.919535</td>\n",
       "      <td>0.964776</td>\n",
       "      <td>0.760037</td>\n",
       "      <td>0.850170</td>\n",
       "    </tr>\n",
       "    <tr>\n",
       "      <th>1</th>\n",
       "      <td>KNN</td>\n",
       "      <td>0.793953</td>\n",
       "      <td>1.000000</td>\n",
       "      <td>0.314277</td>\n",
       "      <td>0.477517</td>\n",
       "    </tr>\n",
       "  </tbody>\n",
       "</table>\n",
       "</div>"
      ],
      "text/plain": [
       "   Algorithm  Accuracy  Precision    Recall  F1 Score\n",
       "4         LR  0.962326   0.987065  0.886220  0.933921\n",
       "2        BNB  0.960465   0.992120  0.875370  0.930061\n",
       "0        SVC  0.957442   0.961014  0.894735  0.926663\n",
       "8        ETC  0.957209   0.972671  0.882347  0.925303\n",
       "10       XGB  0.953488   0.963609  0.878480  0.919026\n",
       "5        RFC  0.951628   0.975544  0.860675  0.914424\n",
       "7        BgC  0.936512   0.933850  0.849080  0.889180\n",
       "6   AdaBoost  0.936047   0.935149  0.845958  0.888188\n",
       "3        DTC  0.930233   0.909198  0.852959  0.880126\n",
       "9       GDBT  0.919535   0.964776  0.760037  0.850170\n",
       "1        KNN  0.793953   1.000000  0.314277  0.477517"
      ]
     },
     "execution_count": 110,
     "metadata": {},
     "output_type": "execute_result"
    }
   ],
   "source": [
    "#CREATE A DATAFRAME TO FOR GRAPHICAL VISUALIZATION\n",
    "model_performance_cv = pd.DataFrame({'Algorithm' : models.keys(), \n",
    "                                  'Accuracy' : accuracy_list_cv, \n",
    "                                  'Precision' : precision_list_cv,\n",
    "                                  'Recall' : recall_list_cv,\n",
    "                                  'F1 Score' : f1_list_cv})\n",
    "model_performance_cv.sort_values('Accuracy', ascending=False)"
   ]
  },
  {
   "cell_type": "markdown",
   "id": "454ceb69",
   "metadata": {},
   "source": [
    "<h1 style=\"font-family: 'Georgia'; font-size: 24px; color: #008000;\">Visualizing Cross Validation Performances</h1>"
   ]
  },
  {
   "cell_type": "code",
   "execution_count": 159,
   "id": "d7cfdc46",
   "metadata": {},
   "outputs": [
    {
     "data": {
      "image/png": "[encoded data removed]",
      "text/plain": [
       "<Figure size 1357.25x500 with 1 Axes>"
      ]
     },
     "metadata": {},
     "output_type": "display_data"
    }
   ],
   "source": [
    "#TO VISUALIZE performance_df1\n",
    "performance_df_cv = pd.melt(model_performance_cv, id_vars=\"Algorithm\")\n",
    "\n",
    "sns.catplot(x='Algorithm', \n",
    "            y='value', \n",
    "            hue='variable', \n",
    "            data=performance_df_cv, \n",
    "            kind='bar', \n",
    "            height=5, \n",
    "            aspect=2.5)  # Adjust the aspect value for width\n",
    "plt.ylim(0.5, 1.0)\n",
    "plt.xticks(rotation=30)\n",
    "plt.show()"
   ]
  },
  {
   "cell_type": "markdown",
   "id": "707e905d",
   "metadata": {},
   "source": [
    "<h1 style=\"font-family: 'Georgia'; font-size: 24px; color: #008000;\">Deciding the Best Model</h1>"
   ]
  },
  {
   "cell_type": "markdown",
   "id": "712dd464",
   "metadata": {},
   "source": [
    "<p style=\"font-family: 'Georgia'; font-size: 16px; font-weight: 800; color: #800040;\">\n",
    "    We will not consider hold out validation results because it's bias. We just want to compare it with cross-validated results that's why it is included in the notebook. Another thing is we will select the best model based on the average of accuracy and precision because the goal of this machine learning project is to build a model with a high level of correctness in predicting both classes.\n",
    "</p>\n",
    "\n",
    "<ul>\n",
    "    <li style=\"font-family: 'Georgia'; font-size: 14px; font-weight: 400; color: #800040;\">Accuracy: Evaluating accuracy ensures that your model correctly predicts both classes, which aligns with your goal of high correctness.</li>\n",
    "    <li style=\"font-family: 'Georgia'; font-size: 14px; font-weight: 400; color: #800040;\"> Precision: Precision focuses on the correctness of positive predictions. By considering precision, you are emphasizing the importance of correctly identifying instances of the positive class. This can be particularly relevant when false positives are costly.</li>\n",
    "</ul>\n"
   ]
  },
  {
   "cell_type": "code",
   "execution_count": 155,
   "id": "ad81fbd9",
   "metadata": {},
   "outputs": [],
   "source": [
    "accuracy_list_cv\n",
    "precision_list_cv\n",
    "\n",
    "def average(i):\n",
    "    return (accuracy_list_cv[i] + precision_list_cv[i])/2\n",
    "\n",
    "def list_average():\n",
    "    averages= []\n",
    "    for i in range (len(accuracy_list_cv)):\n",
    "        avg = average(i)\n",
    "        averages.append([avg, i])\n",
    "    return averages"
   ]
  },
  {
   "cell_type": "code",
   "execution_count": 157,
   "id": "98e42ffd",
   "metadata": {},
   "outputs": [
    {
     "data": {
      "text/plain": [
       "[[0.9762923584176704, 2],\n",
       " [0.974695263971527, 4],\n",
       " [0.964940052774593, 8],\n",
       " [0.9635861375800536, 5],\n",
       " [0.9592279123358003, 0],\n",
       " [0.9585487573681784, 10],\n",
       " [0.9421553872785186, 9],\n",
       " [0.9355979008814157, 6],\n",
       " [0.9351808795682631, 7],\n",
       " [0.9197153164611338, 3],\n",
       " [0.8969767441860466, 1]]"
      ]
     },
     "execution_count": 157,
     "metadata": {},
     "output_type": "execute_result"
    }
   ],
   "source": [
    "averages = list_average()\n",
    "sorted(averages, reverse=True)"
   ]
  },
  {
   "cell_type": "markdown",
   "id": "9c320e56",
   "metadata": {},
   "source": [
    "<p style=\"font-family: 'Georgia'; font-size: 14px; font-weight: 800; color: #800040;\">With mean accuracy of 96.05% and mean precision of 99.21%, the element at index position 3 of the accuracy_list_cv corresponds to the best-performing model, which is the Bernoulli Naive Bayes Algorithm (BNB).<p>"
   ]
  },
  {
   "cell_type": "code",
   "execution_count": null,
   "id": "4556f1bd",
   "metadata": {},
   "outputs": [],
   "source": []
  },
  {
   "cell_type": "code",
   "execution_count": null,
   "id": "dd5fd833",
   "metadata": {},
   "outputs": [],
   "source": []
  },
  {
   "cell_type": "code",
   "execution_count": null,
   "id": "cb1de9db",
   "metadata": {},
   "outputs": [],
   "source": []
  },
  {
   "cell_type": "code",
   "execution_count": null,
   "id": "d1554a6c",
   "metadata": {},
   "outputs": [],
   "source": []
  },
  {
   "cell_type": "code",
   "execution_count": null,
   "id": "f6033a17",
   "metadata": {},
   "outputs": [],
   "source": []
  },
  {
   "cell_type": "code",
   "execution_count": null,
   "id": "284afce0",
   "metadata": {},
   "outputs": [],
   "source": []
  },
  {
   "cell_type": "code",
   "execution_count": null,
   "id": "5e408596",
   "metadata": {},
   "outputs": [],
   "source": []
  },
  {
   "cell_type": "code",
   "execution_count": null,
   "id": "0bf8f90e",
   "metadata": {},
   "outputs": [],
   "source": []
  },
  {
   "cell_type": "code",
   "execution_count": null,
   "id": "31ee6fee",
   "metadata": {},
   "outputs": [],
   "source": []
  }
 ],
 "metadata": {
  "kernelspec": {
   "display_name": "Python 3 (ipykernel)",
   "language": "python",
   "name": "python3"
  },
  "language_info": {
   "codemirror_mode": {
    "name": "ipython",
    "version": 3
   },
   "file_extension": ".py",
   "mimetype": "text/x-python",
   "name": "python",
   "nbconvert_exporter": "python",
   "pygments_lexer": "ipython3",
   "version": "3.9.16"
  }
 },
 "nbformat": 4,
 "nbformat_minor": 5
}
