{
 "cells": [
  {
   "cell_type": "markdown",
   "id": "9faa599d",
   "metadata": {},
   "source": [
    "<center><h1 style=\"font-family: 'Georgia'; color: #f2f2f2; background-color:#800040; padding: 20px;\"> Model Training: Text Message Spam Detection\n",
    "    </h1></center>"
   ]
  },
  {
   "cell_type": "markdown",
   "id": "1e5c330c",
   "metadata": {},
   "source": [
    "<p style=\"font-family: 'Georgia'; font-size: 16px; font-weight: 800; color: #800040;\">\n",
    "This is the model training notebook for the 50-50 dataset using default parameters.\n",
    "</p>"
   ]
  },
  {
   "cell_type": "markdown",
   "id": "f9c2a92c",
   "metadata": {},
   "source": [
    "<h1 style=\"font-family: 'Georgia'; font-size: 24px; color: #008000;\">Import Libraries and Load Dataset</h1>"
   ]
  },
  {
   "cell_type": "code",
   "execution_count": 1,
   "id": "9c7f1172",
   "metadata": {},
   "outputs": [],
   "source": [
    "#IMPORT LIBRARIES\n",
    "import numpy as np\n",
    "import pandas as pd\n",
    "import seaborn as sns\n",
    "import matplotlib.pyplot as plt\n",
    "\n",
    "from sklearn.model_selection import StratifiedKFold\n",
    "from sklearn.model_selection import cross_val_score\n",
    "from sklearn.metrics import accuracy_score, precision_score, f1_score, recall_score"
   ]
  },
  {
   "cell_type": "code",
   "execution_count": 2,
   "id": "f24d4615",
   "metadata": {
    "scrolled": true
   },
   "outputs": [
    {
     "data": {
      "text/html": [
       "<div>\n",
       "<style scoped>\n",
       "    .dataframe tbody tr th:only-of-type {\n",
       "        vertical-align: middle;\n",
       "    }\n",
       "\n",
       "    .dataframe tbody tr th {\n",
       "        vertical-align: top;\n",
       "    }\n",
       "\n",
       "    .dataframe thead th {\n",
       "        text-align: right;\n",
       "    }\n",
       "</style>\n",
       "<table border=\"1\" class=\"dataframe\">\n",
       "  <thead>\n",
       "    <tr style=\"text-align: right;\">\n",
       "      <th></th>\n",
       "      <th>tag</th>\n",
       "      <th>message_transformed</th>\n",
       "    </tr>\n",
       "  </thead>\n",
       "  <tbody>\n",
       "    <tr>\n",
       "      <th>0</th>\n",
       "      <td>0</td>\n",
       "      <td>geeeee love much bare stand</td>\n",
       "    </tr>\n",
       "    <tr>\n",
       "      <th>1</th>\n",
       "      <td>0</td>\n",
       "      <td>see forward messag proof</td>\n",
       "    </tr>\n",
       "    <tr>\n",
       "      <th>2</th>\n",
       "      <td>0</td>\n",
       "      <td>thank u</td>\n",
       "    </tr>\n",
       "    <tr>\n",
       "      <th>3</th>\n",
       "      <td>0</td>\n",
       "      <td>certainli put thing perspect someth like happen</td>\n",
       "    </tr>\n",
       "    <tr>\n",
       "      <th>4</th>\n",
       "      <td>0</td>\n",
       "      <td>yo dude guess got arrest day</td>\n",
       "    </tr>\n",
       "    <tr>\n",
       "      <th>5</th>\n",
       "      <td>0</td>\n",
       "      <td>u</td>\n",
       "    </tr>\n",
       "    <tr>\n",
       "      <th>6</th>\n",
       "      <td>0</td>\n",
       "      <td>murder coz man murder lt gt th januari public ...</td>\n",
       "    </tr>\n",
       "    <tr>\n",
       "      <th>7</th>\n",
       "      <td>0</td>\n",
       "      <td>also fuck famili go rhode island wherev fuck l...</td>\n",
       "    </tr>\n",
       "    <tr>\n",
       "      <th>8</th>\n",
       "      <td>0</td>\n",
       "      <td>ye last week take live call</td>\n",
       "    </tr>\n",
       "    <tr>\n",
       "      <th>9</th>\n",
       "      <td>0</td>\n",
       "      <td>cinema plu drink appeal tomo fr thriller direc...</td>\n",
       "    </tr>\n",
       "  </tbody>\n",
       "</table>\n",
       "</div>"
      ],
      "text/plain": [
       "   tag                                message_transformed\n",
       "0    0                        geeeee love much bare stand\n",
       "1    0                           see forward messag proof\n",
       "2    0                                            thank u\n",
       "3    0    certainli put thing perspect someth like happen\n",
       "4    0                       yo dude guess got arrest day\n",
       "5    0                                                  u\n",
       "6    0  murder coz man murder lt gt th januari public ...\n",
       "7    0  also fuck famili go rhode island wherev fuck l...\n",
       "8    0                        ye last week take live call\n",
       "9    0  cinema plu drink appeal tomo fr thriller direc..."
      ]
     },
     "execution_count": 2,
     "metadata": {},
     "output_type": "execute_result"
    }
   ],
   "source": [
    "#LOAD THE DATASET\n",
    "df = pd.read_csv('../datasets/training_datasets/training_data5050.csv') \n",
    "df.head(10)"
   ]
  },
  {
   "cell_type": "code",
   "execution_count": 3,
   "id": "a7f3e12e",
   "metadata": {},
   "outputs": [
    {
     "data": {
      "text/plain": [
       "Index(['tag', 'message'], dtype='object')"
      ]
     },
     "execution_count": 3,
     "metadata": {},
     "output_type": "execute_result"
    }
   ],
   "source": [
    "# RENAME TO PROPER COLUMN NAMES\n",
    "df.rename(columns = {'tag' : 'tag',\n",
    "                      'message_transformed' : 'message'}, \n",
    "          inplace=True)\n",
    "df.columns"
   ]
  },
  {
   "cell_type": "code",
   "execution_count": 4,
   "id": "ab2f95e5",
   "metadata": {},
   "outputs": [
    {
     "data": {
      "text/plain": [
       "tag        0\n",
       "message    0\n",
       "dtype: int64"
      ]
     },
     "execution_count": 4,
     "metadata": {},
     "output_type": "execute_result"
    }
   ],
   "source": [
    "# IT SEEMS LIKE WE HAVE NULL VALUES FROM SAVING THE DATASET, WE NEED TO DELETE THESE NULL VALUES FIRST\n",
    "df.dropna(inplace=True)\n",
    "df.isnull().sum()"
   ]
  },
  {
   "cell_type": "markdown",
   "id": "88c1ce43",
   "metadata": {},
   "source": [
    "<h1 style=\"font-family: 'Georgia'; font-size: 24px; color: #008000;\">Vectorizer Selection</h1>"
   ]
  },
  {
   "cell_type": "markdown",
   "id": "b907df77",
   "metadata": {},
   "source": [
    "<p style=\"font-family: 'Georgia'; font-size: 16px; font-weight: 800; color: #800040;\">\n",
    "    We will be using count vectorizer.\n",
    "</p>\n",
    "\n",
    "<p style=\"font-family: 'Georgia'; font-size: 14px; font-weight: 400; color: #800040;\">\n",
    "    Count Vectorizer is a text preprocessing technique used in natural language processing (NLP) to convert a collection of text documents into a numerical format. It works by tokenizing the text into words or n-grams and then counting the frequency of each token in each document, resulting in a matrix where rows represent documents, columns represent unique tokens, and each cell contains the count of a token in a document.\n",
    "</p>\n"
   ]
  },
  {
   "cell_type": "code",
   "execution_count": 5,
   "id": "ff186b55",
   "metadata": {},
   "outputs": [],
   "source": [
    "#Vectorizers will transform textual data to an array of numerical data\n",
    "from sklearn.feature_extraction.text import CountVectorizer\n",
    "cv = CountVectorizer()\n",
    "\n",
    "X = cv.fit_transform(df['message']).toarray() # array of numeric values\n",
    "y = df['tag'].values                       # numeric values"
   ]
  },
  {
   "cell_type": "markdown",
   "id": "32686f84",
   "metadata": {},
   "source": [
    "<h1 style=\"font-family: 'Georgia'; font-size: 24px; color: #008000;\">Split the Dataset</h1>"
   ]
  },
  {
   "cell_type": "code",
   "execution_count": 6,
   "id": "18114de1",
   "metadata": {},
   "outputs": [],
   "source": [
    "# SPLIT THE DATASET\n",
    "from sklearn.model_selection import train_test_split as tts\n",
    "X_train, X_test, y_train, y_test = tts(X, y, train_size=0.8, random_state=0)"
   ]
  },
  {
   "cell_type": "markdown",
   "id": "5e502aed",
   "metadata": {},
   "source": [
    "<h1 style=\"font-family: 'Georgia'; font-size: 24px; color: #008000;\">Loading the Models</h1>"
   ]
  },
  {
   "cell_type": "code",
   "execution_count": 7,
   "id": "b70bf76e",
   "metadata": {},
   "outputs": [
    {
     "name": "stdout",
     "output_type": "stream",
     "text": [
      "Requirement already satisfied: xgboost in c:\\users\\dexter\\anaconda3\\lib\\site-packages (1.7.4)\n",
      "Requirement already satisfied: numpy in c:\\users\\dexter\\anaconda3\\lib\\site-packages (from xgboost) (1.24.3)\n",
      "Requirement already satisfied: scipy in c:\\users\\dexter\\anaconda3\\lib\\site-packages (from xgboost) (1.10.1)\n"
     ]
    }
   ],
   "source": [
    "#INSTALL XGBOOST\n",
    "!pip install xgboost\n",
    "\n",
    "#IMPORT THE CLASSIFICATION ALGORITHMS\n",
    "from sklearn.linear_model import LogisticRegression\n",
    "from sklearn.svm import SVC\n",
    "from sklearn.naive_bayes import BernoulliNB\n",
    "from sklearn.tree import DecisionTreeClassifier\n",
    "from sklearn.neighbors import KNeighborsClassifier\n",
    "from sklearn.ensemble import RandomForestClassifier\n",
    "from sklearn.ensemble import AdaBoostClassifier\n",
    "from sklearn.ensemble import BaggingClassifier\n",
    "from sklearn.ensemble import ExtraTreesClassifier\n",
    "from sklearn.ensemble import GradientBoostingClassifier\n",
    "from xgboost import XGBClassifier"
   ]
  },
  {
   "cell_type": "code",
   "execution_count": 8,
   "id": "cc25ac36",
   "metadata": {},
   "outputs": [],
   "source": [
    "# CREATE THE OBJECTS\n",
    "svc = SVC(random_state=0)\n",
    "knc = KNeighborsClassifier(n_neighbors=5)\n",
    "bnb = BernoulliNB()\n",
    "dtc = DecisionTreeClassifier(random_state=0)\n",
    "lrc = LogisticRegression(random_state=0)\n",
    "rfc = RandomForestClassifier(random_state=0)\n",
    "abc = AdaBoostClassifier(random_state=0)\n",
    "bc = BaggingClassifier(random_state=0)\n",
    "etc = ExtraTreesClassifier(random_state=0)\n",
    "gdbt = GradientBoostingClassifier(random_state=0)\n",
    "xgb = XGBClassifier(random_state=0)"
   ]
  },
  {
   "cell_type": "code",
   "execution_count": 9,
   "id": "2e41c461",
   "metadata": {},
   "outputs": [],
   "source": [
    "#CREATE A LIBRARY FOR THE CLASSIFIER OBJECTS\n",
    "models = {\n",
    "    'SVC' : svc,\n",
    "    'KNN' : knc,\n",
    "    'BNB' : bnb,\n",
    "    'DTC' : dtc,\n",
    "    'LR' : lrc,\n",
    "    'RFC' : rfc,\n",
    "    'AdaBoost' : abc,\n",
    "    'BgC' : bc,\n",
    "    'ETC' : etc,\n",
    "    'GDBT' : gdbt,\n",
    "    'XGB' : xgb\n",
    "}"
   ]
  },
  {
   "cell_type": "code",
   "execution_count": 10,
   "id": "e730b592",
   "metadata": {},
   "outputs": [],
   "source": [
    "# IMPORT METRICS TO BE USED: [accuracy, precision, recall, f1_score]\n",
    "from sklearn.metrics import accuracy_score, precision_score, recall_score, f1_score"
   ]
  },
  {
   "cell_type": "markdown",
   "id": "eec1283e",
   "metadata": {},
   "source": [
    "<h1 style=\"font-family: 'Georgia'; font-size: 24px; color: #008000;\">Training (Hold Out Validation)</h1>"
   ]
  },
  {
   "cell_type": "code",
   "execution_count": 11,
   "id": "e2632e51",
   "metadata": {},
   "outputs": [],
   "source": [
    "#CREATE A FUNCTION TO TRAIN THE MODELS WITH DEFAULT PARAMETERS\n",
    "def train_model(model, X_train, y_train, X_test, y_test):\n",
    "    # training\n",
    "    model.fit(X_train, y_train)\n",
    "    y_pred = model.predict(X_test)\n",
    "    \n",
    "    # metrics\n",
    "    accuracy = accuracy_score(y_test, y_pred)\n",
    "    precision = precision_score(y_test, y_pred)\n",
    "    recall = recall_score(y_test, y_pred)\n",
    "    f1_score_ = f1_score(y_test, y_pred)\n",
    "\n",
    "    \n",
    "    return accuracy, precision, recall, f1_score_"
   ]
  },
  {
   "cell_type": "code",
   "execution_count": 12,
   "id": "f2896471",
   "metadata": {},
   "outputs": [],
   "source": [
    "# STORING METRICS TO VISUALIZE LATER\n",
    "accuracy_list = []\n",
    "precision_list = []\n",
    "f1_score_list = []\n",
    "recall_list = []"
   ]
  },
  {
   "cell_type": "code",
   "execution_count": 13,
   "id": "c6e2c5b6",
   "metadata": {},
   "outputs": [
    {
     "name": "stdout",
     "output_type": "stream",
     "text": [
      "For SVC :\n",
      "\t accuracy:  0.9264990328820116\n",
      "\t precision:  0.933852140077821\n",
      "\t recall:  0.9195402298850575\n",
      "\t f1_score:  0.9266409266409267\n",
      "For KNN :\n",
      "\t accuracy:  0.6634429400386848\n",
      "\t precision:  1.0\n",
      "\t recall:  0.3333333333333333\n",
      "\t f1_score:  0.5\n",
      "For BNB :\n",
      "\t accuracy:  0.9477756286266924\n",
      "\t precision:  0.9915966386554622\n",
      "\t recall:  0.9042145593869731\n",
      "\t f1_score:  0.9458917835671342\n",
      "For DTC :\n",
      "\t accuracy:  0.8994197292069632\n",
      "\t precision:  0.9409282700421941\n",
      "\t recall:  0.8544061302681992\n",
      "\t f1_score:  0.8955823293172691\n",
      "For LR :\n",
      "\t accuracy:  0.941972920696325\n",
      "\t precision:  0.9753086419753086\n",
      "\t recall:  0.9080459770114943\n",
      "\t f1_score:  0.9404761904761905\n",
      "For RFC :\n",
      "\t accuracy:  0.9264990328820116\n",
      "\t precision:  0.9744680851063829\n",
      "\t recall:  0.8773946360153256\n",
      "\t f1_score:  0.9233870967741935\n",
      "For AdaBoost :\n",
      "\t accuracy:  0.8916827852998066\n",
      "\t precision:  0.9555555555555556\n",
      "\t recall:  0.8237547892720306\n",
      "\t f1_score:  0.8847736625514403\n",
      "For BgC :\n",
      "\t accuracy:  0.90715667311412\n",
      "\t precision:  0.961038961038961\n",
      "\t recall:  0.8505747126436781\n",
      "\t f1_score:  0.9024390243902438\n",
      "For ETC :\n",
      "\t accuracy:  0.9226305609284333\n",
      "\t precision:  0.9585062240663901\n",
      "\t recall:  0.8850574712643678\n",
      "\t f1_score:  0.9203187250996016\n",
      "For GDBT :\n",
      "\t accuracy:  0.8839458413926499\n",
      "\t precision:  0.9388646288209607\n",
      "\t recall:  0.8237547892720306\n",
      "\t f1_score:  0.8775510204081632\n",
      "For XGB :\n",
      "\t accuracy:  0.9110251450676983\n",
      "\t precision:  0.9497907949790795\n",
      "\t recall:  0.8697318007662835\n",
      "\t f1_score:  0.908\n"
     ]
    }
   ],
   "source": [
    "# RUN THE TRAINING FUNCTION THEN RECORD THE SCORES THE LISTS\n",
    "for name, model in models.items():\n",
    "    accuracy, precision, recall, f1_score_ = train_model(model, X_train, y_train, X_test, y_test)\n",
    "    \n",
    "    print('For', name, \":\")\n",
    "    print('\\t accuracy: ', accuracy)\n",
    "    print('\\t precision: ', precision)\n",
    "    print('\\t recall: ', recall)\n",
    "    print('\\t f1_score: ', f1_score_)\n",
    "    \n",
    "    accuracy_list.append(accuracy)\n",
    "    precision_list.append(precision)\n",
    "    recall_list.append(recall)\n",
    "    f1_score_list.append(f1_score_)"
   ]
  },
  {
   "cell_type": "code",
   "execution_count": 14,
   "id": "49434cd9",
   "metadata": {},
   "outputs": [
    {
     "data": {
      "text/html": [
       "<div>\n",
       "<style scoped>\n",
       "    .dataframe tbody tr th:only-of-type {\n",
       "        vertical-align: middle;\n",
       "    }\n",
       "\n",
       "    .dataframe tbody tr th {\n",
       "        vertical-align: top;\n",
       "    }\n",
       "\n",
       "    .dataframe thead th {\n",
       "        text-align: right;\n",
       "    }\n",
       "</style>\n",
       "<table border=\"1\" class=\"dataframe\">\n",
       "  <thead>\n",
       "    <tr style=\"text-align: right;\">\n",
       "      <th></th>\n",
       "      <th>Algorithm</th>\n",
       "      <th>Accuracy</th>\n",
       "      <th>Precision</th>\n",
       "      <th>Recall</th>\n",
       "      <th>F1 Score</th>\n",
       "    </tr>\n",
       "  </thead>\n",
       "  <tbody>\n",
       "    <tr>\n",
       "      <th>2</th>\n",
       "      <td>BNB</td>\n",
       "      <td>0.947776</td>\n",
       "      <td>0.991597</td>\n",
       "      <td>0.904215</td>\n",
       "      <td>0.945892</td>\n",
       "    </tr>\n",
       "    <tr>\n",
       "      <th>4</th>\n",
       "      <td>LR</td>\n",
       "      <td>0.941973</td>\n",
       "      <td>0.975309</td>\n",
       "      <td>0.908046</td>\n",
       "      <td>0.940476</td>\n",
       "    </tr>\n",
       "    <tr>\n",
       "      <th>0</th>\n",
       "      <td>SVC</td>\n",
       "      <td>0.926499</td>\n",
       "      <td>0.933852</td>\n",
       "      <td>0.919540</td>\n",
       "      <td>0.926641</td>\n",
       "    </tr>\n",
       "    <tr>\n",
       "      <th>5</th>\n",
       "      <td>RFC</td>\n",
       "      <td>0.926499</td>\n",
       "      <td>0.974468</td>\n",
       "      <td>0.877395</td>\n",
       "      <td>0.923387</td>\n",
       "    </tr>\n",
       "    <tr>\n",
       "      <th>8</th>\n",
       "      <td>ETC</td>\n",
       "      <td>0.922631</td>\n",
       "      <td>0.958506</td>\n",
       "      <td>0.885057</td>\n",
       "      <td>0.920319</td>\n",
       "    </tr>\n",
       "    <tr>\n",
       "      <th>10</th>\n",
       "      <td>XGB</td>\n",
       "      <td>0.911025</td>\n",
       "      <td>0.949791</td>\n",
       "      <td>0.869732</td>\n",
       "      <td>0.908000</td>\n",
       "    </tr>\n",
       "    <tr>\n",
       "      <th>7</th>\n",
       "      <td>BgC</td>\n",
       "      <td>0.907157</td>\n",
       "      <td>0.961039</td>\n",
       "      <td>0.850575</td>\n",
       "      <td>0.902439</td>\n",
       "    </tr>\n",
       "    <tr>\n",
       "      <th>3</th>\n",
       "      <td>DTC</td>\n",
       "      <td>0.899420</td>\n",
       "      <td>0.940928</td>\n",
       "      <td>0.854406</td>\n",
       "      <td>0.895582</td>\n",
       "    </tr>\n",
       "    <tr>\n",
       "      <th>6</th>\n",
       "      <td>AdaBoost</td>\n",
       "      <td>0.891683</td>\n",
       "      <td>0.955556</td>\n",
       "      <td>0.823755</td>\n",
       "      <td>0.884774</td>\n",
       "    </tr>\n",
       "    <tr>\n",
       "      <th>9</th>\n",
       "      <td>GDBT</td>\n",
       "      <td>0.883946</td>\n",
       "      <td>0.938865</td>\n",
       "      <td>0.823755</td>\n",
       "      <td>0.877551</td>\n",
       "    </tr>\n",
       "    <tr>\n",
       "      <th>1</th>\n",
       "      <td>KNN</td>\n",
       "      <td>0.663443</td>\n",
       "      <td>1.000000</td>\n",
       "      <td>0.333333</td>\n",
       "      <td>0.500000</td>\n",
       "    </tr>\n",
       "  </tbody>\n",
       "</table>\n",
       "</div>"
      ],
      "text/plain": [
       "   Algorithm  Accuracy  Precision    Recall  F1 Score\n",
       "2        BNB  0.947776   0.991597  0.904215  0.945892\n",
       "4         LR  0.941973   0.975309  0.908046  0.940476\n",
       "0        SVC  0.926499   0.933852  0.919540  0.926641\n",
       "5        RFC  0.926499   0.974468  0.877395  0.923387\n",
       "8        ETC  0.922631   0.958506  0.885057  0.920319\n",
       "10       XGB  0.911025   0.949791  0.869732  0.908000\n",
       "7        BgC  0.907157   0.961039  0.850575  0.902439\n",
       "3        DTC  0.899420   0.940928  0.854406  0.895582\n",
       "6   AdaBoost  0.891683   0.955556  0.823755  0.884774\n",
       "9       GDBT  0.883946   0.938865  0.823755  0.877551\n",
       "1        KNN  0.663443   1.000000  0.333333  0.500000"
      ]
     },
     "execution_count": 14,
     "metadata": {},
     "output_type": "execute_result"
    }
   ],
   "source": [
    "#CREATE A DATAFRAME TO FOR GRAPHICAL VISUALIZATION\n",
    "model_performance = pd.DataFrame({'Algorithm' : models.keys(), \n",
    "                                  'Accuracy' : accuracy_list, \n",
    "                                  'Precision' : precision_list,\n",
    "                                  'Recall' : recall_list,\n",
    "                                  'F1 Score' : f1_score_list})\n",
    "model_performance.sort_values('Accuracy', ascending=False)"
   ]
  },
  {
   "cell_type": "markdown",
   "id": "7fd5ce00",
   "metadata": {},
   "source": [
    "<h1 style=\"font-family: 'Georgia'; font-size: 24px; color: #008000;\">Visualizing Hold out Performances</h1>"
   ]
  },
  {
   "cell_type": "code",
   "execution_count": 15,
   "id": "54bece76",
   "metadata": {
    "scrolled": false
   },
   "outputs": [
    {
     "data": {
      "image/png": "[encoded data removed]",
      "text/plain": [
       "<Figure size 1363.5x500 with 1 Axes>"
      ]
     },
     "metadata": {},
     "output_type": "display_data"
    }
   ],
   "source": [
    "#TO VISUALIZE performance_df1\n",
    "performance_df1 = pd.melt(model_performance, id_vars=\"Algorithm\")\n",
    "\n",
    "sns.catplot(x='Algorithm', \n",
    "            y='value', \n",
    "            hue='variable', \n",
    "            data=performance_df1, \n",
    "            kind='bar', \n",
    "            height=5, \n",
    "            aspect=2.5)  # Adjust the aspect value for width\n",
    "plt.ylim(0.5, 1.0)\n",
    "plt.xticks(rotation=30)\n",
    "plt.show()\n"
   ]
  },
  {
   "cell_type": "markdown",
   "id": "4f5593c3",
   "metadata": {},
   "source": [
    "<h1 style=\"font-family: 'Georgia'; font-size: 24px; color: #008000;\">Training (Cross Validation)</h1>"
   ]
  },
  {
   "cell_type": "code",
   "execution_count": 16,
   "id": "2f5bebd5",
   "metadata": {},
   "outputs": [],
   "source": [
    "import numpy as np\n",
    "from sklearn.model_selection import cross_validate, StratifiedKFold\n",
    "from sklearn.metrics import accuracy_score, precision_score, recall_score, f1_score"
   ]
  },
  {
   "cell_type": "code",
   "execution_count": 17,
   "id": "068939aa",
   "metadata": {},
   "outputs": [],
   "source": [
    "# STORE METRICS\n",
    "accuracy_list_cv = []\n",
    "precision_list_cv = []\n",
    "recall_list_cv = []\n",
    "f1_list_cv = []"
   ]
  },
  {
   "cell_type": "code",
   "execution_count": 18,
   "id": "04fe342c",
   "metadata": {},
   "outputs": [],
   "source": [
    "# KFOLDS CONFIGURATION\n",
    "num_folds = 5\n",
    "\n",
    "cv = StratifiedKFold(n_splits=num_folds, shuffle=True, random_state=0)"
   ]
  },
  {
   "cell_type": "code",
   "execution_count": 19,
   "id": "44063c72",
   "metadata": {},
   "outputs": [],
   "source": [
    "# DEFINE EVALUATION METRICS\n",
    "scoring = ['accuracy', 'precision', 'recall', 'f1']"
   ]
  },
  {
   "cell_type": "code",
   "execution_count": 20,
   "id": "c8b8f3a8",
   "metadata": {},
   "outputs": [
    {
     "name": "stdout",
     "output_type": "stream",
     "text": [
      "For SVC:\n",
      "\t Mean Accuracy: 0.9384170752552741\n",
      "\t Mean Precision: 0.9450984336371955\n",
      "\t Mean Recall: 0.9311005357516985\n",
      "\t Mean F1 Score: 0.9380006925846702\n",
      "For KNN:\n",
      "\t Mean Accuracy: 0.6777652827133283\n",
      "\t Mean Precision: 0.9975609756097562\n",
      "\t Mean Recall: 0.3567956660979917\n",
      "\t Mean F1 Score: 0.5252573930989032\n",
      "For BNB:\n",
      "\t Mean Accuracy: 0.9477134032057337\n",
      "\t Mean Precision: 0.9932472602489198\n",
      "\t Mean Recall: 0.9016940528568436\n",
      "\t Mean F1 Score: 0.9451529934112652\n",
      "For DTC:\n",
      "\t Mean Accuracy: 0.9128559219108452\n",
      "\t Mean Precision: 0.9245511597190846\n",
      "\t Mean Recall: 0.8993564993564993\n",
      "\t Mean F1 Score: 0.9116718432317924\n",
      "For LR:\n",
      "\t Mean Accuracy: 0.9531322627562113\n",
      "\t Mean Precision: 0.986790584906954\n",
      "\t Mean Recall: 0.9187094070815001\n",
      "\t Mean F1 Score: 0.9514297043261196\n",
      "For RFC:\n",
      "\t Mean Accuracy: 0.9473258063065089\n",
      "\t Mean Precision: 0.9785727980737953\n",
      "\t Mean Recall: 0.9148484032204962\n",
      "\t Mean F1 Score: 0.9455227478713584\n",
      "For AdaBoost:\n",
      "\t Mean Accuracy: 0.9097656425711843\n",
      "\t Mean Precision: 0.9474745830124934\n",
      "\t Mean Recall: 0.8676543653287838\n",
      "\t Mean F1 Score: 0.9056760326479761\n",
      "For BgC:\n",
      "\t Mean Accuracy: 0.9151845021216619\n",
      "\t Mean Precision: 0.9274021065237029\n",
      "\t Mean Recall: 0.9016820807518482\n",
      "\t Mean F1 Score: 0.9141490696732714\n",
      "For ETC:\n",
      "\t Mean Accuracy: 0.9473243068987749\n",
      "\t Mean Precision: 0.9693008234423488\n",
      "\t Mean Recall: 0.9241237915656519\n",
      "\t Mean F1 Score: 0.9460288351545032\n",
      "For GDBT:\n",
      "\t Mean Accuracy: 0.8961997510983162\n",
      "\t Mean Precision: 0.9453912274490323\n",
      "\t Mean Recall: 0.841318727365239\n",
      "\t Mean F1 Score: 0.8899560038673211\n",
      "For XGB:\n",
      "\t Mean Accuracy: 0.9329967162970627\n",
      "\t Mean Precision: 0.961291510673734\n",
      "\t Mean Recall: 0.9024662536290442\n",
      "\t Mean F1 Score: 0.9308925574490488\n"
     ]
    }
   ],
   "source": [
    "# Loop through each model and perform cross-validation\n",
    "for name, model in models.items():\n",
    "    scores = cross_validate(estimator=model, X=X, y=y, cv=cv, scoring=scoring)\n",
    "    \n",
    "    mean_accuracy = np.mean(scores['test_accuracy'])\n",
    "    mean_precision = np.mean(scores['test_precision'])\n",
    "    mean_recall = np.mean(scores['test_recall'])\n",
    "    mean_f1 = np.mean(scores['test_f1'])\n",
    "    \n",
    "    accuracy_list_cv.append(mean_accuracy)\n",
    "    precision_list_cv.append(mean_precision)\n",
    "    recall_list_cv.append(mean_recall)\n",
    "    f1_list_cv.append(mean_f1)\n",
    "\n",
    "    print(f'For {name}:')\n",
    "    print(f'\\t Mean Accuracy: {mean_accuracy}')\n",
    "    print(f'\\t Mean Precision: {mean_precision}')\n",
    "    print(f'\\t Mean Recall: {mean_recall}')\n",
    "    print(f'\\t Mean F1 Score: {mean_f1}')\n"
   ]
  },
  {
   "cell_type": "code",
   "execution_count": 22,
   "id": "4dac3927",
   "metadata": {},
   "outputs": [
    {
     "data": {
      "text/html": [
       "<div>\n",
       "<style scoped>\n",
       "    .dataframe tbody tr th:only-of-type {\n",
       "        vertical-align: middle;\n",
       "    }\n",
       "\n",
       "    .dataframe tbody tr th {\n",
       "        vertical-align: top;\n",
       "    }\n",
       "\n",
       "    .dataframe thead th {\n",
       "        text-align: right;\n",
       "    }\n",
       "</style>\n",
       "<table border=\"1\" class=\"dataframe\">\n",
       "  <thead>\n",
       "    <tr style=\"text-align: right;\">\n",
       "      <th></th>\n",
       "      <th>Algorithm</th>\n",
       "      <th>Accuracy</th>\n",
       "      <th>Precision</th>\n",
       "      <th>Recall</th>\n",
       "      <th>F1 Score</th>\n",
       "    </tr>\n",
       "  </thead>\n",
       "  <tbody>\n",
       "    <tr>\n",
       "      <th>4</th>\n",
       "      <td>LR</td>\n",
       "      <td>0.953132</td>\n",
       "      <td>0.986791</td>\n",
       "      <td>0.918709</td>\n",
       "      <td>0.951430</td>\n",
       "    </tr>\n",
       "    <tr>\n",
       "      <th>2</th>\n",
       "      <td>BNB</td>\n",
       "      <td>0.947713</td>\n",
       "      <td>0.993247</td>\n",
       "      <td>0.901694</td>\n",
       "      <td>0.945153</td>\n",
       "    </tr>\n",
       "    <tr>\n",
       "      <th>5</th>\n",
       "      <td>RFC</td>\n",
       "      <td>0.947326</td>\n",
       "      <td>0.978573</td>\n",
       "      <td>0.914848</td>\n",
       "      <td>0.945523</td>\n",
       "    </tr>\n",
       "    <tr>\n",
       "      <th>8</th>\n",
       "      <td>ETC</td>\n",
       "      <td>0.947324</td>\n",
       "      <td>0.969301</td>\n",
       "      <td>0.924124</td>\n",
       "      <td>0.946029</td>\n",
       "    </tr>\n",
       "    <tr>\n",
       "      <th>0</th>\n",
       "      <td>SVC</td>\n",
       "      <td>0.938417</td>\n",
       "      <td>0.945098</td>\n",
       "      <td>0.931101</td>\n",
       "      <td>0.938001</td>\n",
       "    </tr>\n",
       "    <tr>\n",
       "      <th>10</th>\n",
       "      <td>XGB</td>\n",
       "      <td>0.932997</td>\n",
       "      <td>0.961292</td>\n",
       "      <td>0.902466</td>\n",
       "      <td>0.930893</td>\n",
       "    </tr>\n",
       "    <tr>\n",
       "      <th>7</th>\n",
       "      <td>BgC</td>\n",
       "      <td>0.915185</td>\n",
       "      <td>0.927402</td>\n",
       "      <td>0.901682</td>\n",
       "      <td>0.914149</td>\n",
       "    </tr>\n",
       "    <tr>\n",
       "      <th>3</th>\n",
       "      <td>DTC</td>\n",
       "      <td>0.912856</td>\n",
       "      <td>0.924551</td>\n",
       "      <td>0.899356</td>\n",
       "      <td>0.911672</td>\n",
       "    </tr>\n",
       "    <tr>\n",
       "      <th>6</th>\n",
       "      <td>AdaBoost</td>\n",
       "      <td>0.909766</td>\n",
       "      <td>0.947475</td>\n",
       "      <td>0.867654</td>\n",
       "      <td>0.905676</td>\n",
       "    </tr>\n",
       "    <tr>\n",
       "      <th>9</th>\n",
       "      <td>GDBT</td>\n",
       "      <td>0.896200</td>\n",
       "      <td>0.945391</td>\n",
       "      <td>0.841319</td>\n",
       "      <td>0.889956</td>\n",
       "    </tr>\n",
       "    <tr>\n",
       "      <th>1</th>\n",
       "      <td>KNN</td>\n",
       "      <td>0.677765</td>\n",
       "      <td>0.997561</td>\n",
       "      <td>0.356796</td>\n",
       "      <td>0.525257</td>\n",
       "    </tr>\n",
       "  </tbody>\n",
       "</table>\n",
       "</div>"
      ],
      "text/plain": [
       "   Algorithm  Accuracy  Precision    Recall  F1 Score\n",
       "4         LR  0.953132   0.986791  0.918709  0.951430\n",
       "2        BNB  0.947713   0.993247  0.901694  0.945153\n",
       "5        RFC  0.947326   0.978573  0.914848  0.945523\n",
       "8        ETC  0.947324   0.969301  0.924124  0.946029\n",
       "0        SVC  0.938417   0.945098  0.931101  0.938001\n",
       "10       XGB  0.932997   0.961292  0.902466  0.930893\n",
       "7        BgC  0.915185   0.927402  0.901682  0.914149\n",
       "3        DTC  0.912856   0.924551  0.899356  0.911672\n",
       "6   AdaBoost  0.909766   0.947475  0.867654  0.905676\n",
       "9       GDBT  0.896200   0.945391  0.841319  0.889956\n",
       "1        KNN  0.677765   0.997561  0.356796  0.525257"
      ]
     },
     "execution_count": 22,
     "metadata": {},
     "output_type": "execute_result"
    }
   ],
   "source": [
    "#CREATE A DATAFRAME TO FOR GRAPHICAL VISUALIZATION\n",
    "model_performance_cv = pd.DataFrame({'Algorithm' : models.keys(), \n",
    "                                  'Accuracy' : accuracy_list_cv, \n",
    "                                  'Precision' : precision_list_cv,\n",
    "                                  'Recall' : recall_list_cv,\n",
    "                                  'F1 Score' : f1_list_cv})\n",
    "model_performance_cv.sort_values('Accuracy', ascending=False)"
   ]
  },
  {
   "cell_type": "markdown",
   "id": "454ceb69",
   "metadata": {},
   "source": [
    "<h1 style=\"font-family: 'Georgia'; font-size: 24px; color: #008000;\">Visualizing Cross Validation Performances</h1>"
   ]
  },
  {
   "cell_type": "code",
   "execution_count": 23,
   "id": "d7cfdc46",
   "metadata": {},
   "outputs": [
    {
     "data": {
      "image/png": "[encoded data removed]",
      "text/plain": [
       "<Figure size 1363.5x500 with 1 Axes>"
      ]
     },
     "metadata": {},
     "output_type": "display_data"
    }
   ],
   "source": [
    "#TO VISUALIZE performance_df1\n",
    "performance_df_cv = pd.melt(model_performance_cv, id_vars=\"Algorithm\")\n",
    "\n",
    "sns.catplot(x='Algorithm', \n",
    "            y='value', \n",
    "            hue='variable', \n",
    "            data=performance_df_cv, \n",
    "            kind='bar', \n",
    "            height=5, \n",
    "            aspect=2.5)  # Adjust the aspect value for width\n",
    "plt.ylim(0.5, 1.0)\n",
    "plt.xticks(rotation=30)\n",
    "plt.show()"
   ]
  },
  {
   "cell_type": "markdown",
   "id": "707e905d",
   "metadata": {},
   "source": [
    "<h1 style=\"font-family: 'Georgia'; font-size: 24px; color: #008000;\">Deciding the Best Model</h1>"
   ]
  },
  {
   "cell_type": "markdown",
   "id": "712dd464",
   "metadata": {},
   "source": [
    "<p style=\"font-family: 'Georgia'; font-size: 16px; font-weight: 800; color: #800040;\">\n",
    "    We will not consider hold out validation results because it's bias. We just want to compare it with cross-validated results that's why it is included in the notebook. Another thing is we will select the best model based on the average of accuracy and precision because the goal of this machine learning project is to build a model with a high level of correctness in predicting both classes.\n",
    "</p>\n",
    "\n",
    "<ul>\n",
    "    <li style=\"font-family: 'Georgia'; font-size: 14px; font-weight: 400; color: #800040;\">Accuracy: Evaluating accuracy ensures that your model correctly predicts both classes, which aligns with your goal of high correctness.</li>\n",
    "    <li style=\"font-family: 'Georgia'; font-size: 14px; font-weight: 400; color: #800040;\"> Precision: Precision focuses on the correctness of positive predictions. By considering precision, you are emphasizing the importance of correctly identifying instances of the positive class. This can be particularly relevant when false positives are costly.</li>\n",
    "</ul>\n"
   ]
  },
  {
   "cell_type": "code",
   "execution_count": 24,
   "id": "ad81fbd9",
   "metadata": {},
   "outputs": [],
   "source": [
    "accuracy_list_cv\n",
    "precision_list_cv\n",
    "\n",
    "def average(i):\n",
    "    return (accuracy_list_cv[i] + precision_list_cv[i])/2\n",
    "\n",
    "def list_average():\n",
    "    averages= []\n",
    "    for i in range (len(accuracy_list_cv)):\n",
    "        avg = average(i)\n",
    "        averages.append([avg, i])\n",
    "    return averages"
   ]
  },
  {
   "cell_type": "code",
   "execution_count": 25,
   "id": "98e42ffd",
   "metadata": {},
   "outputs": [
    {
     "data": {
      "text/plain": [
       "[[0.9704803317273267, 2],\n",
       " [0.9699614238315827, 4],\n",
       " [0.9629493021901521, 5],\n",
       " [0.9583125651705618, 8],\n",
       " [0.9471441134853984, 10],\n",
       " [0.9417577544462348, 0],\n",
       " [0.9286201127918389, 6],\n",
       " [0.9212933043226824, 7],\n",
       " [0.9207954892736743, 9],\n",
       " [0.9187035408149649, 3],\n",
       " [0.8376631291615422, 1]]"
      ]
     },
     "execution_count": 25,
     "metadata": {},
     "output_type": "execute_result"
    }
   ],
   "source": [
    "averages = list_average()\n",
    "sorted(averages, reverse=True)"
   ]
  },
  {
   "cell_type": "markdown",
   "id": "9c320e56",
   "metadata": {},
   "source": [
    "<p style=\"font-family: 'Georgia'; font-size: 14px; font-weight: 800; color: #800040;\">With mean accuracy of 94.77% and mean precision of 99.32%, the element at index position 3 of the accuracy_list_cv corresponds to the best-performing model, which is the Bernoulli Naive Bayes Algorithm (BNB).<p>"
   ]
  },
  {
   "cell_type": "code",
   "execution_count": null,
   "id": "4556f1bd",
   "metadata": {},
   "outputs": [],
   "source": []
  },
  {
   "cell_type": "code",
   "execution_count": null,
   "id": "dd5fd833",
   "metadata": {},
   "outputs": [],
   "source": []
  },
  {
   "cell_type": "code",
   "execution_count": null,
   "id": "cb1de9db",
   "metadata": {},
   "outputs": [],
   "source": []
  },
  {
   "cell_type": "code",
   "execution_count": null,
   "id": "d1554a6c",
   "metadata": {},
   "outputs": [],
   "source": []
  },
  {
   "cell_type": "code",
   "execution_count": null,
   "id": "f6033a17",
   "metadata": {},
   "outputs": [],
   "source": []
  },
  {
   "cell_type": "code",
   "execution_count": null,
   "id": "284afce0",
   "metadata": {},
   "outputs": [],
   "source": []
  },
  {
   "cell_type": "code",
   "execution_count": null,
   "id": "5e408596",
   "metadata": {},
   "outputs": [],
   "source": []
  },
  {
   "cell_type": "code",
   "execution_count": null,
   "id": "0bf8f90e",
   "metadata": {},
   "outputs": [],
   "source": []
  },
  {
   "cell_type": "code",
   "execution_count": null,
   "id": "31ee6fee",
   "metadata": {},
   "outputs": [],
   "source": []
  }
 ],
 "metadata": {
  "kernelspec": {
   "display_name": "Python 3 (ipykernel)",
   "language": "python",
   "name": "python3"
  },
  "language_info": {
   "codemirror_mode": {
    "name": "ipython",
    "version": 3
   },
   "file_extension": ".py",
   "mimetype": "text/x-python",
   "name": "python",
   "nbconvert_exporter": "python",
   "pygments_lexer": "ipython3",
   "version": "3.9.16"
  }
 },
 "nbformat": 4,
 "nbformat_minor": 5
}
