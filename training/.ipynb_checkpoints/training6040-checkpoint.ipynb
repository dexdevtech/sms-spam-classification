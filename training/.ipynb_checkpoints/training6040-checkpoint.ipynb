{
 "cells": [
  {
   "cell_type": "markdown",
   "id": "9faa599d",
   "metadata": {},
   "source": [
    "<center><h1 style=\"font-family: 'Georgia'; color: #f2f2f2; background-color:#800040; padding: 20px;\"> Model Training: Text Message Spam Detection\n",
    "    </h1></center>"
   ]
  },
  {
   "cell_type": "markdown",
   "id": "1e5c330c",
   "metadata": {},
   "source": [
    "<p style=\"font-family: 'Georgia'; font-size: 16px; font-weight: 800; color: #800040;\">\n",
    "This is the model training notebook for the 60-40 dataset using default parameters.\n",
    "</p>"
   ]
  },
  {
   "cell_type": "markdown",
   "id": "f9c2a92c",
   "metadata": {},
   "source": [
    "<h1 style=\"font-family: 'Georgia'; font-size: 24px; color: #008000;\">Import Libraries and Load Dataset</h1>"
   ]
  },
  {
   "cell_type": "code",
   "execution_count": 2,
   "id": "9c7f1172",
   "metadata": {},
   "outputs": [],
   "source": [
    "#IMPORT LIBRARIES\n",
    "import numpy as np\n",
    "import pandas as pd\n",
    "import seaborn as sns\n",
    "import matplotlib.pyplot as plt\n",
    "\n",
    "from sklearn.model_selection import StratifiedKFold\n",
    "from sklearn.model_selection import cross_val_score\n",
    "from sklearn.metrics import accuracy_score, precision_score, f1_score, recall_score"
   ]
  },
  {
   "cell_type": "code",
   "execution_count": 3,
   "id": "f24d4615",
   "metadata": {
    "scrolled": true
   },
   "outputs": [
    {
     "data": {
      "text/html": [
       "<div>\n",
       "<style scoped>\n",
       "    .dataframe tbody tr th:only-of-type {\n",
       "        vertical-align: middle;\n",
       "    }\n",
       "\n",
       "    .dataframe tbody tr th {\n",
       "        vertical-align: top;\n",
       "    }\n",
       "\n",
       "    .dataframe thead th {\n",
       "        text-align: right;\n",
       "    }\n",
       "</style>\n",
       "<table border=\"1\" class=\"dataframe\">\n",
       "  <thead>\n",
       "    <tr style=\"text-align: right;\">\n",
       "      <th></th>\n",
       "      <th>tag</th>\n",
       "      <th>message_transformed</th>\n",
       "    </tr>\n",
       "  </thead>\n",
       "  <tbody>\n",
       "    <tr>\n",
       "      <th>0</th>\n",
       "      <td>0</td>\n",
       "      <td>eaten day sit stare juici pizza ca eat med rui...</td>\n",
       "    </tr>\n",
       "    <tr>\n",
       "      <th>1</th>\n",
       "      <td>0</td>\n",
       "      <td>10 min later k</td>\n",
       "    </tr>\n",
       "    <tr>\n",
       "      <th>2</th>\n",
       "      <td>0</td>\n",
       "      <td>heehe funni tho</td>\n",
       "    </tr>\n",
       "    <tr>\n",
       "      <th>3</th>\n",
       "      <td>0</td>\n",
       "      <td>think need go late school night especi one cla...</td>\n",
       "    </tr>\n",
       "    <tr>\n",
       "      <th>4</th>\n",
       "      <td>0</td>\n",
       "      <td>tri neva mate</td>\n",
       "    </tr>\n",
       "    <tr>\n",
       "      <th>5</th>\n",
       "      <td>0</td>\n",
       "      <td>infact happi new year see</td>\n",
       "    </tr>\n",
       "    <tr>\n",
       "      <th>6</th>\n",
       "      <td>0</td>\n",
       "      <td>havent</td>\n",
       "    </tr>\n",
       "    <tr>\n",
       "      <th>7</th>\n",
       "      <td>0</td>\n",
       "      <td>ya go restaur</td>\n",
       "    </tr>\n",
       "    <tr>\n",
       "      <th>8</th>\n",
       "      <td>0</td>\n",
       "      <td>deep sigh miss realli surpris gone net cafe ye...</td>\n",
       "    </tr>\n",
       "    <tr>\n",
       "      <th>9</th>\n",
       "      <td>0</td>\n",
       "      <td>made day great day</td>\n",
       "    </tr>\n",
       "  </tbody>\n",
       "</table>\n",
       "</div>"
      ],
      "text/plain": [
       "   tag                                message_transformed\n",
       "0    0  eaten day sit stare juici pizza ca eat med rui...\n",
       "1    0                                     10 min later k\n",
       "2    0                                    heehe funni tho\n",
       "3    0  think need go late school night especi one cla...\n",
       "4    0                                      tri neva mate\n",
       "5    0                          infact happi new year see\n",
       "6    0                                             havent\n",
       "7    0                                      ya go restaur\n",
       "8    0  deep sigh miss realli surpris gone net cafe ye...\n",
       "9    0                                 made day great day"
      ]
     },
     "execution_count": 3,
     "metadata": {},
     "output_type": "execute_result"
    }
   ],
   "source": [
    "#LOAD THE DATASET\n",
    "df = pd.read_csv('../datasets/training_datasets/training_data6040.csv') \n",
    "df.head(10)"
   ]
  },
  {
   "cell_type": "code",
   "execution_count": 4,
   "id": "a7f3e12e",
   "metadata": {},
   "outputs": [
    {
     "data": {
      "text/plain": [
       "Index(['tag', 'message'], dtype='object')"
      ]
     },
     "execution_count": 4,
     "metadata": {},
     "output_type": "execute_result"
    }
   ],
   "source": [
    "# RENAME TO PROPER COLUMN NAMES\n",
    "df.rename(columns = {'tag' : 'tag',\n",
    "                      'message_transformed' : 'message'}, \n",
    "          inplace=True)\n",
    "df.columns"
   ]
  },
  {
   "cell_type": "code",
   "execution_count": 5,
   "id": "ab2f95e5",
   "metadata": {},
   "outputs": [
    {
     "data": {
      "text/plain": [
       "tag        0\n",
       "message    0\n",
       "dtype: int64"
      ]
     },
     "execution_count": 5,
     "metadata": {},
     "output_type": "execute_result"
    }
   ],
   "source": [
    "# IT SEEMS LIKE WE HAVE NULL VALUES FROM SAVING THE DATASET, WE NEED TO DELETE THESE NULL VALUES FIRST\n",
    "df.dropna(inplace=True)\n",
    "df.isnull().sum()"
   ]
  },
  {
   "cell_type": "markdown",
   "id": "88c1ce43",
   "metadata": {},
   "source": [
    "<h1 style=\"font-family: 'Georgia'; font-size: 24px; color: #008000;\">Vectorizer Selection</h1>"
   ]
  },
  {
   "cell_type": "markdown",
   "id": "b907df77",
   "metadata": {},
   "source": [
    "<p style=\"font-family: 'Georgia'; font-size: 16px; font-weight: 800; color: #800040;\">\n",
    "    We will be using count vectorizer.\n",
    "</p>\n",
    "\n",
    "<p style=\"font-family: 'Georgia'; font-size: 14px; font-weight: 400; color: #800040;\">\n",
    "    Count Vectorizer is a text preprocessing technique used in natural language processing (NLP) to convert a collection of text documents into a numerical format. It works by tokenizing the text into words or n-grams and then counting the frequency of each token in each document, resulting in a matrix where rows represent documents, columns represent unique tokens, and each cell contains the count of a token in a document.\n",
    "</p>\n"
   ]
  },
  {
   "cell_type": "code",
   "execution_count": 6,
   "id": "ff186b55",
   "metadata": {},
   "outputs": [],
   "source": [
    "#Vectorizers will transform textual data to an array of numerical data\n",
    "from sklearn.feature_extraction.text import CountVectorizer\n",
    "cv = CountVectorizer()\n",
    "\n",
    "X = cv.fit_transform(df['message']).toarray() # array of numeric values\n",
    "y = df['tag'].values                       # numeric values"
   ]
  },
  {
   "cell_type": "markdown",
   "id": "32686f84",
   "metadata": {},
   "source": [
    "<h1 style=\"font-family: 'Georgia'; font-size: 24px; color: #008000;\">Split the Dataset</h1>"
   ]
  },
  {
   "cell_type": "code",
   "execution_count": 7,
   "id": "18114de1",
   "metadata": {},
   "outputs": [],
   "source": [
    "# SPLIT THE DATASET\n",
    "from sklearn.model_selection import train_test_split as tts\n",
    "X_train, X_test, y_train, y_test = tts(X, y, train_size=0.8, random_state=0)"
   ]
  },
  {
   "cell_type": "markdown",
   "id": "5e502aed",
   "metadata": {},
   "source": [
    "<h1 style=\"font-family: 'Georgia'; font-size: 24px; color: #008000;\">Loading the Models</h1>"
   ]
  },
  {
   "cell_type": "code",
   "execution_count": 8,
   "id": "b70bf76e",
   "metadata": {},
   "outputs": [
    {
     "name": "stdout",
     "output_type": "stream",
     "text": [
      "Requirement already satisfied: xgboost in c:\\users\\dexter\\anaconda3\\lib\\site-packages (1.7.4)\n",
      "Requirement already satisfied: scipy in c:\\users\\dexter\\anaconda3\\lib\\site-packages (from xgboost) (1.10.1)\n",
      "Requirement already satisfied: numpy in c:\\users\\dexter\\anaconda3\\lib\\site-packages (from xgboost) (1.24.3)\n"
     ]
    }
   ],
   "source": [
    "#INSTALL XGBOOST\n",
    "!pip install xgboost\n",
    "\n",
    "#IMPORT THE CLASSIFICATION ALGORITHMS\n",
    "from sklearn.linear_model import LogisticRegression\n",
    "from sklearn.svm import SVC\n",
    "from sklearn.naive_bayes import BernoulliNB\n",
    "from sklearn.tree import DecisionTreeClassifier\n",
    "from sklearn.neighbors import KNeighborsClassifier\n",
    "from sklearn.ensemble import RandomForestClassifier\n",
    "from sklearn.ensemble import AdaBoostClassifier\n",
    "from sklearn.ensemble import BaggingClassifier\n",
    "from sklearn.ensemble import ExtraTreesClassifier\n",
    "from sklearn.ensemble import GradientBoostingClassifier\n",
    "from xgboost import XGBClassifier"
   ]
  },
  {
   "cell_type": "code",
   "execution_count": 9,
   "id": "cc25ac36",
   "metadata": {},
   "outputs": [],
   "source": [
    "# CREATE THE OBJECTS\n",
    "svc = SVC(random_state=0)\n",
    "knc = KNeighborsClassifier(n_neighbors=5)\n",
    "bnb = BernoulliNB()\n",
    "dtc = DecisionTreeClassifier(random_state=0)\n",
    "lrc = LogisticRegression(random_state=0)\n",
    "rfc = RandomForestClassifier(random_state=0)\n",
    "abc = AdaBoostClassifier(random_state=0)\n",
    "bc = BaggingClassifier(random_state=0)\n",
    "etc = ExtraTreesClassifier(random_state=0)\n",
    "gdbt = GradientBoostingClassifier(random_state=0)\n",
    "xgb = XGBClassifier(random_state=0)"
   ]
  },
  {
   "cell_type": "code",
   "execution_count": 10,
   "id": "2e41c461",
   "metadata": {},
   "outputs": [],
   "source": [
    "#CREATE A LIBRARY FOR THE CLASSIFIER OBJECTS\n",
    "models = {\n",
    "    'SVC' : svc,\n",
    "    'KNN' : knc,\n",
    "    'BNB' : bnb,\n",
    "    'DTC' : dtc,\n",
    "    'LR' : lrc,\n",
    "    'RFC' : rfc,\n",
    "    'AdaBoost' : abc,\n",
    "    'BgC' : bc,\n",
    "    'ETC' : etc,\n",
    "    'GDBT' : gdbt,\n",
    "    'XGB' : xgb\n",
    "}"
   ]
  },
  {
   "cell_type": "code",
   "execution_count": 12,
   "id": "e730b592",
   "metadata": {},
   "outputs": [],
   "source": [
    "# IMPORT METRICS TO BE USED: [accuracy, precision, recall, f1_score]\n",
    "from sklearn.metrics import accuracy_score, precision_score, recall_score, f1_score"
   ]
  },
  {
   "cell_type": "markdown",
   "id": "eec1283e",
   "metadata": {},
   "source": [
    "<h1 style=\"font-family: 'Georgia'; font-size: 24px; color: #008000;\">Training (Hold Out Validation)</h1>"
   ]
  },
  {
   "cell_type": "code",
   "execution_count": 13,
   "id": "e2632e51",
   "metadata": {},
   "outputs": [],
   "source": [
    "#CREATE A FUNCTION TO TRAIN THE MODELS WITH DEFAULT PARAMETERS\n",
    "def train_model(model, X_train, y_train, X_test, y_test):\n",
    "    # training\n",
    "    model.fit(X_train, y_train)\n",
    "    y_pred = model.predict(X_test)\n",
    "    \n",
    "    # metrics\n",
    "    accuracy = accuracy_score(y_test, y_pred)\n",
    "    precision = precision_score(y_test, y_pred)\n",
    "    recall = recall_score(y_test, y_pred)\n",
    "    f1_score_ = f1_score(y_test, y_pred)\n",
    "\n",
    "    \n",
    "    return accuracy, precision, recall, f1_score_"
   ]
  },
  {
   "cell_type": "code",
   "execution_count": 14,
   "id": "f2896471",
   "metadata": {},
   "outputs": [],
   "source": [
    "# STORING METRICS TO VISUALIZE LATER\n",
    "accuracy_list = []\n",
    "precision_list = []\n",
    "f1_score_list = []\n",
    "recall_list = []"
   ]
  },
  {
   "cell_type": "code",
   "execution_count": 15,
   "id": "c6e2c5b6",
   "metadata": {},
   "outputs": [
    {
     "name": "stdout",
     "output_type": "stream",
     "text": [
      "For SVC :\n",
      "\t accuracy:  0.9441860465116279\n",
      "\t precision:  0.9717741935483871\n",
      "\t recall:  0.8925925925925926\n",
      "\t f1_score:  0.9305019305019304\n",
      "For KNN :\n",
      "\t accuracy:  0.7162790697674418\n",
      "\t precision:  1.0\n",
      "\t recall:  0.32222222222222224\n",
      "\t f1_score:  0.4873949579831933\n",
      "For BNB :\n",
      "\t accuracy:  0.9503875968992248\n",
      "\t precision:  1.0\n",
      "\t recall:  0.8814814814814815\n",
      "\t f1_score:  0.937007874015748\n",
      "For DTC :\n",
      "\t accuracy:  0.9271317829457364\n",
      "\t precision:  0.9626556016597511\n",
      "\t recall:  0.8592592592592593\n",
      "\t f1_score:  0.9080234833659491\n",
      "For LR :\n",
      "\t accuracy:  0.9472868217054263\n",
      "\t precision:  1.0\n",
      "\t recall:  0.8740740740740741\n",
      "\t f1_score:  0.9328063241106719\n",
      "For RFC :\n",
      "\t accuracy:  0.9488372093023256\n",
      "\t precision:  0.979757085020243\n",
      "\t recall:  0.8962962962962963\n",
      "\t f1_score:  0.9361702127659575\n",
      "For AdaBoost :\n",
      "\t accuracy:  0.9255813953488372\n",
      "\t precision:  0.944\n",
      "\t recall:  0.8740740740740741\n",
      "\t f1_score:  0.9076923076923077\n",
      "For BgC :\n",
      "\t accuracy:  0.9302325581395349\n",
      "\t precision:  0.9629629629629629\n",
      "\t recall:  0.8666666666666667\n",
      "\t f1_score:  0.912280701754386\n",
      "For ETC :\n",
      "\t accuracy:  0.951937984496124\n",
      "\t precision:  0.9838056680161943\n",
      "\t recall:  0.9\n",
      "\t f1_score:  0.9400386847195358\n",
      "For GDBT :\n",
      "\t accuracy:  0.9100775193798449\n",
      "\t precision:  0.9862385321100917\n",
      "\t recall:  0.7962962962962963\n",
      "\t f1_score:  0.8811475409836065\n",
      "For XGB :\n",
      "\t accuracy:  0.9426356589147287\n",
      "\t precision:  0.9874476987447699\n",
      "\t recall:  0.8740740740740741\n",
      "\t f1_score:  0.9273084479371316\n"
     ]
    }
   ],
   "source": [
    "# RUN THE TRAINING FUNCTION THEN RECORD THE SCORES THE LISTS\n",
    "for name, model in models.items():\n",
    "    accuracy, precision, recall, f1_score_ = train_model(model, X_train, y_train, X_test, y_test)\n",
    "    \n",
    "    print('For', name, \":\")\n",
    "    print('\\t accuracy: ', accuracy)\n",
    "    print('\\t precision: ', precision)\n",
    "    print('\\t recall: ', recall)\n",
    "    print('\\t f1_score: ', f1_score_)\n",
    "    \n",
    "    accuracy_list.append(accuracy)\n",
    "    precision_list.append(precision)\n",
    "    recall_list.append(recall)\n",
    "    f1_score_list.append(f1_score_)"
   ]
  },
  {
   "cell_type": "code",
   "execution_count": 16,
   "id": "49434cd9",
   "metadata": {},
   "outputs": [
    {
     "data": {
      "text/html": [
       "<div>\n",
       "<style scoped>\n",
       "    .dataframe tbody tr th:only-of-type {\n",
       "        vertical-align: middle;\n",
       "    }\n",
       "\n",
       "    .dataframe tbody tr th {\n",
       "        vertical-align: top;\n",
       "    }\n",
       "\n",
       "    .dataframe thead th {\n",
       "        text-align: right;\n",
       "    }\n",
       "</style>\n",
       "<table border=\"1\" class=\"dataframe\">\n",
       "  <thead>\n",
       "    <tr style=\"text-align: right;\">\n",
       "      <th></th>\n",
       "      <th>Algorithm</th>\n",
       "      <th>Accuracy</th>\n",
       "      <th>Precision</th>\n",
       "      <th>Recall</th>\n",
       "      <th>F1 Score</th>\n",
       "    </tr>\n",
       "  </thead>\n",
       "  <tbody>\n",
       "    <tr>\n",
       "      <th>8</th>\n",
       "      <td>ETC</td>\n",
       "      <td>0.951938</td>\n",
       "      <td>0.983806</td>\n",
       "      <td>0.900000</td>\n",
       "      <td>0.940039</td>\n",
       "    </tr>\n",
       "    <tr>\n",
       "      <th>2</th>\n",
       "      <td>BNB</td>\n",
       "      <td>0.950388</td>\n",
       "      <td>1.000000</td>\n",
       "      <td>0.881481</td>\n",
       "      <td>0.937008</td>\n",
       "    </tr>\n",
       "    <tr>\n",
       "      <th>5</th>\n",
       "      <td>RFC</td>\n",
       "      <td>0.948837</td>\n",
       "      <td>0.979757</td>\n",
       "      <td>0.896296</td>\n",
       "      <td>0.936170</td>\n",
       "    </tr>\n",
       "    <tr>\n",
       "      <th>4</th>\n",
       "      <td>LR</td>\n",
       "      <td>0.947287</td>\n",
       "      <td>1.000000</td>\n",
       "      <td>0.874074</td>\n",
       "      <td>0.932806</td>\n",
       "    </tr>\n",
       "    <tr>\n",
       "      <th>0</th>\n",
       "      <td>SVC</td>\n",
       "      <td>0.944186</td>\n",
       "      <td>0.971774</td>\n",
       "      <td>0.892593</td>\n",
       "      <td>0.930502</td>\n",
       "    </tr>\n",
       "    <tr>\n",
       "      <th>10</th>\n",
       "      <td>XGB</td>\n",
       "      <td>0.942636</td>\n",
       "      <td>0.987448</td>\n",
       "      <td>0.874074</td>\n",
       "      <td>0.927308</td>\n",
       "    </tr>\n",
       "    <tr>\n",
       "      <th>7</th>\n",
       "      <td>BgC</td>\n",
       "      <td>0.930233</td>\n",
       "      <td>0.962963</td>\n",
       "      <td>0.866667</td>\n",
       "      <td>0.912281</td>\n",
       "    </tr>\n",
       "    <tr>\n",
       "      <th>3</th>\n",
       "      <td>DTC</td>\n",
       "      <td>0.927132</td>\n",
       "      <td>0.962656</td>\n",
       "      <td>0.859259</td>\n",
       "      <td>0.908023</td>\n",
       "    </tr>\n",
       "    <tr>\n",
       "      <th>6</th>\n",
       "      <td>AdaBoost</td>\n",
       "      <td>0.925581</td>\n",
       "      <td>0.944000</td>\n",
       "      <td>0.874074</td>\n",
       "      <td>0.907692</td>\n",
       "    </tr>\n",
       "    <tr>\n",
       "      <th>9</th>\n",
       "      <td>GDBT</td>\n",
       "      <td>0.910078</td>\n",
       "      <td>0.986239</td>\n",
       "      <td>0.796296</td>\n",
       "      <td>0.881148</td>\n",
       "    </tr>\n",
       "    <tr>\n",
       "      <th>1</th>\n",
       "      <td>KNN</td>\n",
       "      <td>0.716279</td>\n",
       "      <td>1.000000</td>\n",
       "      <td>0.322222</td>\n",
       "      <td>0.487395</td>\n",
       "    </tr>\n",
       "  </tbody>\n",
       "</table>\n",
       "</div>"
      ],
      "text/plain": [
       "   Algorithm  Accuracy  Precision    Recall  F1 Score\n",
       "8        ETC  0.951938   0.983806  0.900000  0.940039\n",
       "2        BNB  0.950388   1.000000  0.881481  0.937008\n",
       "5        RFC  0.948837   0.979757  0.896296  0.936170\n",
       "4         LR  0.947287   1.000000  0.874074  0.932806\n",
       "0        SVC  0.944186   0.971774  0.892593  0.930502\n",
       "10       XGB  0.942636   0.987448  0.874074  0.927308\n",
       "7        BgC  0.930233   0.962963  0.866667  0.912281\n",
       "3        DTC  0.927132   0.962656  0.859259  0.908023\n",
       "6   AdaBoost  0.925581   0.944000  0.874074  0.907692\n",
       "9       GDBT  0.910078   0.986239  0.796296  0.881148\n",
       "1        KNN  0.716279   1.000000  0.322222  0.487395"
      ]
     },
     "execution_count": 16,
     "metadata": {},
     "output_type": "execute_result"
    }
   ],
   "source": [
    "#CREATE A DATAFRAME TO FOR GRAPHICAL VISUALIZATION\n",
    "model_performance = pd.DataFrame({'Algorithm' : models.keys(), \n",
    "                                  'Accuracy' : accuracy_list, \n",
    "                                  'Precision' : precision_list,\n",
    "                                  'Recall' : recall_list,\n",
    "                                  'F1 Score' : f1_score_list})\n",
    "model_performance.sort_values('Accuracy', ascending=False)"
   ]
  },
  {
   "cell_type": "markdown",
   "id": "7fd5ce00",
   "metadata": {},
   "source": [
    "<h1 style=\"font-family: 'Georgia'; font-size: 24px; color: #008000;\">Visualizing Hold out Performances</h1>"
   ]
  },
  {
   "cell_type": "code",
   "execution_count": 17,
   "id": "54bece76",
   "metadata": {
    "scrolled": false
   },
   "outputs": [
    {
     "data": {
      "image/png": "[encoded data removed]",
      "text/plain": [
       "<Figure size 1363.5x500 with 1 Axes>"
      ]
     },
     "metadata": {},
     "output_type": "display_data"
    }
   ],
   "source": [
    "#TO VISUALIZE performance_df1\n",
    "performance_df1 = pd.melt(model_performance, id_vars=\"Algorithm\")\n",
    "\n",
    "sns.catplot(x='Algorithm', \n",
    "            y='value', \n",
    "            hue='variable', \n",
    "            data=performance_df1, \n",
    "            kind='bar', \n",
    "            height=5, \n",
    "            aspect=2.5)  # Adjust the aspect value for width\n",
    "plt.ylim(0.5, 1.0)\n",
    "plt.xticks(rotation=30)\n",
    "plt.show()\n"
   ]
  },
  {
   "cell_type": "markdown",
   "id": "4f5593c3",
   "metadata": {},
   "source": [
    "<h1 style=\"font-family: 'Georgia'; font-size: 24px; color: #008000;\">Training (Cross Validation)</h1>"
   ]
  },
  {
   "cell_type": "code",
   "execution_count": 18,
   "id": "2f5bebd5",
   "metadata": {},
   "outputs": [],
   "source": [
    "import numpy as np\n",
    "from sklearn.model_selection import cross_validate, StratifiedKFold\n",
    "from sklearn.metrics import accuracy_score, precision_score, recall_score, f1_score"
   ]
  },
  {
   "cell_type": "code",
   "execution_count": 19,
   "id": "068939aa",
   "metadata": {},
   "outputs": [],
   "source": [
    "# STORE METRICS\n",
    "accuracy_list_cv = []\n",
    "precision_list_cv = []\n",
    "recall_list_cv = []\n",
    "f1_list_cv = []"
   ]
  },
  {
   "cell_type": "code",
   "execution_count": 20,
   "id": "04fe342c",
   "metadata": {},
   "outputs": [],
   "source": [
    "# KFOLDS CONFIGURATION\n",
    "num_folds = 5\n",
    "\n",
    "cv = StratifiedKFold(n_splits=num_folds, shuffle=True, random_state=0)"
   ]
  },
  {
   "cell_type": "code",
   "execution_count": 21,
   "id": "44063c72",
   "metadata": {},
   "outputs": [],
   "source": [
    "# DEFINE EVALUATION METRICS\n",
    "scoring = ['accuracy', 'precision', 'recall', 'f1']"
   ]
  },
  {
   "cell_type": "code",
   "execution_count": 22,
   "id": "c8b8f3a8",
   "metadata": {},
   "outputs": [
    {
     "name": "stdout",
     "output_type": "stream",
     "text": [
      "For SVC:\n",
      "\t Mean Accuracy: 0.9475968992248062\n",
      "\t Mean Precision: 0.9505370535359647\n",
      "\t Mean Recall: 0.9172069079045823\n",
      "\t Mean F1 Score: 0.933480703202753\n",
      "For KNN:\n",
      "\t Mean Accuracy: 0.74015503875969\n",
      "\t Mean Precision: 0.997872340425532\n",
      "\t Mean Recall: 0.3521385172547963\n",
      "\t Mean F1 Score: 0.5194842740049296\n",
      "For BNB:\n",
      "\t Mean Accuracy: 0.9565891472868218\n",
      "\t Mean Precision: 0.9974358974358974\n",
      "\t Mean Recall: 0.8939510939510941\n",
      "\t Mean F1 Score: 0.9428095831269493\n",
      "For DTC:\n",
      "\t Mean Accuracy: 0.926201550387597\n",
      "\t Mean Precision: 0.9194862411907199\n",
      "\t Mean Recall: 0.8947143156445483\n",
      "\t Mean F1 Score: 0.9067992498937596\n",
      "For LR:\n",
      "\t Mean Accuracy: 0.9587596899224806\n",
      "\t Mean Precision: 0.9841271826821096\n",
      "\t Mean Recall: 0.9117596001316931\n",
      "\t Mean F1 Score: 0.9465473098103073\n",
      "For RFC:\n",
      "\t Mean Accuracy: 0.951937984496124\n",
      "\t Mean Precision: 0.9797416952252508\n",
      "\t Mean Recall: 0.8985932776630452\n",
      "\t Mean F1 Score: 0.9373528118046253\n",
      "For AdaBoost:\n",
      "\t Mean Accuracy: 0.9296124031007752\n",
      "\t Mean Precision: 0.9476977130453808\n",
      "\t Mean Recall: 0.8730717428391847\n",
      "\t Mean F1 Score: 0.9086361987865607\n",
      "For BgC:\n",
      "\t Mean Accuracy: 0.9277519379844961\n",
      "\t Mean Precision: 0.933292417337649\n",
      "\t Mean Recall: 0.8831313040615367\n",
      "\t Mean F1 Score: 0.9073505371994542\n",
      "For ETC:\n",
      "\t Mean Accuracy: 0.9559689922480621\n",
      "\t Mean Precision: 0.972875248595112\n",
      "\t Mean Recall: 0.9156086318877017\n",
      "\t Mean F1 Score: 0.9433048745375057\n",
      "For GDBT:\n",
      "\t Mean Accuracy: 0.915968992248062\n",
      "\t Mean Precision: 0.9716946189552885\n",
      "\t Mean Recall: 0.8142617700757236\n",
      "\t Mean F1 Score: 0.8857244564231909\n",
      "For XGB:\n",
      "\t Mean Accuracy: 0.9494573643410853\n",
      "\t Mean Precision: 0.9724225823227668\n",
      "\t Mean Recall: 0.8993744575139925\n",
      "\t Mean F1 Score: 0.9344639362460674\n"
     ]
    }
   ],
   "source": [
    "# Loop through each model and perform cross-validation\n",
    "for name, model in models.items():\n",
    "    scores = cross_validate(estimator=model, X=X, y=y, cv=cv, scoring=scoring)\n",
    "    \n",
    "    mean_accuracy = np.mean(scores['test_accuracy'])\n",
    "    mean_precision = np.mean(scores['test_precision'])\n",
    "    mean_recall = np.mean(scores['test_recall'])\n",
    "    mean_f1 = np.mean(scores['test_f1'])\n",
    "    \n",
    "    accuracy_list_cv.append(mean_accuracy)\n",
    "    precision_list_cv.append(mean_precision)\n",
    "    recall_list_cv.append(mean_recall)\n",
    "    f1_list_cv.append(mean_f1)\n",
    "\n",
    "    print(f'For {name}:')\n",
    "    print(f'\\t Mean Accuracy: {mean_accuracy}')\n",
    "    print(f'\\t Mean Precision: {mean_precision}')\n",
    "    print(f'\\t Mean Recall: {mean_recall}')\n",
    "    print(f'\\t Mean F1 Score: {mean_f1}')\n"
   ]
  },
  {
   "cell_type": "code",
   "execution_count": 23,
   "id": "4dac3927",
   "metadata": {},
   "outputs": [
    {
     "data": {
      "text/html": [
       "<div>\n",
       "<style scoped>\n",
       "    .dataframe tbody tr th:only-of-type {\n",
       "        vertical-align: middle;\n",
       "    }\n",
       "\n",
       "    .dataframe tbody tr th {\n",
       "        vertical-align: top;\n",
       "    }\n",
       "\n",
       "    .dataframe thead th {\n",
       "        text-align: right;\n",
       "    }\n",
       "</style>\n",
       "<table border=\"1\" class=\"dataframe\">\n",
       "  <thead>\n",
       "    <tr style=\"text-align: right;\">\n",
       "      <th></th>\n",
       "      <th>Algorithm</th>\n",
       "      <th>Accuracy</th>\n",
       "      <th>Precision</th>\n",
       "      <th>Recall</th>\n",
       "      <th>F1 Score</th>\n",
       "    </tr>\n",
       "  </thead>\n",
       "  <tbody>\n",
       "    <tr>\n",
       "      <th>4</th>\n",
       "      <td>LR</td>\n",
       "      <td>0.958760</td>\n",
       "      <td>0.984127</td>\n",
       "      <td>0.911760</td>\n",
       "      <td>0.946547</td>\n",
       "    </tr>\n",
       "    <tr>\n",
       "      <th>2</th>\n",
       "      <td>BNB</td>\n",
       "      <td>0.956589</td>\n",
       "      <td>0.997436</td>\n",
       "      <td>0.893951</td>\n",
       "      <td>0.942810</td>\n",
       "    </tr>\n",
       "    <tr>\n",
       "      <th>8</th>\n",
       "      <td>ETC</td>\n",
       "      <td>0.955969</td>\n",
       "      <td>0.972875</td>\n",
       "      <td>0.915609</td>\n",
       "      <td>0.943305</td>\n",
       "    </tr>\n",
       "    <tr>\n",
       "      <th>5</th>\n",
       "      <td>RFC</td>\n",
       "      <td>0.951938</td>\n",
       "      <td>0.979742</td>\n",
       "      <td>0.898593</td>\n",
       "      <td>0.937353</td>\n",
       "    </tr>\n",
       "    <tr>\n",
       "      <th>10</th>\n",
       "      <td>XGB</td>\n",
       "      <td>0.949457</td>\n",
       "      <td>0.972423</td>\n",
       "      <td>0.899374</td>\n",
       "      <td>0.934464</td>\n",
       "    </tr>\n",
       "    <tr>\n",
       "      <th>0</th>\n",
       "      <td>SVC</td>\n",
       "      <td>0.947597</td>\n",
       "      <td>0.950537</td>\n",
       "      <td>0.917207</td>\n",
       "      <td>0.933481</td>\n",
       "    </tr>\n",
       "    <tr>\n",
       "      <th>6</th>\n",
       "      <td>AdaBoost</td>\n",
       "      <td>0.929612</td>\n",
       "      <td>0.947698</td>\n",
       "      <td>0.873072</td>\n",
       "      <td>0.908636</td>\n",
       "    </tr>\n",
       "    <tr>\n",
       "      <th>7</th>\n",
       "      <td>BgC</td>\n",
       "      <td>0.927752</td>\n",
       "      <td>0.933292</td>\n",
       "      <td>0.883131</td>\n",
       "      <td>0.907351</td>\n",
       "    </tr>\n",
       "    <tr>\n",
       "      <th>3</th>\n",
       "      <td>DTC</td>\n",
       "      <td>0.926202</td>\n",
       "      <td>0.919486</td>\n",
       "      <td>0.894714</td>\n",
       "      <td>0.906799</td>\n",
       "    </tr>\n",
       "    <tr>\n",
       "      <th>9</th>\n",
       "      <td>GDBT</td>\n",
       "      <td>0.915969</td>\n",
       "      <td>0.971695</td>\n",
       "      <td>0.814262</td>\n",
       "      <td>0.885724</td>\n",
       "    </tr>\n",
       "    <tr>\n",
       "      <th>1</th>\n",
       "      <td>KNN</td>\n",
       "      <td>0.740155</td>\n",
       "      <td>0.997872</td>\n",
       "      <td>0.352139</td>\n",
       "      <td>0.519484</td>\n",
       "    </tr>\n",
       "  </tbody>\n",
       "</table>\n",
       "</div>"
      ],
      "text/plain": [
       "   Algorithm  Accuracy  Precision    Recall  F1 Score\n",
       "4         LR  0.958760   0.984127  0.911760  0.946547\n",
       "2        BNB  0.956589   0.997436  0.893951  0.942810\n",
       "8        ETC  0.955969   0.972875  0.915609  0.943305\n",
       "5        RFC  0.951938   0.979742  0.898593  0.937353\n",
       "10       XGB  0.949457   0.972423  0.899374  0.934464\n",
       "0        SVC  0.947597   0.950537  0.917207  0.933481\n",
       "6   AdaBoost  0.929612   0.947698  0.873072  0.908636\n",
       "7        BgC  0.927752   0.933292  0.883131  0.907351\n",
       "3        DTC  0.926202   0.919486  0.894714  0.906799\n",
       "9       GDBT  0.915969   0.971695  0.814262  0.885724\n",
       "1        KNN  0.740155   0.997872  0.352139  0.519484"
      ]
     },
     "execution_count": 23,
     "metadata": {},
     "output_type": "execute_result"
    }
   ],
   "source": [
    "#CREATE A DATAFRAME TO FOR GRAPHICAL VISUALIZATION\n",
    "model_performance_cv = pd.DataFrame({'Algorithm' : models.keys(), \n",
    "                                  'Accuracy' : accuracy_list_cv, \n",
    "                                  'Precision' : precision_list_cv,\n",
    "                                  'Recall' : recall_list_cv,\n",
    "                                  'F1 Score' : f1_list_cv})\n",
    "model_performance_cv.sort_values('Accuracy', ascending=False)"
   ]
  },
  {
   "cell_type": "markdown",
   "id": "454ceb69",
   "metadata": {},
   "source": [
    "<h1 style=\"font-family: 'Georgia'; font-size: 24px; color: #008000;\">Visualizing Cross Validation Performances</h1>"
   ]
  },
  {
   "cell_type": "code",
   "execution_count": 24,
   "id": "d7cfdc46",
   "metadata": {},
   "outputs": [
    {
     "data": {
      "image/png": "[encoded data removed]",
      "text/plain": [
       "<Figure size 1363.5x500 with 1 Axes>"
      ]
     },
     "metadata": {},
     "output_type": "display_data"
    }
   ],
   "source": [
    "#TO VISUALIZE performance_df1\n",
    "performance_df_cv = pd.melt(model_performance_cv, id_vars=\"Algorithm\")\n",
    "\n",
    "sns.catplot(x='Algorithm', \n",
    "            y='value', \n",
    "            hue='variable', \n",
    "            data=performance_df_cv, \n",
    "            kind='bar', \n",
    "            height=5, \n",
    "            aspect=2.5)  # Adjust the aspect value for width\n",
    "plt.ylim(0.5, 1.0)\n",
    "plt.xticks(rotation=30)\n",
    "plt.show()"
   ]
  },
  {
   "cell_type": "markdown",
   "id": "707e905d",
   "metadata": {},
   "source": [
    "<h1 style=\"font-family: 'Georgia'; font-size: 24px; color: #008000;\">Deciding the Best Model</h1>"
   ]
  },
  {
   "cell_type": "markdown",
   "id": "712dd464",
   "metadata": {},
   "source": [
    "<p style=\"font-family: 'Georgia'; font-size: 16px; font-weight: 800; color: #800040;\">\n",
    "    We will not consider hold out validation results because it's bias. We just want to compare it with cross-validated results that's why it is included in the notebook. Another thing is we will select the best model based on the average of accuracy and precision because the goal of this machine learning project is to build a model with a high level of correctness in predicting both classes.\n",
    "</p>\n",
    "\n",
    "<ul>\n",
    "    <li style=\"font-family: 'Georgia'; font-size: 14px; font-weight: 400; color: #800040;\">Accuracy: Evaluating accuracy ensures that your model correctly predicts both classes, which aligns with your goal of high correctness.</li>\n",
    "    <li style=\"font-family: 'Georgia'; font-size: 14px; font-weight: 400; color: #800040;\"> Precision: Precision focuses on the correctness of positive predictions. By considering precision, you are emphasizing the importance of correctly identifying instances of the positive class. This can be particularly relevant when false positives are costly.</li>\n",
    "</ul>\n"
   ]
  },
  {
   "cell_type": "code",
   "execution_count": 25,
   "id": "ad81fbd9",
   "metadata": {},
   "outputs": [],
   "source": [
    "accuracy_list_cv\n",
    "precision_list_cv\n",
    "\n",
    "def average(i):\n",
    "    return (accuracy_list_cv[i] + precision_list_cv[i])/2\n",
    "\n",
    "def list_average():\n",
    "    averages= []\n",
    "    for i in range (len(accuracy_list_cv)):\n",
    "        avg = average(i)\n",
    "        averages.append([avg, i])\n",
    "    return averages"
   ]
  },
  {
   "cell_type": "code",
   "execution_count": 26,
   "id": "98e42ffd",
   "metadata": {},
   "outputs": [
    {
     "data": {
      "text/plain": [
       "[[0.9770125223613596, 2],\n",
       " [0.9714434363022951, 4],\n",
       " [0.9658398398606873, 5],\n",
       " [0.964422120421587, 8],\n",
       " [0.960939973331926, 10],\n",
       " [0.9490669763803854, 0],\n",
       " [0.9438318056016752, 9],\n",
       " [0.9386550580730779, 6],\n",
       " [0.9305221776610726, 7],\n",
       " [0.9228438957891585, 3],\n",
       " [0.869013689592611, 1]]"
      ]
     },
     "execution_count": 26,
     "metadata": {},
     "output_type": "execute_result"
    }
   ],
   "source": [
    "averages = list_average()\n",
    "sorted(averages, reverse=True)"
   ]
  },
  {
   "cell_type": "markdown",
   "id": "9c320e56",
   "metadata": {},
   "source": [
    "<p style=\"font-family: 'Georgia'; font-size: 14px; font-weight: 800; color: #800040;\">With mean accuracy of 95.66% and mean precision of 99.74%, the element at index position 3 of the accuracy_list_cv corresponds to the best-performing model, which is the Bernoulli Naive Bayes Algorithm (BNB).<p>\n"
   ]
  },
  {
   "cell_type": "code",
   "execution_count": null,
   "id": "4556f1bd",
   "metadata": {},
   "outputs": [],
   "source": []
  },
  {
   "cell_type": "code",
   "execution_count": null,
   "id": "dd5fd833",
   "metadata": {},
   "outputs": [],
   "source": []
  },
  {
   "cell_type": "code",
   "execution_count": null,
   "id": "cb1de9db",
   "metadata": {},
   "outputs": [],
   "source": []
  },
  {
   "cell_type": "code",
   "execution_count": null,
   "id": "d1554a6c",
   "metadata": {},
   "outputs": [],
   "source": []
  },
  {
   "cell_type": "code",
   "execution_count": null,
   "id": "f6033a17",
   "metadata": {},
   "outputs": [],
   "source": []
  },
  {
   "cell_type": "code",
   "execution_count": null,
   "id": "284afce0",
   "metadata": {},
   "outputs": [],
   "source": []
  },
  {
   "cell_type": "code",
   "execution_count": null,
   "id": "5e408596",
   "metadata": {},
   "outputs": [],
   "source": []
  },
  {
   "cell_type": "code",
   "execution_count": null,
   "id": "0bf8f90e",
   "metadata": {},
   "outputs": [],
   "source": []
  },
  {
   "cell_type": "code",
   "execution_count": null,
   "id": "31ee6fee",
   "metadata": {},
   "outputs": [],
   "source": []
  }
 ],
 "metadata": {
  "kernelspec": {
   "display_name": "Python 3 (ipykernel)",
   "language": "python",
   "name": "python3"
  },
  "language_info": {
   "codemirror_mode": {
    "name": "ipython",
    "version": 3
   },
   "file_extension": ".py",
   "mimetype": "text/x-python",
   "name": "python",
   "nbconvert_exporter": "python",
   "pygments_lexer": "ipython3",
   "version": "3.9.16"
  }
 },
 "nbformat": 4,
 "nbformat_minor": 5
}
